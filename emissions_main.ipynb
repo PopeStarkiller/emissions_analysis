{
 "cells": [
  {
   "cell_type": "code",
   "execution_count": 1,
   "metadata": {},
   "outputs": [],
   "source": [
    "import os\n",
    "import config\n",
    "import platform\n",
    "v1, v2, v3 = config.spark_env(platform.node())\n",
    "os.environ['SPARK_VERSION'] = v1\n",
    "os.environ['JAVA_HOME'] = v2\n",
    "os.environ['SPARK_HOME'] = v3\n",
    "import findspark\n",
    "import pyspark\n",
    "from pyspark.sql import SparkSession\n",
    "findspark.init()\n",
    "spark = SparkSession.builder.appName(\"emissionsdataframe\").getOrCreate()\n",
    "from sqlalchemy import create_engine, insert\n",
    "from sqlalchemy.ext.declarative import declarative_base\n",
    "from sqlalchemy import MetaData, update, Table\n",
    "from sqlalchemy.orm import Session\n",
    "from sqlalchemy.orm import sessionmaker\n",
    "from sqlalchemy.exc import SQLAlchemyError\n",
    "import pandas as pd\n",
    "from pyspark.sql.types import IntegerType,BooleanType,DateType\n",
    "from pyspark.sql.functions import col\n",
    "from pyspark.sql import Row\n",
    "from pyspark.sql.functions import array, col, explode, lit, struct, log\n",
    "from pyspark.sql import DataFrame\n",
    "from typing import Iterable\n",
    "import numpy as np\n",
    "import spark_functions\n",
    "import tensorflow as tf\n",
    "import keras.metrics\n",
    "import pyspark.sql.functions as F\n",
    "import math\n",
    "from sklearn.preprocessing import StandardScaler\n",
    "from sklearn.metrics import confusion_matrix\n",
    "import seaborn as sns\n",
    "import pystan\n",
    "import fbprophet\n",
    "from tensorflow.keras.models import Sequential\n",
    "from tensorflow.keras.layers import Dense\n",
    "import matplotlib.pyplot as plt\n",
    "from fbprophet import Prophet\n",
    "from sklearn.model_selection import train_test_split\n",
    "import scipy.stats as st\n",
    "rds_string = config.rds_string\n",
    "engine = create_engine(f'postgresql://{rds_string}')\n",
    "conn = engine.connect()\n",
    "metadata = MetaData(engine)"
   ]
  },
  {
   "cell_type": "code",
   "execution_count": 2,
   "metadata": {},
   "outputs": [],
   "source": [
    "india_spark, india_cols = spark_functions.merged_df(\"India\")"
   ]
  },
  {
   "cell_type": "code",
   "execution_count": 3,
   "metadata": {},
   "outputs": [],
   "source": [
    "china_spark, china_cols = spark_functions.merged_df(\"China\")"
   ]
  },
  {
   "cell_type": "code",
   "execution_count": 4,
   "metadata": {},
   "outputs": [],
   "source": [
    "germany_spark, germany_cols = spark_functions.merged_df(\"Germany\")"
   ]
  },
  {
   "cell_type": "code",
   "execution_count": 5,
   "metadata": {},
   "outputs": [],
   "source": [
    "france_spark, france_cols = spark_functions.merged_df(\"France\")"
   ]
  },
  {
   "cell_type": "code",
   "execution_count": 6,
   "metadata": {},
   "outputs": [],
   "source": [
    "mexico_spark, mexico_cols = spark_functions.merged_df(\"Mexico\")"
   ]
  },
  {
   "cell_type": "code",
   "execution_count": 7,
   "metadata": {},
   "outputs": [],
   "source": [
    "us_spark, us_cols = spark_functions.merged_df(\"United States\")"
   ]
  },
  {
   "cell_type": "code",
   "execution_count": 8,
   "metadata": {},
   "outputs": [],
   "source": [
    "def unions_spark(dfs):\n",
    "    steve = len(dfs)\n",
    "    df = dfs[0]\n",
    "    for i in range(steve - 1):\n",
    "        df = df.union(dfs[i+1])\n",
    "    return df"
   ]
  },
  {
   "cell_type": "code",
   "execution_count": 9,
   "metadata": {},
   "outputs": [],
   "source": [
    "dfs = [india_spark,china_spark,mexico_spark,us_spark, germany_spark, france_spark]"
   ]
  },
  {
   "cell_type": "code",
   "execution_count": 10,
   "metadata": {},
   "outputs": [],
   "source": [
    "df = unions_spark(dfs)"
   ]
  },
  {
   "cell_type": "code",
   "execution_count": 31,
   "metadata": {},
   "outputs": [
    {
     "name": "stdout",
     "output_type": "stream",
     "text": [
      "+-------+----+-----------+-------------------------------+------------------------+------------------------+-----------------------+------------------------+------------------------+-----------------------+\n",
      "|country|year|        gdp|annual_co2_emissions_tonnes_log|import_trade_sum_usd_log|import_weight_sum_kg_log|import_quantity_sum_log|export_trade_sum_usd_log|export_weight_sum_kg_log|export_quantity_sum_log|\n",
      "+-------+----+-----------+-------------------------------+------------------------+------------------------+-----------------------+------------------------+------------------------+-----------------------+\n",
      "|  India|1990|1236.671208|              8.789988798360971|       10.56921022440232|      10.516128658135623|     10.559694467531761|      10.442299149026965|      10.584062642967528|     10.651345808860839|\n",
      "|  India|1991|1265.917481|              8.817394059089324|      10.492238657775735|      10.534357164763499|     10.582458783131665|       10.43822854825847|      10.566042480102785|     10.598200375938783|\n",
      "|  India|1992|1338.664595|              8.844326140323963|       10.59200606021819|      10.630317046986512|     10.677604009106313|      10.497905230934448|       10.47366217538878|     10.530304342148288|\n",
      "|  India|1993|1407.473802|              8.859074775970095|      10.574484131555662|      10.656060062006041|     10.704207821408726|      10.525181635197605|      10.559505939194732|     10.606903012135481|\n",
      "|  India|1994|1503.745417|              8.883230882352398|      10.647015324620607|      10.688057923819668|     10.729225757206555|      10.588815207460314|      10.542497048054182|     10.571443293826968|\n",
      "|  India|1995|1620.175387|              8.909267537892923|      10.748773279558145|      10.706837988778865|     10.746699934581331|      10.675277969456669|      10.670137141480732|     10.690772629689231|\n",
      "|  India|1996|1741.084404|              8.943903373639804|      10.791256534619318|      10.829026423782224|     10.866402919073494|      10.691042527110472|       10.55327693561988|     10.602692940422012|\n",
      "|  India|1997|1808.708364|              8.961444499297814|       10.81454420085744|      10.934126811593652|      10.96681383222063|      10.707568828633349|       10.64030006577298|     10.676403981392454|\n",
      "|  India|1998|  1906.7799|               8.97013723814651|      10.837057831266655|      11.038962923282194|     11.088677776602934|      10.694012387959917|      10.552023417987488|     10.601218444190284|\n",
      "|  India|1999|2067.740994|              8.997924799194358|      10.919021914415483|      12.321163773100343|     12.323333381566988|      10.734406119613892|      10.416385733202464|     10.498605644851853|\n",
      "|  India|2000|2156.689919|              9.012684460687952|      10.948458971917148|      11.269073808613685|     11.269193779864384|      10.791196533368554|      10.792670070076841|     10.795004803604828|\n",
      "|  India|2001|2270.718563|              9.015209115457282|      10.919507633317089|      11.074979309977161|      11.07561632356126|      10.811423236494283|      10.673555475789884|     10.674650114864285|\n",
      "|  India|2002|  2354.2651|              9.020193686822093|      10.971074199407258|      11.112569387672181|     11.113176128894926|      10.869291191853748|       11.02587514012789|     11.026518823685272|\n",
      "|  India|2003|2544.112251|              9.038172130403845|      11.068607530449029|      11.282783462250373|     11.283063070825369|      10.941438098031098|      10.926930176706513|      10.92729761977759|\n",
      "|  India|2004|2774.420858|               9.05901224279537|      11.206358849337873|       11.17551552446062|     11.176056118010457|      11.052275762847476|      11.004672720522462|     11.005602032614751|\n",
      "|  India|2005|3039.128698|              9.082837650123599|       11.35868500225158|      11.252852190483388|     11.252638417380656|      11.177173288124639|      11.163533758565157|      11.16380471796236|\n",
      "|  India|2006|3331.592127|               9.10962889481253|       11.46332797711513|      11.302105273411627|     11.298444952093757|      11.259603281947678|       11.19510864191773|     11.195494360643458|\n",
      "|  India|2007|3628.001338|              9.143093994286707|       11.54552260741108|      11.347484329157655|     11.348217157440994|      11.348081369588414|      11.190827993862246|     11.190815041963708|\n",
      "|  India|2008|3757.289184|              9.189768442313207|      11.722763348633668|       11.39505969873626|      11.39553084056145|      11.447746020249399|      11.163180713787101|     11.162024261798654|\n",
      "|  India|2009|4026.380833|              9.235558886853967|      11.635717689085597|      11.448466774677524|     11.449300233347781|      11.444002609547974|      11.241895546409888|      11.26664951315415|\n",
      "+-------+----+-----------+-------------------------------+------------------------+------------------------+-----------------------+------------------------+------------------------+-----------------------+\n",
      "only showing top 20 rows\n",
      "\n"
     ]
    }
   ],
   "source": [
    "df.show()"
   ]
  },
  {
   "cell_type": "code",
   "execution_count": 11,
   "metadata": {},
   "outputs": [],
   "source": [
    "x_cols = [\n",
    " 'gdp',\n",
    " 'import_trade_sum_usd_log',\n",
    " 'import_weight_sum_kg_log',\n",
    " 'import_quantity_sum_log',\n",
    " 'export_trade_sum_usd_log',\n",
    " 'export_weight_sum_kg_log',\n",
    " 'export_quantity_sum_log']"
   ]
  },
  {
   "cell_type": "code",
   "execution_count": 12,
   "metadata": {},
   "outputs": [],
   "source": [
    "arr = np.array(df.select(\n",
    " 'gdp',\n",
    " 'import_trade_sum_usd_log',\n",
    " 'import_weight_sum_kg_log',\n",
    " 'import_quantity_sum_log',\n",
    " 'export_trade_sum_usd_log',\n",
    " 'export_weight_sum_kg_log',\n",
    " 'export_quantity_sum_log') \\\n",
    ".collect(),dtype = 'float')"
   ]
  },
  {
   "cell_type": "code",
   "execution_count": 13,
   "metadata": {},
   "outputs": [],
   "source": [
    "arr2 = np.array(df.select('annual_co2_emissions_tonnes_log').collect(),dtype = 'float')"
   ]
  },
  {
   "cell_type": "code",
   "execution_count": 14,
   "metadata": {},
   "outputs": [],
   "source": []
  },
  {
   "cell_type": "code",
   "execution_count": 15,
   "metadata": {},
   "outputs": [],
   "source": [
    "X_train, X_test, y_train, y_test = train_test_split(arr, arr2, test_size=0.2)\n",
    "X_test, X_val, y_test, y_val = train_test_split(X_test, y_test, test_size=0.2)"
   ]
  },
  {
   "cell_type": "code",
   "execution_count": 16,
   "metadata": {},
   "outputs": [],
   "source": [
    "X_scaler = StandardScaler().fit(X_train)"
   ]
  },
  {
   "cell_type": "code",
   "execution_count": 17,
   "metadata": {},
   "outputs": [],
   "source": [
    "X_train_scaled = X_scaler.transform(X_train)\n",
    "X_test_scaled = X_scaler.transform(X_test)\n",
    "X_val_scaled = X_scaler.transform(X_val)"
   ]
  },
  {
   "cell_type": "code",
   "execution_count": 18,
   "metadata": {},
   "outputs": [],
   "source": [
    "model = Sequential()\n",
    "model.add(Dense(units=100, activation='relu', input_dim=7))\n",
    "model.add(Dense(units=100, activation='relu'))\n",
    "model.add(Dense(units=100, activation='ReLU'))\n",
    "model.add(Dense(units=100, activation='PReLU'))\n",
    "model.add(Dense(units=100, activation='swish'))\n",
    "model.add(Dense(units=1, activation='linear'))"
   ]
  },
  {
   "cell_type": "code",
   "execution_count": 19,
   "metadata": {},
   "outputs": [
    {
     "name": "stdout",
     "output_type": "stream",
     "text": [
      "Model: \"sequential\"\n",
      "_________________________________________________________________\n",
      "Layer (type)                 Output Shape              Param #   \n",
      "=================================================================\n",
      "dense (Dense)                (None, 100)               800       \n",
      "_________________________________________________________________\n",
      "dense_1 (Dense)              (None, 100)               10100     \n",
      "_________________________________________________________________\n",
      "dense_2 (Dense)              (None, 100)               10100     \n",
      "_________________________________________________________________\n",
      "dense_3 (Dense)              (None, 100)               10200     \n",
      "_________________________________________________________________\n",
      "dense_4 (Dense)              (None, 100)               10100     \n",
      "_________________________________________________________________\n",
      "dense_5 (Dense)              (None, 1)                 101       \n",
      "=================================================================\n",
      "Total params: 41,401\n",
      "Trainable params: 41,401\n",
      "Non-trainable params: 0\n",
      "_________________________________________________________________\n"
     ]
    }
   ],
   "source": [
    "model.summary()"
   ]
  },
  {
   "cell_type": "code",
   "execution_count": 20,
   "metadata": {},
   "outputs": [],
   "source": [
    "METRICS = [\n",
    "      keras.metrics.MeanAbsoluteError(name='mean_absolute_error'),\n",
    "      keras.metrics.MeanSquaredError(name='mean_squared_error')\n",
    "]\n",
    "\n",
    "\n",
    "early_stopping = tf.keras.callbacks.EarlyStopping(\n",
    "    monitor='mse', \n",
    "    verbose=1,\n",
    "    patience=10,\n",
    "    mode='max',\n",
    "    restore_best_weights=True)\n",
    "\n",
    "EPOCHS = 100"
   ]
  },
  {
   "cell_type": "code",
   "execution_count": 21,
   "metadata": {},
   "outputs": [],
   "source": [
    "model.compile(optimizer='adam',\n",
    "              loss='mse',\n",
    "              metrics=METRICS)"
   ]
  },
  {
   "cell_type": "code",
   "execution_count": 22,
   "metadata": {},
   "outputs": [
    {
     "name": "stdout",
     "output_type": "stream",
     "text": [
      "Epoch 1/100\n",
      "4/4 [==============================] - 1s 49ms/step - loss: 79.2909 - mean_absolute_error: 8.8946 - mean_squared_error: 79.2909 - val_loss: 73.2393 - val_mean_absolute_error: 8.5410 - val_mean_squared_error: 73.2393\n",
      "Epoch 2/100\n",
      "4/4 [==============================] - 0s 9ms/step - loss: 69.7880 - mean_absolute_error: 8.3380 - mean_squared_error: 69.7880 - val_loss: 59.0914 - val_mean_absolute_error: 7.6290 - val_mean_squared_error: 59.0914\n",
      "Epoch 3/100\n",
      "4/4 [==============================] - 0s 9ms/step - loss: 52.6384 - mean_absolute_error: 7.1721 - mean_squared_error: 52.6384 - val_loss: 37.4679 - val_mean_absolute_error: 5.7527 - val_mean_squared_error: 37.4679\n",
      "Epoch 4/100\n",
      "4/4 [==============================] - 0s 10ms/step - loss: 29.5322 - mean_absolute_error: 5.0786 - mean_squared_error: 29.5322 - val_loss: 24.0115 - val_mean_absolute_error: 4.5291 - val_mean_squared_error: 24.0115\n",
      "Epoch 5/100\n",
      "4/4 [==============================] - 0s 9ms/step - loss: 20.9294 - mean_absolute_error: 3.7995 - mean_squared_error: 20.9294 - val_loss: 33.9716 - val_mean_absolute_error: 4.6817 - val_mean_squared_error: 33.9716\n",
      "Epoch 6/100\n",
      "4/4 [==============================] - 0s 9ms/step - loss: 16.1203 - mean_absolute_error: 3.2626 - mean_squared_error: 16.1203 - val_loss: 17.8074 - val_mean_absolute_error: 3.7156 - val_mean_squared_error: 17.8074\n",
      "Epoch 7/100\n",
      "4/4 [==============================] - 0s 10ms/step - loss: 10.0607 - mean_absolute_error: 2.6891 - mean_squared_error: 10.0607 - val_loss: 11.5275 - val_mean_absolute_error: 2.9717 - val_mean_squared_error: 11.5275\n",
      "Epoch 8/100\n",
      "4/4 [==============================] - 0s 10ms/step - loss: 9.0485 - mean_absolute_error: 2.5322 - mean_squared_error: 9.0485 - val_loss: 9.3675 - val_mean_absolute_error: 2.6390 - val_mean_squared_error: 9.3675\n",
      "Epoch 9/100\n",
      "4/4 [==============================] - 0s 10ms/step - loss: 7.6459 - mean_absolute_error: 2.3018 - mean_squared_error: 7.6459 - val_loss: 7.5014 - val_mean_absolute_error: 2.4598 - val_mean_squared_error: 7.5014\n",
      "Epoch 10/100\n",
      "4/4 [==============================] - 0s 10ms/step - loss: 5.6966 - mean_absolute_error: 1.9937 - mean_squared_error: 5.6966 - val_loss: 7.1267 - val_mean_absolute_error: 2.3395 - val_mean_squared_error: 7.1267\n",
      "Epoch 11/100\n",
      "4/4 [==============================] - 0s 10ms/step - loss: 5.2863 - mean_absolute_error: 1.9297 - mean_squared_error: 5.2863 - val_loss: 5.7504 - val_mean_absolute_error: 2.1271 - val_mean_squared_error: 5.7504\n",
      "Epoch 12/100\n",
      "4/4 [==============================] - 0s 9ms/step - loss: 4.5127 - mean_absolute_error: 1.7665 - mean_squared_error: 4.5127 - val_loss: 4.6821 - val_mean_absolute_error: 1.9914 - val_mean_squared_error: 4.6821\n",
      "Epoch 13/100\n",
      "4/4 [==============================] - 0s 9ms/step - loss: 4.0213 - mean_absolute_error: 1.6113 - mean_squared_error: 4.0213 - val_loss: 4.1381 - val_mean_absolute_error: 1.8668 - val_mean_squared_error: 4.1381\n",
      "Epoch 14/100\n",
      "4/4 [==============================] - 0s 9ms/step - loss: 3.5182 - mean_absolute_error: 1.5068 - mean_squared_error: 3.5182 - val_loss: 3.4889 - val_mean_absolute_error: 1.6989 - val_mean_squared_error: 3.4889\n",
      "Epoch 15/100\n",
      "4/4 [==============================] - 0s 9ms/step - loss: 3.1430 - mean_absolute_error: 1.4284 - mean_squared_error: 3.1430 - val_loss: 2.9663 - val_mean_absolute_error: 1.5147 - val_mean_squared_error: 2.9663\n",
      "Epoch 16/100\n",
      "4/4 [==============================] - 0s 10ms/step - loss: 2.7520 - mean_absolute_error: 1.3169 - mean_squared_error: 2.7520 - val_loss: 2.5159 - val_mean_absolute_error: 1.3987 - val_mean_squared_error: 2.5159\n",
      "Epoch 17/100\n",
      "4/4 [==============================] - 0s 11ms/step - loss: 2.4544 - mean_absolute_error: 1.2333 - mean_squared_error: 2.4544 - val_loss: 2.2312 - val_mean_absolute_error: 1.2822 - val_mean_squared_error: 2.2312\n",
      "Epoch 18/100\n",
      "4/4 [==============================] - 0s 10ms/step - loss: 2.1851 - mean_absolute_error: 1.1643 - mean_squared_error: 2.1851 - val_loss: 1.9293 - val_mean_absolute_error: 1.1699 - val_mean_squared_error: 1.9293\n",
      "Epoch 19/100\n",
      "4/4 [==============================] - 0s 10ms/step - loss: 1.8772 - mean_absolute_error: 1.0667 - mean_squared_error: 1.8772 - val_loss: 1.7099 - val_mean_absolute_error: 1.1083 - val_mean_squared_error: 1.7099\n",
      "Epoch 20/100\n",
      "4/4 [==============================] - 0s 9ms/step - loss: 1.6408 - mean_absolute_error: 0.9826 - mean_squared_error: 1.6408 - val_loss: 1.5180 - val_mean_absolute_error: 1.0437 - val_mean_squared_error: 1.5180\n",
      "Epoch 21/100\n",
      "4/4 [==============================] - 0s 9ms/step - loss: 1.4021 - mean_absolute_error: 0.9087 - mean_squared_error: 1.4021 - val_loss: 1.3069 - val_mean_absolute_error: 0.9752 - val_mean_squared_error: 1.3069\n",
      "Epoch 22/100\n",
      "4/4 [==============================] - 0s 9ms/step - loss: 1.1738 - mean_absolute_error: 0.8228 - mean_squared_error: 1.1738 - val_loss: 1.1047 - val_mean_absolute_error: 0.8729 - val_mean_squared_error: 1.1047\n",
      "Epoch 23/100\n",
      "4/4 [==============================] - 0s 10ms/step - loss: 0.9904 - mean_absolute_error: 0.7518 - mean_squared_error: 0.9904 - val_loss: 0.9297 - val_mean_absolute_error: 0.7834 - val_mean_squared_error: 0.9297\n",
      "Epoch 24/100\n",
      "4/4 [==============================] - 0s 9ms/step - loss: 0.8417 - mean_absolute_error: 0.6910 - mean_squared_error: 0.8417 - val_loss: 0.8139 - val_mean_absolute_error: 0.7246 - val_mean_squared_error: 0.8139\n",
      "Epoch 25/100\n",
      "4/4 [==============================] - 0s 9ms/step - loss: 0.6965 - mean_absolute_error: 0.6193 - mean_squared_error: 0.6965 - val_loss: 0.6860 - val_mean_absolute_error: 0.6560 - val_mean_squared_error: 0.6860\n",
      "Epoch 26/100\n",
      "4/4 [==============================] - 0s 9ms/step - loss: 0.5678 - mean_absolute_error: 0.5605 - mean_squared_error: 0.5678 - val_loss: 0.5603 - val_mean_absolute_error: 0.5949 - val_mean_squared_error: 0.5603\n",
      "Epoch 27/100\n",
      "4/4 [==============================] - 0s 9ms/step - loss: 0.4647 - mean_absolute_error: 0.5041 - mean_squared_error: 0.4647 - val_loss: 0.4783 - val_mean_absolute_error: 0.5589 - val_mean_squared_error: 0.4783\n",
      "Epoch 28/100\n",
      "4/4 [==============================] - 0s 9ms/step - loss: 0.3872 - mean_absolute_error: 0.4614 - mean_squared_error: 0.3872 - val_loss: 0.4350 - val_mean_absolute_error: 0.5336 - val_mean_squared_error: 0.4350\n",
      "Epoch 29/100\n",
      "4/4 [==============================] - 0s 9ms/step - loss: 0.3224 - mean_absolute_error: 0.4336 - mean_squared_error: 0.3224 - val_loss: 0.3745 - val_mean_absolute_error: 0.4910 - val_mean_squared_error: 0.3745\n",
      "Epoch 30/100\n",
      "4/4 [==============================] - 0s 10ms/step - loss: 0.2683 - mean_absolute_error: 0.4020 - mean_squared_error: 0.2683 - val_loss: 0.3455 - val_mean_absolute_error: 0.4768 - val_mean_squared_error: 0.3455\n",
      "Epoch 31/100\n",
      "4/4 [==============================] - 0s 9ms/step - loss: 0.2284 - mean_absolute_error: 0.3674 - mean_squared_error: 0.2284 - val_loss: 0.3102 - val_mean_absolute_error: 0.4515 - val_mean_squared_error: 0.3102\n",
      "Epoch 32/100\n",
      "4/4 [==============================] - 0s 9ms/step - loss: 0.1970 - mean_absolute_error: 0.3380 - mean_squared_error: 0.1970 - val_loss: 0.2705 - val_mean_absolute_error: 0.4173 - val_mean_squared_error: 0.2705\n",
      "Epoch 33/100\n",
      "4/4 [==============================] - 0s 10ms/step - loss: 0.1717 - mean_absolute_error: 0.3168 - mean_squared_error: 0.1717 - val_loss: 0.2117 - val_mean_absolute_error: 0.3698 - val_mean_squared_error: 0.2117\n",
      "Epoch 34/100\n",
      "4/4 [==============================] - 0s 9ms/step - loss: 0.1470 - mean_absolute_error: 0.2968 - mean_squared_error: 0.1470 - val_loss: 0.2461 - val_mean_absolute_error: 0.4040 - val_mean_squared_error: 0.2461\n",
      "Epoch 35/100\n",
      "4/4 [==============================] - 0s 9ms/step - loss: 0.1294 - mean_absolute_error: 0.2762 - mean_squared_error: 0.1294 - val_loss: 0.2201 - val_mean_absolute_error: 0.3819 - val_mean_squared_error: 0.2201\n",
      "Epoch 36/100\n",
      "4/4 [==============================] - 0s 10ms/step - loss: 0.1135 - mean_absolute_error: 0.2633 - mean_squared_error: 0.1135 - val_loss: 0.1767 - val_mean_absolute_error: 0.3362 - val_mean_squared_error: 0.1767\n",
      "Epoch 37/100\n"
     ]
    },
    {
     "name": "stdout",
     "output_type": "stream",
     "text": [
      "4/4 [==============================] - 0s 9ms/step - loss: 0.1038 - mean_absolute_error: 0.2460 - mean_squared_error: 0.1038 - val_loss: 0.1970 - val_mean_absolute_error: 0.3621 - val_mean_squared_error: 0.1970\n",
      "Epoch 38/100\n",
      "4/4 [==============================] - 0s 10ms/step - loss: 0.0923 - mean_absolute_error: 0.2307 - mean_squared_error: 0.0923 - val_loss: 0.1560 - val_mean_absolute_error: 0.3120 - val_mean_squared_error: 0.1560\n",
      "Epoch 39/100\n",
      "4/4 [==============================] - 0s 10ms/step - loss: 0.0882 - mean_absolute_error: 0.2299 - mean_squared_error: 0.0882 - val_loss: 0.1680 - val_mean_absolute_error: 0.3274 - val_mean_squared_error: 0.1680\n",
      "Epoch 40/100\n",
      "4/4 [==============================] - 0s 10ms/step - loss: 0.0758 - mean_absolute_error: 0.2125 - mean_squared_error: 0.0758 - val_loss: 0.1392 - val_mean_absolute_error: 0.2972 - val_mean_squared_error: 0.1392\n",
      "Epoch 41/100\n",
      "4/4 [==============================] - 0s 10ms/step - loss: 0.0733 - mean_absolute_error: 0.2085 - mean_squared_error: 0.0733 - val_loss: 0.1432 - val_mean_absolute_error: 0.3083 - val_mean_squared_error: 0.1432\n",
      "Epoch 42/100\n",
      "4/4 [==============================] - 0s 10ms/step - loss: 0.0657 - mean_absolute_error: 0.1955 - mean_squared_error: 0.0657 - val_loss: 0.1303 - val_mean_absolute_error: 0.2930 - val_mean_squared_error: 0.1303\n",
      "Epoch 43/100\n",
      "4/4 [==============================] - 0s 10ms/step - loss: 0.0640 - mean_absolute_error: 0.1921 - mean_squared_error: 0.0640 - val_loss: 0.1277 - val_mean_absolute_error: 0.2883 - val_mean_squared_error: 0.1277\n",
      "Epoch 44/100\n",
      "4/4 [==============================] - 0s 9ms/step - loss: 0.0576 - mean_absolute_error: 0.1827 - mean_squared_error: 0.0576 - val_loss: 0.1165 - val_mean_absolute_error: 0.2697 - val_mean_squared_error: 0.1165\n",
      "Epoch 45/100\n",
      "4/4 [==============================] - 0s 11ms/step - loss: 0.0551 - mean_absolute_error: 0.1776 - mean_squared_error: 0.0551 - val_loss: 0.1440 - val_mean_absolute_error: 0.3117 - val_mean_squared_error: 0.1440\n",
      "Epoch 46/100\n",
      "4/4 [==============================] - 0s 9ms/step - loss: 0.0518 - mean_absolute_error: 0.1703 - mean_squared_error: 0.0518 - val_loss: 0.1018 - val_mean_absolute_error: 0.2466 - val_mean_squared_error: 0.1018\n",
      "Epoch 47/100\n",
      "4/4 [==============================] - 0s 9ms/step - loss: 0.0496 - mean_absolute_error: 0.1652 - mean_squared_error: 0.0496 - val_loss: 0.1246 - val_mean_absolute_error: 0.2865 - val_mean_squared_error: 0.1246\n",
      "Epoch 48/100\n",
      "4/4 [==============================] - 0s 9ms/step - loss: 0.0448 - mean_absolute_error: 0.1599 - mean_squared_error: 0.0448 - val_loss: 0.1086 - val_mean_absolute_error: 0.2644 - val_mean_squared_error: 0.1086\n",
      "Epoch 49/100\n",
      "4/4 [==============================] - 0s 9ms/step - loss: 0.0429 - mean_absolute_error: 0.1544 - mean_squared_error: 0.0429 - val_loss: 0.1010 - val_mean_absolute_error: 0.2552 - val_mean_squared_error: 0.1010\n",
      "Epoch 50/100\n",
      "4/4 [==============================] - 0s 10ms/step - loss: 0.0431 - mean_absolute_error: 0.1519 - mean_squared_error: 0.0431 - val_loss: 0.0907 - val_mean_absolute_error: 0.2403 - val_mean_squared_error: 0.0907\n",
      "Epoch 51/100\n",
      "4/4 [==============================] - 0s 9ms/step - loss: 0.0397 - mean_absolute_error: 0.1521 - mean_squared_error: 0.0397 - val_loss: 0.1108 - val_mean_absolute_error: 0.2721 - val_mean_squared_error: 0.1108\n",
      "Epoch 52/100\n",
      "4/4 [==============================] - 0s 9ms/step - loss: 0.0436 - mean_absolute_error: 0.1566 - mean_squared_error: 0.0436 - val_loss: 0.1093 - val_mean_absolute_error: 0.2606 - val_mean_squared_error: 0.1093\n",
      "Epoch 53/100\n",
      "4/4 [==============================] - 0s 9ms/step - loss: 0.0388 - mean_absolute_error: 0.1463 - mean_squared_error: 0.0388 - val_loss: 0.0880 - val_mean_absolute_error: 0.2381 - val_mean_squared_error: 0.0880\n",
      "Epoch 54/100\n",
      "4/4 [==============================] - 0s 9ms/step - loss: 0.0404 - mean_absolute_error: 0.1527 - mean_squared_error: 0.0404 - val_loss: 0.0871 - val_mean_absolute_error: 0.2377 - val_mean_squared_error: 0.0871\n",
      "Epoch 55/100\n",
      "4/4 [==============================] - 0s 9ms/step - loss: 0.0359 - mean_absolute_error: 0.1434 - mean_squared_error: 0.0359 - val_loss: 0.0856 - val_mean_absolute_error: 0.2348 - val_mean_squared_error: 0.0856\n",
      "Epoch 56/100\n",
      "4/4 [==============================] - 0s 9ms/step - loss: 0.0342 - mean_absolute_error: 0.1399 - mean_squared_error: 0.0342 - val_loss: 0.0936 - val_mean_absolute_error: 0.2458 - val_mean_squared_error: 0.0936\n",
      "Epoch 57/100\n",
      "4/4 [==============================] - 0s 9ms/step - loss: 0.0337 - mean_absolute_error: 0.1355 - mean_squared_error: 0.0337 - val_loss: 0.0709 - val_mean_absolute_error: 0.2037 - val_mean_squared_error: 0.0709\n",
      "Epoch 58/100\n",
      "4/4 [==============================] - 0s 9ms/step - loss: 0.0326 - mean_absolute_error: 0.1301 - mean_squared_error: 0.0326 - val_loss: 0.0992 - val_mean_absolute_error: 0.2532 - val_mean_squared_error: 0.0992\n",
      "Epoch 59/100\n",
      "4/4 [==============================] - 0s 9ms/step - loss: 0.0302 - mean_absolute_error: 0.1275 - mean_squared_error: 0.0302 - val_loss: 0.0714 - val_mean_absolute_error: 0.2099 - val_mean_squared_error: 0.0714\n",
      "Epoch 60/100\n",
      "4/4 [==============================] - 0s 11ms/step - loss: 0.0296 - mean_absolute_error: 0.1257 - mean_squared_error: 0.0296 - val_loss: 0.0703 - val_mean_absolute_error: 0.2107 - val_mean_squared_error: 0.0703\n",
      "Epoch 61/100\n",
      "4/4 [==============================] - 0s 10ms/step - loss: 0.0296 - mean_absolute_error: 0.1241 - mean_squared_error: 0.0296 - val_loss: 0.0820 - val_mean_absolute_error: 0.2245 - val_mean_squared_error: 0.0820\n",
      "Epoch 62/100\n",
      "4/4 [==============================] - 0s 10ms/step - loss: 0.0287 - mean_absolute_error: 0.1233 - mean_squared_error: 0.0287 - val_loss: 0.0777 - val_mean_absolute_error: 0.2189 - val_mean_squared_error: 0.0777\n",
      "Epoch 63/100\n",
      "4/4 [==============================] - 0s 10ms/step - loss: 0.0271 - mean_absolute_error: 0.1193 - mean_squared_error: 0.0271 - val_loss: 0.0795 - val_mean_absolute_error: 0.2231 - val_mean_squared_error: 0.0795\n",
      "Epoch 64/100\n",
      "4/4 [==============================] - 0s 10ms/step - loss: 0.0264 - mean_absolute_error: 0.1192 - mean_squared_error: 0.0264 - val_loss: 0.0713 - val_mean_absolute_error: 0.2113 - val_mean_squared_error: 0.0713\n",
      "Epoch 65/100\n",
      "4/4 [==============================] - 0s 9ms/step - loss: 0.0260 - mean_absolute_error: 0.1165 - mean_squared_error: 0.0260 - val_loss: 0.0706 - val_mean_absolute_error: 0.2124 - val_mean_squared_error: 0.0706\n",
      "Epoch 66/100\n",
      "4/4 [==============================] - 0s 9ms/step - loss: 0.0246 - mean_absolute_error: 0.1138 - mean_squared_error: 0.0246 - val_loss: 0.0653 - val_mean_absolute_error: 0.1974 - val_mean_squared_error: 0.0653\n",
      "Epoch 67/100\n",
      "4/4 [==============================] - 0s 9ms/step - loss: 0.0248 - mean_absolute_error: 0.1132 - mean_squared_error: 0.0248 - val_loss: 0.0800 - val_mean_absolute_error: 0.2203 - val_mean_squared_error: 0.0800\n",
      "Epoch 68/100\n",
      "4/4 [==============================] - 0s 9ms/step - loss: 0.0250 - mean_absolute_error: 0.1141 - mean_squared_error: 0.0250 - val_loss: 0.0705 - val_mean_absolute_error: 0.2057 - val_mean_squared_error: 0.0705\n",
      "Epoch 69/100\n",
      "4/4 [==============================] - 0s 9ms/step - loss: 0.0242 - mean_absolute_error: 0.1142 - mean_squared_error: 0.0242 - val_loss: 0.0660 - val_mean_absolute_error: 0.2026 - val_mean_squared_error: 0.0660\n",
      "Epoch 70/100\n",
      "4/4 [==============================] - 0s 9ms/step - loss: 0.0233 - mean_absolute_error: 0.1130 - mean_squared_error: 0.0233 - val_loss: 0.0649 - val_mean_absolute_error: 0.2003 - val_mean_squared_error: 0.0649\n",
      "Epoch 71/100\n",
      "4/4 [==============================] - 0s 9ms/step - loss: 0.0224 - mean_absolute_error: 0.1056 - mean_squared_error: 0.0224 - val_loss: 0.0626 - val_mean_absolute_error: 0.1941 - val_mean_squared_error: 0.0626\n",
      "Epoch 72/100\n",
      "4/4 [==============================] - 0s 9ms/step - loss: 0.0213 - mean_absolute_error: 0.1049 - mean_squared_error: 0.0213 - val_loss: 0.0767 - val_mean_absolute_error: 0.2166 - val_mean_squared_error: 0.0767\n",
      "Epoch 73/100\n"
     ]
    },
    {
     "name": "stdout",
     "output_type": "stream",
     "text": [
      "4/4 [==============================] - 0s 9ms/step - loss: 0.0214 - mean_absolute_error: 0.1054 - mean_squared_error: 0.0214 - val_loss: 0.0656 - val_mean_absolute_error: 0.1949 - val_mean_squared_error: 0.0656\n",
      "Epoch 74/100\n",
      "4/4 [==============================] - 0s 9ms/step - loss: 0.0208 - mean_absolute_error: 0.1045 - mean_squared_error: 0.0208 - val_loss: 0.0679 - val_mean_absolute_error: 0.2053 - val_mean_squared_error: 0.0679\n",
      "Epoch 75/100\n",
      "4/4 [==============================] - 0s 9ms/step - loss: 0.0206 - mean_absolute_error: 0.1044 - mean_squared_error: 0.0206 - val_loss: 0.0673 - val_mean_absolute_error: 0.2053 - val_mean_squared_error: 0.0673\n",
      "Epoch 76/100\n",
      "4/4 [==============================] - 0s 9ms/step - loss: 0.0201 - mean_absolute_error: 0.1030 - mean_squared_error: 0.0201 - val_loss: 0.0609 - val_mean_absolute_error: 0.1933 - val_mean_squared_error: 0.0609\n",
      "Epoch 77/100\n",
      "4/4 [==============================] - 0s 9ms/step - loss: 0.0193 - mean_absolute_error: 0.1022 - mean_squared_error: 0.0193 - val_loss: 0.0627 - val_mean_absolute_error: 0.1943 - val_mean_squared_error: 0.0627\n",
      "Epoch 78/100\n",
      "4/4 [==============================] - 0s 9ms/step - loss: 0.0186 - mean_absolute_error: 0.0963 - mean_squared_error: 0.0186 - val_loss: 0.0617 - val_mean_absolute_error: 0.1893 - val_mean_squared_error: 0.0617\n",
      "Epoch 79/100\n",
      "4/4 [==============================] - 0s 9ms/step - loss: 0.0177 - mean_absolute_error: 0.0936 - mean_squared_error: 0.0177 - val_loss: 0.0689 - val_mean_absolute_error: 0.2017 - val_mean_squared_error: 0.0689\n",
      "Epoch 80/100\n",
      "4/4 [==============================] - 0s 9ms/step - loss: 0.0183 - mean_absolute_error: 0.0976 - mean_squared_error: 0.0183 - val_loss: 0.0654 - val_mean_absolute_error: 0.1927 - val_mean_squared_error: 0.0654\n",
      "Epoch 81/100\n",
      "4/4 [==============================] - 0s 9ms/step - loss: 0.0173 - mean_absolute_error: 0.0949 - mean_squared_error: 0.0173 - val_loss: 0.0581 - val_mean_absolute_error: 0.1869 - val_mean_squared_error: 0.0581\n",
      "Epoch 82/100\n",
      "4/4 [==============================] - 0s 9ms/step - loss: 0.0182 - mean_absolute_error: 0.0929 - mean_squared_error: 0.0182 - val_loss: 0.0497 - val_mean_absolute_error: 0.1770 - val_mean_squared_error: 0.0497\n",
      "Epoch 83/100\n",
      "4/4 [==============================] - 0s 9ms/step - loss: 0.0175 - mean_absolute_error: 0.0959 - mean_squared_error: 0.0175 - val_loss: 0.0609 - val_mean_absolute_error: 0.1914 - val_mean_squared_error: 0.0609\n",
      "Epoch 84/100\n",
      "4/4 [==============================] - 0s 9ms/step - loss: 0.0166 - mean_absolute_error: 0.0926 - mean_squared_error: 0.0166 - val_loss: 0.0644 - val_mean_absolute_error: 0.1912 - val_mean_squared_error: 0.0644\n",
      "Epoch 85/100\n",
      "4/4 [==============================] - 0s 9ms/step - loss: 0.0163 - mean_absolute_error: 0.0929 - mean_squared_error: 0.0163 - val_loss: 0.0582 - val_mean_absolute_error: 0.1846 - val_mean_squared_error: 0.0582\n",
      "Epoch 86/100\n",
      "4/4 [==============================] - 0s 9ms/step - loss: 0.0159 - mean_absolute_error: 0.0901 - mean_squared_error: 0.0159 - val_loss: 0.0553 - val_mean_absolute_error: 0.1818 - val_mean_squared_error: 0.0553\n",
      "Epoch 87/100\n",
      "4/4 [==============================] - 0s 9ms/step - loss: 0.0166 - mean_absolute_error: 0.0982 - mean_squared_error: 0.0166 - val_loss: 0.0520 - val_mean_absolute_error: 0.1754 - val_mean_squared_error: 0.0520\n",
      "Epoch 88/100\n",
      "4/4 [==============================] - 0s 9ms/step - loss: 0.0167 - mean_absolute_error: 0.0917 - mean_squared_error: 0.0167 - val_loss: 0.0593 - val_mean_absolute_error: 0.1849 - val_mean_squared_error: 0.0593\n",
      "Epoch 89/100\n",
      "4/4 [==============================] - 0s 9ms/step - loss: 0.0164 - mean_absolute_error: 0.0952 - mean_squared_error: 0.0164 - val_loss: 0.0546 - val_mean_absolute_error: 0.1796 - val_mean_squared_error: 0.0546\n",
      "Epoch 90/100\n",
      "4/4 [==============================] - 0s 9ms/step - loss: 0.0151 - mean_absolute_error: 0.0876 - mean_squared_error: 0.0151 - val_loss: 0.0499 - val_mean_absolute_error: 0.1738 - val_mean_squared_error: 0.0499\n",
      "Epoch 91/100\n",
      "4/4 [==============================] - 0s 9ms/step - loss: 0.0140 - mean_absolute_error: 0.0859 - mean_squared_error: 0.0140 - val_loss: 0.0630 - val_mean_absolute_error: 0.1922 - val_mean_squared_error: 0.0630\n",
      "Epoch 92/100\n",
      "4/4 [==============================] - 0s 10ms/step - loss: 0.0150 - mean_absolute_error: 0.0909 - mean_squared_error: 0.0150 - val_loss: 0.0511 - val_mean_absolute_error: 0.1708 - val_mean_squared_error: 0.0511\n",
      "Epoch 93/100\n",
      "4/4 [==============================] - 0s 10ms/step - loss: 0.0150 - mean_absolute_error: 0.0855 - mean_squared_error: 0.0150 - val_loss: 0.0543 - val_mean_absolute_error: 0.1885 - val_mean_squared_error: 0.0543\n",
      "Epoch 94/100\n",
      "4/4 [==============================] - 0s 10ms/step - loss: 0.0159 - mean_absolute_error: 0.1001 - mean_squared_error: 0.0159 - val_loss: 0.0473 - val_mean_absolute_error: 0.1663 - val_mean_squared_error: 0.0473\n",
      "Epoch 95/100\n",
      "4/4 [==============================] - 0s 10ms/step - loss: 0.0152 - mean_absolute_error: 0.0924 - mean_squared_error: 0.0152 - val_loss: 0.0535 - val_mean_absolute_error: 0.1832 - val_mean_squared_error: 0.0535\n",
      "Epoch 96/100\n",
      "4/4 [==============================] - 0s 11ms/step - loss: 0.0148 - mean_absolute_error: 0.0900 - mean_squared_error: 0.0148 - val_loss: 0.0453 - val_mean_absolute_error: 0.1644 - val_mean_squared_error: 0.0453\n",
      "Epoch 97/100\n",
      "4/4 [==============================] - 0s 10ms/step - loss: 0.0122 - mean_absolute_error: 0.0794 - mean_squared_error: 0.0122 - val_loss: 0.0632 - val_mean_absolute_error: 0.1922 - val_mean_squared_error: 0.0632\n",
      "Epoch 98/100\n",
      "4/4 [==============================] - 0s 9ms/step - loss: 0.0131 - mean_absolute_error: 0.0830 - mean_squared_error: 0.0131 - val_loss: 0.0491 - val_mean_absolute_error: 0.1678 - val_mean_squared_error: 0.0491\n",
      "Epoch 99/100\n",
      "4/4 [==============================] - 0s 9ms/step - loss: 0.0131 - mean_absolute_error: 0.0855 - mean_squared_error: 0.0131 - val_loss: 0.0429 - val_mean_absolute_error: 0.1561 - val_mean_squared_error: 0.0429\n",
      "Epoch 100/100\n",
      "4/4 [==============================] - 0s 9ms/step - loss: 0.0129 - mean_absolute_error: 0.0805 - mean_squared_error: 0.0129 - val_loss: 0.0459 - val_mean_absolute_error: 0.1715 - val_mean_squared_error: 0.0459\n"
     ]
    }
   ],
   "source": [
    "model_history = model.fit(\n",
    "    X_train_scaled,\n",
    "    y_train,\n",
    "    epochs=EPOCHS,\n",
    "    validation_data=(X_test_scaled, y_test)\n",
    ")"
   ]
  },
  {
   "cell_type": "code",
   "execution_count": 27,
   "metadata": {},
   "outputs": [],
   "source": [
    "predicted = model.predict(X_val_scaled)"
   ]
  },
  {
   "cell_type": "code",
   "execution_count": 28,
   "metadata": {},
   "outputs": [],
   "source": [
    "actual = y_val"
   ]
  },
  {
   "cell_type": "code",
   "execution_count": 29,
   "metadata": {},
   "outputs": [
    {
     "data": {
      "text/plain": [
       "(1112912717.8242767, 932347358.8999999)"
      ]
     },
     "execution_count": 29,
     "metadata": {},
     "output_type": "execute_result"
    }
   ],
   "source": [
    "10**predicted[0][0], 10**y_val[0][0]"
   ]
  },
  {
   "cell_type": "code",
   "execution_count": 30,
   "metadata": {},
   "outputs": [
    {
     "data": {
      "text/plain": [
       "<matplotlib.collections.PathCollection at 0x16ab0878eb0>"
      ]
     },
     "execution_count": 30,
     "metadata": {},
     "output_type": "execute_result"
    },
    {
     "data": {
      "image/png": "[encoded data removed]",
      "text/plain": [
       "<Figure size 432x288 with 1 Axes>"
      ]
     },
     "metadata": {
      "needs_background": "light"
     },
     "output_type": "display_data"
    }
   ],
   "source": [
    "plt.scatter(predicted,actual)"
   ]
  },
  {
   "cell_type": "code",
   "execution_count": 32,
   "metadata": {},
   "outputs": [],
   "source": [
    "dataset_norm = X_scaler.transform(arr)"
   ]
  },
  {
   "cell_type": "code",
   "execution_count": 33,
   "metadata": {},
   "outputs": [],
   "source": [
    "pred = model.predict(dataset_norm)"
   ]
  },
  {
   "cell_type": "code",
   "execution_count": 34,
   "metadata": {},
   "outputs": [],
   "source": [
    "act = arr2"
   ]
  },
  {
   "cell_type": "code",
   "execution_count": 35,
   "metadata": {},
   "outputs": [
    {
     "data": {
      "text/plain": [
       "<matplotlib.collections.PathCollection at 0x16aaa7eadf0>"
      ]
     },
     "execution_count": 35,
     "metadata": {},
     "output_type": "execute_result"
    },
    {
     "data": {
      "image/png": "[encoded data removed]",
      "text/plain": [
       "<Figure size 432x288 with 1 Axes>"
      ]
     },
     "metadata": {
      "needs_background": "light"
     },
     "output_type": "display_data"
    }
   ],
   "source": [
    "plt.scatter(pred, act)"
   ]
  },
  {
   "cell_type": "code",
   "execution_count": 36,
   "metadata": {},
   "outputs": [],
   "source": [
    "import scipy.stats as st"
   ]
  },
  {
   "cell_type": "code",
   "execution_count": 37,
   "metadata": {},
   "outputs": [],
   "source": [
    "t_len = len(pred)\n",
    "predi = []\n",
    "actu = []\n",
    "for i in range(t_len):\n",
    "    predi.append(pred[i][0].astype(float))\n",
    "    actu.append(act[i][0].astype(float))\n",
    "    "
   ]
  },
  {
   "cell_type": "code",
   "execution_count": 38,
   "metadata": {},
   "outputs": [],
   "source": [
    "pre = np.asarray(predi,dtype=float)"
   ]
  },
  {
   "cell_type": "code",
   "execution_count": 39,
   "metadata": {},
   "outputs": [],
   "source": [
    "ac = np.asarray(actu,dtype=float)"
   ]
  },
  {
   "cell_type": "code",
   "execution_count": 40,
   "metadata": {},
   "outputs": [],
   "source": [
    "x_axis = pre\n",
    "y_axis = ac\n"
   ]
  },
  {
   "cell_type": "code",
   "execution_count": 41,
   "metadata": {},
   "outputs": [],
   "source": [
    "correlation = st.pearsonr(x_axis,y_axis)\n",
    "(slope, intercept, rvalue, pvalue, stderr) = st.linregress(x_axis, y_axis)\n"
   ]
  },
  {
   "cell_type": "code",
   "execution_count": 42,
   "metadata": {},
   "outputs": [
    {
     "data": {
      "text/plain": [
       "0.9355007336843416"
      ]
     },
     "execution_count": 42,
     "metadata": {},
     "output_type": "execute_result"
    }
   ],
   "source": [
    "slope"
   ]
  },
  {
   "cell_type": "code",
   "execution_count": 43,
   "metadata": {},
   "outputs": [
    {
     "data": {
      "text/plain": [
       "(0.9355007336843416,\n",
       " 0.566735971538284,\n",
       " 0.9638114407421936,\n",
       " 3.57353812011869e-89,\n",
       " 0.02098774605838009)"
      ]
     },
     "execution_count": 43,
     "metadata": {},
     "output_type": "execute_result"
    }
   ],
   "source": [
    "slope, intercept, rvalue, pvalue, stderr"
   ]
  },
  {
   "cell_type": "code",
   "execution_count": 44,
   "metadata": {},
   "outputs": [
    {
     "name": "stdout",
     "output_type": "stream",
     "text": [
      "The correlation between both factors is 0.96\n",
      "The linear regression equation is y = 0.93550073x + 0.57\n"
     ]
    },
    {
     "data": {
      "image/png": "[encoded data removed]",
      "text/plain": [
       "<Figure size 432x288 with 1 Axes>"
      ]
     },
     "metadata": {
      "needs_background": "light"
     },
     "output_type": "display_data"
    }
   ],
   "source": [
    "regress_values = x_axis * slope + intercept\n",
    "line_eq = \"y = \" + str(round(slope,8)) + \"x + \" + str(round(intercept,2))\n",
    "plt.scatter(x_axis,y_axis)\n",
    "plt.plot(x_axis,regress_values,\"r-\")\n",
    "plt.annotate(line_eq,(10,10),fontsize=15,color=\"red\")\n",
    "plt.xlabel('predicted')\n",
    "plt.ylabel('actual')\n",
    "print(f\"The correlation between both factors is {round(correlation[0],2)}\")\n",
    "print(f'The linear regression equation is {line_eq}')\n",
    "plt.show()"
   ]
  },
  {
   "cell_type": "code",
   "execution_count": 45,
   "metadata": {},
   "outputs": [
    {
     "name": "stdout",
     "output_type": "stream",
     "text": [
      "5/5 [==============================] - 0s 2ms/step - loss: 0.0178 - mean_absolute_error: 0.0960 - mean_squared_error: 0.0178\n"
     ]
    }
   ],
   "source": [
    "loss, mae, mse = model.evaluate(dataset_norm, act)"
   ]
  },
  {
   "cell_type": "code",
   "execution_count": 46,
   "metadata": {},
   "outputs": [
    {
     "data": {
      "text/plain": [
       "(0.017760813236236572, 0.09596044570207596, 0.017760813236236572)"
      ]
     },
     "execution_count": 46,
     "metadata": {},
     "output_type": "execute_result"
    }
   ],
   "source": [
    "loss, mae, mse"
   ]
  },
  {
   "cell_type": "code",
   "execution_count": 47,
   "metadata": {},
   "outputs": [],
   "source": [
    "def make_prophet(df,periods):\n",
    "    m = Prophet()\n",
    "    m.fit(df)\n",
    "    future = m.make_future_dataframe(periods=periods, freq='Y')\n",
    "    forecast = m.predict(future)\n",
    "    return (forecast, m)\n",
    "\n",
    "def make_prophet_df(df,periods):\n",
    "    m = Prophet()\n",
    "    m.fit(df)\n",
    "    future = m.make_future_dataframe(periods=periods, freq='Y')\n",
    "    forecast = m.predict(future)\n",
    "    return (forecast)\n",
    "\n",
    "def spark_to_prophet(df, column):\n",
    "    arr = np.array(df.collect())\n",
    "    df = pd.DataFrame(arr, columns = column)\n",
    "    ds_len = len(df)\n",
    "    dates = []\n",
    "    for i in range(ds_len):\n",
    "        year = str(int(df['year'][i]))\n",
    "        year = year + \"-01-01\"\n",
    "        dates.append(year)\n",
    "    df['year'] = dates\n",
    "    return df"
   ]
  },
  {
   "cell_type": "code",
   "execution_count": 52,
   "metadata": {},
   "outputs": [],
   "source": [
    "\n",
    "def prophetic(df, periods):\n",
    "    cols = df.columns\n",
    "    df = spark_to_prophet(df,cols)\n",
    "    test_cols = cols[2:]\n",
    "    yhat_df = pd.DataFrame()\n",
    "    yhat_lower_df = pd.DataFrame()\n",
    "    yhat_upper_df = pd.DataFrame()\n",
    "    country_l = []\n",
    "    for i in test_cols:\n",
    "        future_df = pd.DataFrame()\n",
    "        future_df['ds'] = df['year']\n",
    "        future_df['y'] = df[i]\n",
    "        df2 = make_prophet_df(future_df,periods)\n",
    "        c_len = len(df2)\n",
    "        try:            \n",
    "            fiz = len(yhat_df['country'])\n",
    "        except:\n",
    "            for j in range(c_len):\n",
    "                country_l.append(df['country'][0])\n",
    "            yhat_df['country'] = country_l\n",
    "            yhat_lower_df['country'] = country_l\n",
    "            yhat_upper_df['country'] = country_l\n",
    "        try:\n",
    "            fiz = len(yhat_df['year'])\n",
    "        except:\n",
    "            yhat_df['year'] = df2['ds']\n",
    "            yhat_lower_df['year'] = df2['ds']\n",
    "            yhat_upper_df['year'] = df2['ds']            \n",
    "        yhat_df[i] = df2['yhat']\n",
    "        yhat_lower_df[i] = df2['yhat_lower']\n",
    "        yhat_upper_df[i] = df2['yhat_upper']\n",
    "    return (yhat_df, yhat_lower_df, yhat_upper_df, df)\n"
   ]
  },
  {
   "cell_type": "code",
   "execution_count": 53,
   "metadata": {},
   "outputs": [
    {
     "name": "stderr",
     "output_type": "stream",
     "text": [
      "INFO:fbprophet:Disabling weekly seasonality. Run prophet with weekly_seasonality=True to override this.\n",
      "INFO:fbprophet:Disabling daily seasonality. Run prophet with daily_seasonality=True to override this.\n",
      "INFO:fbprophet:n_changepoints greater than number of observations. Using 19.\n",
      "INFO:fbprophet:Disabling weekly seasonality. Run prophet with weekly_seasonality=True to override this.\n",
      "INFO:fbprophet:Disabling daily seasonality. Run prophet with daily_seasonality=True to override this.\n",
      "INFO:fbprophet:n_changepoints greater than number of observations. Using 19.\n",
      "INFO:fbprophet:Disabling weekly seasonality. Run prophet with weekly_seasonality=True to override this.\n",
      "INFO:fbprophet:Disabling daily seasonality. Run prophet with daily_seasonality=True to override this.\n",
      "INFO:fbprophet:n_changepoints greater than number of observations. Using 19.\n",
      "INFO:fbprophet:Disabling weekly seasonality. Run prophet with weekly_seasonality=True to override this.\n",
      "INFO:fbprophet:Disabling daily seasonality. Run prophet with daily_seasonality=True to override this.\n",
      "INFO:fbprophet:n_changepoints greater than number of observations. Using 19.\n",
      "INFO:fbprophet:Disabling weekly seasonality. Run prophet with weekly_seasonality=True to override this.\n",
      "INFO:fbprophet:Disabling daily seasonality. Run prophet with daily_seasonality=True to override this.\n",
      "INFO:fbprophet:n_changepoints greater than number of observations. Using 19.\n",
      "INFO:fbprophet:Disabling weekly seasonality. Run prophet with weekly_seasonality=True to override this.\n",
      "INFO:fbprophet:Disabling daily seasonality. Run prophet with daily_seasonality=True to override this.\n",
      "INFO:fbprophet:n_changepoints greater than number of observations. Using 19.\n",
      "INFO:fbprophet:Disabling weekly seasonality. Run prophet with weekly_seasonality=True to override this.\n",
      "INFO:fbprophet:Disabling daily seasonality. Run prophet with daily_seasonality=True to override this.\n",
      "INFO:fbprophet:n_changepoints greater than number of observations. Using 19.\n",
      "INFO:fbprophet:Disabling weekly seasonality. Run prophet with weekly_seasonality=True to override this.\n",
      "INFO:fbprophet:Disabling daily seasonality. Run prophet with daily_seasonality=True to override this.\n",
      "INFO:fbprophet:n_changepoints greater than number of observations. Using 19.\n"
     ]
    }
   ],
   "source": [
    "yhat_df, yhat_lower_df, yhat_upper_df, us_pd_df = prophetic(us_spark, 10)"
   ]
  },
  {
   "cell_type": "code",
   "execution_count": 65,
   "metadata": {},
   "outputs": [
    {
     "ename": "TypeError",
     "evalue": "object of type 'DataFrame' has no len()",
     "output_type": "error",
     "traceback": [
      "\u001b[1;31m---------------------------------------------------------------------------\u001b[0m",
      "\u001b[1;31mTypeError\u001b[0m                                 Traceback (most recent call last)",
      "\u001b[1;32m<ipython-input-65-01a9aa9b1bcb>\u001b[0m in \u001b[0;36m<module>\u001b[1;34m\u001b[0m\n\u001b[0;32m      2\u001b[0m \u001b[0my_filt\u001b[0m \u001b[1;33m=\u001b[0m \u001b[1;33m[\u001b[0m\u001b[1;33m]\u001b[0m\u001b[1;33m\u001b[0m\u001b[1;33m\u001b[0m\u001b[0m\n\u001b[0;32m      3\u001b[0m \u001b[0mset_len\u001b[0m \u001b[1;33m=\u001b[0m \u001b[0mlen\u001b[0m\u001b[1;33m(\u001b[0m\u001b[0myhat_df\u001b[0m\u001b[1;33m)\u001b[0m\u001b[1;33m\u001b[0m\u001b[1;33m\u001b[0m\u001b[0m\n\u001b[1;32m----> 4\u001b[1;33m \u001b[0mfilt_len\u001b[0m \u001b[1;33m=\u001b[0m \u001b[0mlen\u001b[0m\u001b[1;33m(\u001b[0m\u001b[0mdf\u001b[0m\u001b[1;33m)\u001b[0m\u001b[1;33m\u001b[0m\u001b[1;33m\u001b[0m\u001b[0m\n\u001b[0m\u001b[0;32m      5\u001b[0m \u001b[1;32mfor\u001b[0m \u001b[0mi\u001b[0m \u001b[1;32min\u001b[0m \u001b[0mrange\u001b[0m\u001b[1;33m(\u001b[0m\u001b[0mset_len\u001b[0m\u001b[1;33m)\u001b[0m\u001b[1;33m:\u001b[0m\u001b[1;33m\u001b[0m\u001b[1;33m\u001b[0m\u001b[0m\n\u001b[0;32m      6\u001b[0m     \u001b[0my_set\u001b[0m\u001b[1;33m.\u001b[0m\u001b[0mappend\u001b[0m\u001b[1;33m(\u001b[0m\u001b[0myhat_df\u001b[0m\u001b[1;33m[\u001b[0m\u001b[1;34m\"year\"\u001b[0m\u001b[1;33m]\u001b[0m\u001b[1;33m[\u001b[0m\u001b[0mi\u001b[0m\u001b[1;33m]\u001b[0m\u001b[1;33m)\u001b[0m\u001b[1;33m\u001b[0m\u001b[1;33m\u001b[0m\u001b[0m\n",
      "\u001b[1;31mTypeError\u001b[0m: object of type 'DataFrame' has no len()"
     ]
    }
   ],
   "source": [
    "y_set = []\n",
    "y_filt = []\n",
    "set_len = len(yhat_df)\n",
    "filt_len = len(df)\n",
    "for i in range(set_len):\n",
    "    y_set.append(yhat_df[\"year\"][i])\n",
    "for i in range(filt_len):\n",
    "    y_filt.append(df['year'][i])"
   ]
  },
  {
   "cell_type": "code",
   "execution_count": null,
   "metadata": {},
   "outputs": [],
   "source": [
    "df.year.value_counts()"
   ]
  },
  {
   "cell_type": "code",
   "execution_count": null,
   "metadata": {},
   "outputs": [],
   "source": [
    "df.count()"
   ]
  },
  {
   "cell_type": "code",
   "execution_count": 62,
   "metadata": {},
   "outputs": [
    {
     "ename": "TypeError",
     "evalue": "unhashable type: 'Column'",
     "output_type": "error",
     "traceback": [
      "\u001b[1;31m---------------------------------------------------------------------------\u001b[0m",
      "\u001b[1;31mTypeError\u001b[0m                                 Traceback (most recent call last)",
      "\u001b[1;32m<ipython-input-62-e2553d7e000c>\u001b[0m in \u001b[0;36m<module>\u001b[1;34m\u001b[0m\n\u001b[1;32m----> 1\u001b[1;33m \u001b[0myhat_df\u001b[0m\u001b[1;33m[\u001b[0m\u001b[1;34m\"year\"\u001b[0m\u001b[1;33m]\u001b[0m\u001b[1;33m.\u001b[0m\u001b[0misin\u001b[0m\u001b[1;33m(\u001b[0m\u001b[0mdf\u001b[0m\u001b[1;33m[\u001b[0m\u001b[1;34m'year'\u001b[0m\u001b[1;33m]\u001b[0m\u001b[1;33m)\u001b[0m\u001b[1;33m\u001b[0m\u001b[1;33m\u001b[0m\u001b[0m\n\u001b[0m",
      "\u001b[1;32m~\\anaconda3\\lib\\site-packages\\pandas\\core\\series.py\u001b[0m in \u001b[0;36misin\u001b[1;34m(self, values)\u001b[0m\n\u001b[0;32m   5022\u001b[0m         \u001b[0mdtype\u001b[0m\u001b[1;33m:\u001b[0m \u001b[0mbool\u001b[0m\u001b[1;33m\u001b[0m\u001b[1;33m\u001b[0m\u001b[0m\n\u001b[0;32m   5023\u001b[0m         \"\"\"\n\u001b[1;32m-> 5024\u001b[1;33m         \u001b[0mresult\u001b[0m \u001b[1;33m=\u001b[0m \u001b[0malgorithms\u001b[0m\u001b[1;33m.\u001b[0m\u001b[0misin\u001b[0m\u001b[1;33m(\u001b[0m\u001b[0mself\u001b[0m\u001b[1;33m.\u001b[0m\u001b[0m_values\u001b[0m\u001b[1;33m,\u001b[0m \u001b[0mvalues\u001b[0m\u001b[1;33m)\u001b[0m\u001b[1;33m\u001b[0m\u001b[1;33m\u001b[0m\u001b[0m\n\u001b[0m\u001b[0;32m   5025\u001b[0m         return self._constructor(result, index=self.index).__finalize__(\n\u001b[0;32m   5026\u001b[0m             \u001b[0mself\u001b[0m\u001b[1;33m,\u001b[0m \u001b[0mmethod\u001b[0m\u001b[1;33m=\u001b[0m\u001b[1;34m\"isin\"\u001b[0m\u001b[1;33m\u001b[0m\u001b[1;33m\u001b[0m\u001b[0m\n",
      "\u001b[1;32m~\\anaconda3\\lib\\site-packages\\pandas\\core\\algorithms.py\u001b[0m in \u001b[0;36misin\u001b[1;34m(comps, values)\u001b[0m\n\u001b[0;32m    461\u001b[0m         )\n\u001b[0;32m    462\u001b[0m \u001b[1;33m\u001b[0m\u001b[0m\n\u001b[1;32m--> 463\u001b[1;33m     \u001b[1;32mif\u001b[0m \u001b[1;32mnot\u001b[0m \u001b[0misinstance\u001b[0m\u001b[1;33m(\u001b[0m\u001b[0mvalues\u001b[0m\u001b[1;33m,\u001b[0m \u001b[1;33m(\u001b[0m\u001b[0mABCIndex\u001b[0m\u001b[1;33m,\u001b[0m \u001b[0mABCSeries\u001b[0m\u001b[1;33m,\u001b[0m \u001b[0mABCExtensionArray\u001b[0m\u001b[1;33m,\u001b[0m \u001b[0mnp\u001b[0m\u001b[1;33m.\u001b[0m\u001b[0mndarray\u001b[0m\u001b[1;33m)\u001b[0m\u001b[1;33m)\u001b[0m\u001b[1;33m:\u001b[0m\u001b[1;33m\u001b[0m\u001b[1;33m\u001b[0m\u001b[0m\n\u001b[0m\u001b[0;32m    464\u001b[0m         \u001b[0mvalues\u001b[0m \u001b[1;33m=\u001b[0m \u001b[0m_ensure_arraylike\u001b[0m\u001b[1;33m(\u001b[0m\u001b[0mlist\u001b[0m\u001b[1;33m(\u001b[0m\u001b[0mvalues\u001b[0m\u001b[1;33m)\u001b[0m\u001b[1;33m)\u001b[0m\u001b[1;33m\u001b[0m\u001b[1;33m\u001b[0m\u001b[0m\n\u001b[0;32m    465\u001b[0m     \u001b[1;32melif\u001b[0m \u001b[0misinstance\u001b[0m\u001b[1;33m(\u001b[0m\u001b[0mvalues\u001b[0m\u001b[1;33m,\u001b[0m \u001b[0mABCMultiIndex\u001b[0m\u001b[1;33m)\u001b[0m\u001b[1;33m:\u001b[0m\u001b[1;33m\u001b[0m\u001b[1;33m\u001b[0m\u001b[0m\n",
      "\u001b[1;32m~\\anaconda3\\lib\\site-packages\\pandas\\core\\dtypes\\generic.py\u001b[0m in \u001b[0;36m_check\u001b[1;34m(cls, inst)\u001b[0m\n\u001b[0;32m     43\u001b[0m     \u001b[1;33m@\u001b[0m\u001b[0mclassmethod\u001b[0m  \u001b[1;31m# type: ignore[misc]\u001b[0m\u001b[1;33m\u001b[0m\u001b[1;33m\u001b[0m\u001b[0m\n\u001b[0;32m     44\u001b[0m     \u001b[1;32mdef\u001b[0m \u001b[0m_check\u001b[0m\u001b[1;33m(\u001b[0m\u001b[0mcls\u001b[0m\u001b[1;33m,\u001b[0m \u001b[0minst\u001b[0m\u001b[1;33m)\u001b[0m \u001b[1;33m->\u001b[0m \u001b[0mbool\u001b[0m\u001b[1;33m:\u001b[0m\u001b[1;33m\u001b[0m\u001b[1;33m\u001b[0m\u001b[0m\n\u001b[1;32m---> 45\u001b[1;33m         \u001b[1;32mreturn\u001b[0m \u001b[0mgetattr\u001b[0m\u001b[1;33m(\u001b[0m\u001b[0minst\u001b[0m\u001b[1;33m,\u001b[0m \u001b[0mattr\u001b[0m\u001b[1;33m,\u001b[0m \u001b[1;34m\"_typ\"\u001b[0m\u001b[1;33m)\u001b[0m \u001b[1;32min\u001b[0m \u001b[0mcomp\u001b[0m\u001b[1;33m\u001b[0m\u001b[1;33m\u001b[0m\u001b[0m\n\u001b[0m\u001b[0;32m     46\u001b[0m \u001b[1;33m\u001b[0m\u001b[0m\n\u001b[0;32m     47\u001b[0m     \u001b[0mdct\u001b[0m \u001b[1;33m=\u001b[0m \u001b[1;33m{\u001b[0m\u001b[1;34m\"__instancecheck__\"\u001b[0m\u001b[1;33m:\u001b[0m \u001b[0m_check\u001b[0m\u001b[1;33m,\u001b[0m \u001b[1;34m\"__subclasscheck__\"\u001b[0m\u001b[1;33m:\u001b[0m \u001b[0m_check\u001b[0m\u001b[1;33m}\u001b[0m\u001b[1;33m\u001b[0m\u001b[1;33m\u001b[0m\u001b[0m\n",
      "\u001b[1;31mTypeError\u001b[0m: unhashable type: 'Column'"
     ]
    }
   ],
   "source": [
    "yhat_df[\"year\"].isin(df['year'])    "
   ]
  },
  {
   "cell_type": "code",
   "execution_count": 60,
   "metadata": {},
   "outputs": [
    {
     "ename": "TypeError",
     "evalue": "unhashable type: 'Column'",
     "output_type": "error",
     "traceback": [
      "\u001b[1;31m---------------------------------------------------------------------------\u001b[0m",
      "\u001b[1;31mTypeError\u001b[0m                                 Traceback (most recent call last)",
      "\u001b[1;32m<ipython-input-60-20d84e0f5a63>\u001b[0m in \u001b[0;36m<module>\u001b[1;34m\u001b[0m\n\u001b[1;32m----> 1\u001b[1;33m \u001b[0myhat_df\u001b[0m\u001b[1;33m[\u001b[0m\u001b[1;33m~\u001b[0m\u001b[0myhat_df\u001b[0m\u001b[1;33m[\u001b[0m\u001b[1;34m\"year\"\u001b[0m\u001b[1;33m]\u001b[0m\u001b[1;33m.\u001b[0m\u001b[0misin\u001b[0m\u001b[1;33m(\u001b[0m\u001b[0mdf\u001b[0m\u001b[1;33m[\u001b[0m\u001b[1;34m'year'\u001b[0m\u001b[1;33m]\u001b[0m\u001b[1;33m)\u001b[0m\u001b[1;33m]\u001b[0m\u001b[1;33m\u001b[0m\u001b[1;33m\u001b[0m\u001b[0m\n\u001b[0m",
      "\u001b[1;32m~\\anaconda3\\lib\\site-packages\\pandas\\core\\series.py\u001b[0m in \u001b[0;36misin\u001b[1;34m(self, values)\u001b[0m\n\u001b[0;32m   5022\u001b[0m         \u001b[0mdtype\u001b[0m\u001b[1;33m:\u001b[0m \u001b[0mbool\u001b[0m\u001b[1;33m\u001b[0m\u001b[1;33m\u001b[0m\u001b[0m\n\u001b[0;32m   5023\u001b[0m         \"\"\"\n\u001b[1;32m-> 5024\u001b[1;33m         \u001b[0mresult\u001b[0m \u001b[1;33m=\u001b[0m \u001b[0malgorithms\u001b[0m\u001b[1;33m.\u001b[0m\u001b[0misin\u001b[0m\u001b[1;33m(\u001b[0m\u001b[0mself\u001b[0m\u001b[1;33m.\u001b[0m\u001b[0m_values\u001b[0m\u001b[1;33m,\u001b[0m \u001b[0mvalues\u001b[0m\u001b[1;33m)\u001b[0m\u001b[1;33m\u001b[0m\u001b[1;33m\u001b[0m\u001b[0m\n\u001b[0m\u001b[0;32m   5025\u001b[0m         return self._constructor(result, index=self.index).__finalize__(\n\u001b[0;32m   5026\u001b[0m             \u001b[0mself\u001b[0m\u001b[1;33m,\u001b[0m \u001b[0mmethod\u001b[0m\u001b[1;33m=\u001b[0m\u001b[1;34m\"isin\"\u001b[0m\u001b[1;33m\u001b[0m\u001b[1;33m\u001b[0m\u001b[0m\n",
      "\u001b[1;32m~\\anaconda3\\lib\\site-packages\\pandas\\core\\algorithms.py\u001b[0m in \u001b[0;36misin\u001b[1;34m(comps, values)\u001b[0m\n\u001b[0;32m    461\u001b[0m         )\n\u001b[0;32m    462\u001b[0m \u001b[1;33m\u001b[0m\u001b[0m\n\u001b[1;32m--> 463\u001b[1;33m     \u001b[1;32mif\u001b[0m \u001b[1;32mnot\u001b[0m \u001b[0misinstance\u001b[0m\u001b[1;33m(\u001b[0m\u001b[0mvalues\u001b[0m\u001b[1;33m,\u001b[0m \u001b[1;33m(\u001b[0m\u001b[0mABCIndex\u001b[0m\u001b[1;33m,\u001b[0m \u001b[0mABCSeries\u001b[0m\u001b[1;33m,\u001b[0m \u001b[0mABCExtensionArray\u001b[0m\u001b[1;33m,\u001b[0m \u001b[0mnp\u001b[0m\u001b[1;33m.\u001b[0m\u001b[0mndarray\u001b[0m\u001b[1;33m)\u001b[0m\u001b[1;33m)\u001b[0m\u001b[1;33m:\u001b[0m\u001b[1;33m\u001b[0m\u001b[1;33m\u001b[0m\u001b[0m\n\u001b[0m\u001b[0;32m    464\u001b[0m         \u001b[0mvalues\u001b[0m \u001b[1;33m=\u001b[0m \u001b[0m_ensure_arraylike\u001b[0m\u001b[1;33m(\u001b[0m\u001b[0mlist\u001b[0m\u001b[1;33m(\u001b[0m\u001b[0mvalues\u001b[0m\u001b[1;33m)\u001b[0m\u001b[1;33m)\u001b[0m\u001b[1;33m\u001b[0m\u001b[1;33m\u001b[0m\u001b[0m\n\u001b[0;32m    465\u001b[0m     \u001b[1;32melif\u001b[0m \u001b[0misinstance\u001b[0m\u001b[1;33m(\u001b[0m\u001b[0mvalues\u001b[0m\u001b[1;33m,\u001b[0m \u001b[0mABCMultiIndex\u001b[0m\u001b[1;33m)\u001b[0m\u001b[1;33m:\u001b[0m\u001b[1;33m\u001b[0m\u001b[1;33m\u001b[0m\u001b[0m\n",
      "\u001b[1;32m~\\anaconda3\\lib\\site-packages\\pandas\\core\\dtypes\\generic.py\u001b[0m in \u001b[0;36m_check\u001b[1;34m(cls, inst)\u001b[0m\n\u001b[0;32m     43\u001b[0m     \u001b[1;33m@\u001b[0m\u001b[0mclassmethod\u001b[0m  \u001b[1;31m# type: ignore[misc]\u001b[0m\u001b[1;33m\u001b[0m\u001b[1;33m\u001b[0m\u001b[0m\n\u001b[0;32m     44\u001b[0m     \u001b[1;32mdef\u001b[0m \u001b[0m_check\u001b[0m\u001b[1;33m(\u001b[0m\u001b[0mcls\u001b[0m\u001b[1;33m,\u001b[0m \u001b[0minst\u001b[0m\u001b[1;33m)\u001b[0m \u001b[1;33m->\u001b[0m \u001b[0mbool\u001b[0m\u001b[1;33m:\u001b[0m\u001b[1;33m\u001b[0m\u001b[1;33m\u001b[0m\u001b[0m\n\u001b[1;32m---> 45\u001b[1;33m         \u001b[1;32mreturn\u001b[0m \u001b[0mgetattr\u001b[0m\u001b[1;33m(\u001b[0m\u001b[0minst\u001b[0m\u001b[1;33m,\u001b[0m \u001b[0mattr\u001b[0m\u001b[1;33m,\u001b[0m \u001b[1;34m\"_typ\"\u001b[0m\u001b[1;33m)\u001b[0m \u001b[1;32min\u001b[0m \u001b[0mcomp\u001b[0m\u001b[1;33m\u001b[0m\u001b[1;33m\u001b[0m\u001b[0m\n\u001b[0m\u001b[0;32m     46\u001b[0m \u001b[1;33m\u001b[0m\u001b[0m\n\u001b[0;32m     47\u001b[0m     \u001b[0mdct\u001b[0m \u001b[1;33m=\u001b[0m \u001b[1;33m{\u001b[0m\u001b[1;34m\"__instancecheck__\"\u001b[0m\u001b[1;33m:\u001b[0m \u001b[0m_check\u001b[0m\u001b[1;33m,\u001b[0m \u001b[1;34m\"__subclasscheck__\"\u001b[0m\u001b[1;33m:\u001b[0m \u001b[0m_check\u001b[0m\u001b[1;33m}\u001b[0m\u001b[1;33m\u001b[0m\u001b[1;33m\u001b[0m\u001b[0m\n",
      "\u001b[1;31mTypeError\u001b[0m: unhashable type: 'Column'"
     ]
    }
   ],
   "source": [
    "yhat_df[~yhat_df[\"year\"].isin(df['year'])]"
   ]
  },
  {
   "cell_type": "code",
   "execution_count": 57,
   "metadata": {},
   "outputs": [
    {
     "ename": "AttributeError",
     "evalue": "'Series' object has no attribute 'contains'",
     "output_type": "error",
     "traceback": [
      "\u001b[1;31m---------------------------------------------------------------------------\u001b[0m",
      "\u001b[1;31mAttributeError\u001b[0m                            Traceback (most recent call last)",
      "\u001b[1;32m<ipython-input-57-9bef90e23784>\u001b[0m in \u001b[0;36m<module>\u001b[1;34m\u001b[0m\n\u001b[1;32m----> 1\u001b[1;33m \u001b[0mdf_model_pred\u001b[0m \u001b[1;33m=\u001b[0m \u001b[0myhat_df\u001b[0m\u001b[1;33m[\u001b[0m\u001b[1;33m~\u001b[0m\u001b[0myhat_df\u001b[0m\u001b[1;33m[\u001b[0m\u001b[1;34m\"year\"\u001b[0m\u001b[1;33m]\u001b[0m\u001b[1;33m.\u001b[0m\u001b[0mcontains\u001b[0m\u001b[1;33m(\u001b[0m\u001b[0mdf\u001b[0m\u001b[1;33m[\u001b[0m\u001b[1;34m'year'\u001b[0m\u001b[1;33m]\u001b[0m\u001b[1;33m)\u001b[0m\u001b[1;33m]\u001b[0m\u001b[1;33m\u001b[0m\u001b[1;33m\u001b[0m\u001b[0m\n\u001b[0m",
      "\u001b[1;32m~\\anaconda3\\lib\\site-packages\\pandas\\core\\generic.py\u001b[0m in \u001b[0;36m__getattr__\u001b[1;34m(self, name)\u001b[0m\n\u001b[0;32m   5476\u001b[0m         ):\n\u001b[0;32m   5477\u001b[0m             \u001b[1;32mreturn\u001b[0m \u001b[0mself\u001b[0m\u001b[1;33m[\u001b[0m\u001b[0mname\u001b[0m\u001b[1;33m]\u001b[0m\u001b[1;33m\u001b[0m\u001b[1;33m\u001b[0m\u001b[0m\n\u001b[1;32m-> 5478\u001b[1;33m         \u001b[1;32mreturn\u001b[0m \u001b[0mobject\u001b[0m\u001b[1;33m.\u001b[0m\u001b[0m__getattribute__\u001b[0m\u001b[1;33m(\u001b[0m\u001b[0mself\u001b[0m\u001b[1;33m,\u001b[0m \u001b[0mname\u001b[0m\u001b[1;33m)\u001b[0m\u001b[1;33m\u001b[0m\u001b[1;33m\u001b[0m\u001b[0m\n\u001b[0m\u001b[0;32m   5479\u001b[0m \u001b[1;33m\u001b[0m\u001b[0m\n\u001b[0;32m   5480\u001b[0m     \u001b[1;32mdef\u001b[0m \u001b[0m__setattr__\u001b[0m\u001b[1;33m(\u001b[0m\u001b[0mself\u001b[0m\u001b[1;33m,\u001b[0m \u001b[0mname\u001b[0m\u001b[1;33m:\u001b[0m \u001b[0mstr\u001b[0m\u001b[1;33m,\u001b[0m \u001b[0mvalue\u001b[0m\u001b[1;33m)\u001b[0m \u001b[1;33m->\u001b[0m \u001b[1;32mNone\u001b[0m\u001b[1;33m:\u001b[0m\u001b[1;33m\u001b[0m\u001b[1;33m\u001b[0m\u001b[0m\n",
      "\u001b[1;31mAttributeError\u001b[0m: 'Series' object has no attribute 'contains'"
     ]
    }
   ],
   "source": [
    "df_model_pred = yhat_df[~yhat_df[\"year\"].contains(df['year'])]"
   ]
  },
  {
   "cell_type": "code",
   "execution_count": 55,
   "metadata": {},
   "outputs": [
    {
     "ename": "ValueError",
     "evalue": "Cannot apply 'in' operator against a column: please use 'contains' in a string column or 'array_contains' function for an array column.",
     "output_type": "error",
     "traceback": [
      "\u001b[1;31m---------------------------------------------------------------------------\u001b[0m",
      "\u001b[1;31mValueError\u001b[0m                                Traceback (most recent call last)",
      "\u001b[1;32m<ipython-input-55-f080e53454a9>\u001b[0m in \u001b[0;36m<module>\u001b[1;34m\u001b[0m\n\u001b[1;32m----> 1\u001b[1;33m \u001b[0mdf_model_pred\u001b[0m \u001b[1;33m=\u001b[0m \u001b[0myhat_df\u001b[0m\u001b[1;33m.\u001b[0m\u001b[0mloc\u001b[0m\u001b[1;33m[\u001b[0m\u001b[0myhat_df\u001b[0m\u001b[1;33m[\u001b[0m\u001b[1;34m'year'\u001b[0m\u001b[1;33m]\u001b[0m \u001b[1;32mnot\u001b[0m \u001b[1;32min\u001b[0m \u001b[0mdf\u001b[0m\u001b[1;33m[\u001b[0m\u001b[1;34m'year'\u001b[0m\u001b[1;33m]\u001b[0m\u001b[1;33m]\u001b[0m\u001b[1;33m\u001b[0m\u001b[1;33m\u001b[0m\u001b[0m\n\u001b[0m",
      "\u001b[1;32m~\\anaconda3\\lib\\site-packages\\pyspark\\sql\\column.py\u001b[0m in \u001b[0;36m__contains__\u001b[1;34m(self, item)\u001b[0m\n\u001b[0;32m    245\u001b[0m     \u001b[1;31m# container operators\u001b[0m\u001b[1;33m\u001b[0m\u001b[1;33m\u001b[0m\u001b[1;33m\u001b[0m\u001b[0m\n\u001b[0;32m    246\u001b[0m     \u001b[1;32mdef\u001b[0m \u001b[0m__contains__\u001b[0m\u001b[1;33m(\u001b[0m\u001b[0mself\u001b[0m\u001b[1;33m,\u001b[0m \u001b[0mitem\u001b[0m\u001b[1;33m)\u001b[0m\u001b[1;33m:\u001b[0m\u001b[1;33m\u001b[0m\u001b[1;33m\u001b[0m\u001b[0m\n\u001b[1;32m--> 247\u001b[1;33m         raise ValueError(\"Cannot apply 'in' operator against a column: please use 'contains' \"\n\u001b[0m\u001b[0;32m    248\u001b[0m                          \"in a string column or 'array_contains' function for an array column.\")\n\u001b[0;32m    249\u001b[0m \u001b[1;33m\u001b[0m\u001b[0m\n",
      "\u001b[1;31mValueError\u001b[0m: Cannot apply 'in' operator against a column: please use 'contains' in a string column or 'array_contains' function for an array column."
     ]
    }
   ],
   "source": [
    "df_model_pred = yhat_df.loc[yhat_df['year'] not in df['year']]"
   ]
  },
  {
   "cell_type": "code",
   "execution_count": null,
   "metadata": {},
   "outputs": [],
   "source": [
    "df_tst = spark_to_prophet(us_spark,us_cols)"
   ]
  },
  {
   "cell_type": "code",
   "execution_count": null,
   "metadata": {},
   "outputs": [],
   "source": [
    "test_cols = us_cols[2:]"
   ]
  },
  {
   "cell_type": "code",
   "execution_count": null,
   "metadata": {},
   "outputs": [],
   "source": [
    "# tst_dict = {'yhat':[],'yhat_lower':[],'yhat_upper':[]}\n",
    "yhat_df = pd.DataFrame()\n",
    "yhat_lower_df = pd.DataFrame()\n",
    "yhat_upper_df = pd.DataFrame()\n",
    "for i in test_cols:\n",
    "    future_df['ds'] = df_tst['year']\n",
    "    future_df['y'] = df_tst[i]\n",
    "    df = make_prophet_df(future_df,10)\n",
    "    yhat_df[i] = df['yhat']\n",
    "    yhat_lower_df[i] = df['yhat_lower']\n",
    "    yhat_upper_df[i] = df['yhat_upper']\n",
    "yhat_df['year'] = df['ds']\n",
    "yhat_lower_df['year'] = df['ds']\n",
    "yhat_upper_df['year'] = df['ds']"
   ]
  },
  {
   "cell_type": "code",
   "execution_count": null,
   "metadata": {},
   "outputs": [],
   "source": [
    "us_test1, fb_model = make_prophet(us_pd_df2,10)"
   ]
  },
  {
   "cell_type": "code",
   "execution_count": null,
   "metadata": {},
   "outputs": [],
   "source": [
    "fig2 = fb_model.plot(us_test1)"
   ]
  },
  {
   "cell_type": "code",
   "execution_count": null,
   "metadata": {},
   "outputs": [],
   "source": [
    "e_m = Prophet()\n",
    "e_m.fit(us_prophet_df_f)\n",
    "future = e_m.make_future_dataframe(periods=10, freq='Y')\n",
    "forecast = e_m.predict(future)\n",
    "fig1 = e_m.plot(forecast)"
   ]
  },
  {
   "cell_type": "code",
   "execution_count": null,
   "metadata": {},
   "outputs": [],
   "source": [
    "forecast"
   ]
  },
  {
   "cell_type": "code",
   "execution_count": null,
   "metadata": {},
   "outputs": [],
   "source": [
    "forecast[['ds', 'yhat', 'yhat_lower', 'yhat_upper']]\n"
   ]
  },
  {
   "cell_type": "code",
   "execution_count": null,
   "metadata": {},
   "outputs": [],
   "source": [
    "plt.plot(forecast['ds'],forecast['yhat'])\n",
    "plt.plot(forecast['ds'],forecast['yhat_upper'])\n",
    "plt.plot(forecast['ds'],forecast['yhat_lower'])\n",
    "plt.plot(forecast['ds'],forecast['trend'])"
   ]
  }
 ],
 "metadata": {
  "kernelspec": {
   "display_name": "Python 3",
   "language": "python",
   "name": "python3"
  },
  "language_info": {
   "codemirror_mode": {
    "name": "ipython",
    "version": 3
   },
   "file_extension": ".py",
   "mimetype": "text/x-python",
   "name": "python",
   "nbconvert_exporter": "python",
   "pygments_lexer": "ipython3",
   "version": "3.8.5"
  }
 },
 "nbformat": 4,
 "nbformat_minor": 5
}
