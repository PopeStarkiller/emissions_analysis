{
 "cells": [
  {
   "cell_type": "code",
   "execution_count": 1,
   "id": "b29a811e",
   "metadata": {},
   "outputs": [],
   "source": [
    "import os\n",
    "spark_version = 'spark-3.1.2'\n",
    "os.environ['SPARK_VERSION']=spark_version\n",
    "os.environ[\"JAVA_HOME\"] = \"C:\\Program Files\\Java\\jdk-11.0.11\"\n",
    "os.environ[\"SPARK_HOME\"] = f\"C:\\spark\\spark-3.1.2-bin-hadoop3.2\"\n",
    "import findspark\n",
    "import pyspark\n",
    "from pyspark.sql import SparkSession\n",
    "findspark.init()\n",
    "spark = SparkSession.builder.appName(\"emissionsdataframe\").getOrCreate()\n",
    "from sqlalchemy import create_engine, insert\n",
    "from sqlalchemy.ext.declarative import declarative_base\n",
    "from sqlalchemy import MetaData, update, Table\n",
    "from sqlalchemy.orm import Session\n",
    "from sqlalchemy.orm import sessionmaker\n",
    "from sqlalchemy.exc import SQLAlchemyError\n",
    "import pandas as pd\n",
    "import config\n",
    "from pyspark.sql.types import IntegerType,BooleanType,DateType\n",
    "from pyspark.sql.functions import col\n",
    "from pyspark.sql import Row\n",
    "from pyspark.sql.functions import array, col, explode, lit, struct\n",
    "from pyspark.sql import DataFrame\n",
    "from typing import Iterable"
   ]
  },
  {
   "cell_type": "code",
   "execution_count": 2,
   "id": "a9375fb4",
   "metadata": {},
   "outputs": [],
   "source": [
    "rds_string = config.rds_string\n",
    "engine = create_engine(f'postgresql://{rds_string}')\n",
    "conn = engine.connect()\n",
    "metadata = MetaData(engine)"
   ]
  },
  {
   "cell_type": "code",
   "execution_count": 3,
   "id": "0d1ff101",
   "metadata": {},
   "outputs": [],
   "source": [
    "def sql_to_spark(table):\n",
    "    from pyspark.sql import Row\n",
    "    from sqlalchemy.orm import Session, sessionmaker\n",
    "    from sqlalchemy import MetaData, Table\n",
    "    metadata = MetaData(engine)\n",
    "    table_var = Table(table, metadata, autoload=True, autoload_with=engine)\n",
    "    Session = sessionmaker()\n",
    "    Session.configure(bind=engine)\n",
    "    session = Session()\n",
    "    query = session.query(table_var).all()\n",
    "    steve = table_var.metadata.tables[table].columns.keys()\n",
    "    query_list = []\n",
    "    for i in query:\n",
    "        q_len = len(i)\n",
    "        temp_dict = {}\n",
    "        for j in range(q_len):\n",
    "            key = steve[j]\n",
    "            value = i[j]\n",
    "            if value == None:\n",
    "                value = float(0)\n",
    "            temp_dict[key] = value\n",
    "            if j == (q_len - 1):\n",
    "                query_list.append(temp_dict)\n",
    "    df = spark.createDataFrame(Row(**x) for x in query_list)\n",
    "    return df\n",
    "\n",
    "def query_maker(table):\n",
    "    from sqlalchemy.orm import Session, sessionmaker\n",
    "    from sqlalchemy import MetaData, Table\n",
    "    metadata = MetaData(engine)\n",
    "    table_var = Table(table, metadata, autoload=True, autoload_with=engine)\n",
    "    Session = sessionmaker()\n",
    "    Session.configure(bind=engine)\n",
    "    session = Session()\n",
    "    query = session.query(table_var).all()\n",
    "    steve = table_var.metadata.tables[table].columns.keys()\n",
    "    return (query, steve)\n",
    "\n",
    "def spark_maker(query,country):\n",
    "    c_list = []\n",
    "    for i in query:\n",
    "        q_len = len(i)\n",
    "        if i[0] == country:\n",
    "            temp_dict = {}\n",
    "            for j in range(q_len):\n",
    "                key = steve[j]\n",
    "                value = i[j]\n",
    "                if value == None:\n",
    "                    value = float(0)\n",
    "                temp_dict[key] = value\n",
    "                if j == (q_len - 1):\n",
    "                    c_list.append(temp_dict)\n",
    "    df = spark.createDataFrame(Row(**x) for x in c_list) \n",
    "    return df\n",
    "\n",
    "def sql_spark_trade(table, country):\n",
    "    from sqlalchemy.orm import Session, sessionmaker\n",
    "    from sqlalchemy import MetaData, Table\n",
    "    metadata = MetaData(engine)\n",
    "    table_var = Table(table, metadata, autoload=True, autoload_with=engine)\n",
    "    Session = sessionmaker()\n",
    "    Session.configure(bind=engine)\n",
    "    session = Session()\n",
    "    query = session.query(table_var).filter(table_var.c.country_or_area == country).all()\n",
    "    steve = table_var.metadata.tables[table].columns.keys()\n",
    "    c_list = []\n",
    "    for i in query:\n",
    "        q_len = len(i)\n",
    "        if i[0] == country:\n",
    "            temp_dict = {}\n",
    "            for j in range(q_len):\n",
    "                key = steve[j]\n",
    "                value = i[j]\n",
    "                if value == None:\n",
    "                    value = float(0)\n",
    "                temp_dict[key] = value\n",
    "                if j == (q_len - 1):\n",
    "                    c_list.append(temp_dict)\n",
    "    df = spark.createDataFrame(Row(**x) for x in c_list)\n",
    "    return df\n",
    "\n",
    "def melt(\n",
    "        df: DataFrame, \n",
    "        id_vars: Iterable[str], value_vars: Iterable[str], \n",
    "        var_name: str=\"variable\", value_name: str=\"value\") -> DataFrame:\n",
    "    \"\"\"Convert :class:`DataFrame` from wide to long format.\"\"\"\n",
    "\n",
    "    # Create array<struct<variable: str, value: ...>>\n",
    "    _vars_and_vals = array(*(\n",
    "        struct(lit(c).alias(var_name), col(c).alias(value_name)) \n",
    "        for c in value_vars))\n",
    "\n",
    "    # Add to the DataFrame and explode\n",
    "    _tmp = df.withColumn(\"_vars_and_vals\", explode(_vars_and_vals))\n",
    "\n",
    "    cols = id_vars + [\n",
    "            col(\"_vars_and_vals\")[x].alias(x) for x in [var_name, value_name]]\n",
    "    return _tmp.select(*cols)"
   ]
  },
  {
   "cell_type": "code",
   "execution_count": 4,
   "id": "74839434",
   "metadata": {},
   "outputs": [],
   "source": [
    "from sqlalchemy import MetaData, Table\n",
    "metadata = MetaData(engine)\n",
    "global_trade = Table(\"global_trade\", metadata, autoload=True, autoload_with=engine)\n",
    "trade_schema = global_trade.metadata.tables[\"global_trade\"].columns.keys()\n",
    "trade_schema"
   ]
  },
  {
   "cell_type": "code",
   "execution_count": 14,
   "id": "a75576ad",
   "metadata": {},
   "outputs": [],
   "source": [
    "spark_gdp=sql_to_spark('gdp_data')\n",
    "spark_india=sql_to_spark(\"india_export_data\")\n",
    "spark_emissions=sql_to_spark('global_emissions')"
   ]
  },
  {
   "cell_type": "code",
   "execution_count": 27,
   "id": "04c2b73a",
   "metadata": {},
   "outputs": [],
   "source": [
    "india_trade_spark = sql_spark_trade(\"global_trade\",\"India\")\n",
    "india_trade_spark_y = india_trade_spark.withColumn(\"year\",india_trade_spark.year.cast('int'))\n",
    "spark_gdp_2 = spark_gdp_2.withColumnRenamed(\"variable\",\"year\")\n"
   ]
  },
  {
   "cell_type": "code",
   "execution_count": 28,
   "id": "36045d98",
   "metadata": {},
   "outputs": [],
   "source": [
    "india_export_df = india_trade_spark_y.filter(india_trade_spark_y['flow'] == \"Export\")\n",
    "india_import_df = india_trade_spark_y.filter(india_trade_spark_y['flow'] == \"Import\")"
   ]
  },
  {
   "cell_type": "code",
   "execution_count": 29,
   "id": "bc065fde",
   "metadata": {},
   "outputs": [],
   "source": [
    "india_trade_spark_y.orderBy(india_trade_spark_y.year.asc()).show(1)"
   ]
  },
  {
   "cell_type": "code",
   "execution_count": 18,
   "id": "78f27ced",
   "metadata": {},
   "outputs": [],
   "source": [
    "gdp_col = spark_gdp.columns\n",
    "gdp_col2 = gdp_col[2:]\n",
    "gdp_static_cols = gdp_col[:2]\n",
    "spark_gdp_2 = melt(spark_gdp, id_vars=gdp_static_cols, value_vars=gdp_col2)\n",
    "spark_gdp_2 = spark_gdp_2.withColumn(\"variable\",spark_gdp_2.variable.cast('int'))\n",
    "spark_gdp_2 = spark_gdp_2.withColumnRenamed(\"variable\",\"year\")\n",
    "spark_gdp_2 = spark_gdp_2.withColumnRenamed(\"value\",\"GDP\")\n",
    "spark_gdp_2 = spark_gdp_2.select(['Country ','year','GDP'])"
   ]
  },
  {
   "cell_type": "code",
   "execution_count": 21,
   "id": "1ee7d041",
   "metadata": {},
   "outputs": [],
   "source": [
    "india_gdp_spark = spark_gdp_2.filter(spark_gdp_2[\"Country \"] == \"India\")"
   ]
  },
  {
   "cell_type": "code",
   "execution_count": 23,
   "id": "df11b442",
   "metadata": {},
   "outputs": [],
   "source": [
    "spark_emissions = spark_emissions.withColumnRenamed(\"Entity\",\"Country\")"
   ]
  },
  {
   "cell_type": "code",
   "execution_count": 69,
   "id": "a92ac3a2",
   "metadata": {},
   "outputs": [],
   "source": [
    "india_emissions = spark_emissions.filter(spark_emissions[\"Country\"] == \"India\")"
   ]
  },
  {
   "cell_type": "code",
   "execution_count": 87,
   "id": "046f8fff",
   "metadata": {},
   "outputs": [
    {
     "name": "stdout",
     "output_type": "stream",
     "text": [
      "+---------------+----+---------+--------------------+------+---------+-----------+-------------------+-----------+--------------------+\n",
      "|country_or_area|year|comm_code|           commodity|  flow|trade_usd|  weight_kg|      quantity_name|   quantity|            category|\n",
      "+---------------+----+---------+--------------------+------+---------+-----------+-------------------+-----------+--------------------+\n",
      "|          India|2016|   210110|Coffee extracts, ...|Export|276962932|4.0752197E7|Weight in kilograms|4.0752197E7|21_miscellaneous_...|\n",
      "|          India|2016|   210120|Tea and mate extr...|Export| 43467004|  6351410.0|Weight in kilograms|  6351410.0|21_miscellaneous_...|\n",
      "|          India|2016|   210130|Chicory & other c...|Export| 17190546|1.8826556E7|Weight in kilograms|1.8826556E7|21_miscellaneous_...|\n",
      "|          India|2016|   210210|      Yeasts, active|Export|   331233|   224155.0|Weight in kilograms|   224155.0|21_miscellaneous_...|\n",
      "|          India|2016|   210220|Yeasts, inactive,...|Export|   177037|    82352.0|Weight in kilograms|    82352.0|21_miscellaneous_...|\n",
      "+---------------+----+---------+--------------------+------+---------+-----------+-------------------+-----------+--------------------+\n",
      "only showing top 5 rows\n",
      "\n"
     ]
    }
   ],
   "source": [
    "india_export_df.show(5)"
   ]
  },
  {
   "cell_type": "code",
   "execution_count": 89,
   "id": "7b37c2de",
   "metadata": {},
   "outputs": [
    {
     "name": "stdout",
     "output_type": "stream",
     "text": [
      "+---------------+----+---------+--------------------+------+---------+---------+-------------------+---------+--------------------+\n",
      "|country_or_area|year|comm_code|           commodity|  flow|trade_usd|weight_kg|      quantity_name| quantity|            category|\n",
      "+---------------+----+---------+--------------------+------+---------+---------+-------------------+---------+--------------------+\n",
      "|          India|2016|   210110|Coffee extracts, ...|Import| 13371521|1881816.0|Weight in kilograms|1881816.0|21_miscellaneous_...|\n",
      "|          India|2016|   210120|Tea and mate extr...|Import|  1988772| 105363.0|Weight in kilograms| 105363.0|21_miscellaneous_...|\n",
      "|          India|2016|   210130|Chicory & other c...|Import|    17363|   1266.0|Weight in kilograms|   1266.0|21_miscellaneous_...|\n",
      "|          India|2016|   210210|      Yeasts, active|Import| 15532547|4839851.0|Weight in kilograms|4839851.0|21_miscellaneous_...|\n",
      "|          India|2016|   210220|Yeasts, inactive,...|Import|  1317256|1833243.0|Weight in kilograms|1833243.0|21_miscellaneous_...|\n",
      "+---------------+----+---------+--------------------+------+---------+---------+-------------------+---------+--------------------+\n",
      "only showing top 5 rows\n",
      "\n"
     ]
    }
   ],
   "source": [
    "india_import_df.show(5)"
   ]
  },
  {
   "cell_type": "code",
   "execution_count": 85,
   "id": "7236b623",
   "metadata": {},
   "outputs": [
    {
     "name": "stdout",
     "output_type": "stream",
     "text": [
      "+------+--------------------+-----+---------------+----+\n",
      "|HSCode|           Commodity|value|        country|year|\n",
      "+------+--------------------+-----+---------------+----+\n",
      "|     2|MEAT AND EDIBLE M...| 0.18|AFGHANISTAN TIS|2018|\n",
      "|     3|FISH AND CRUSTACE...|  0.0|AFGHANISTAN TIS|2018|\n",
      "|     4|DAIRY PRODUCE; BI...|12.48|AFGHANISTAN TIS|2018|\n",
      "|     6|LIVE TREES AND OT...|  0.0|AFGHANISTAN TIS|2018|\n",
      "|     7|EDIBLE VEGETABLES...| 1.89|AFGHANISTAN TIS|2018|\n",
      "+------+--------------------+-----+---------------+----+\n",
      "only showing top 5 rows\n",
      "\n"
     ]
    }
   ],
   "source": [
    "spark_india.show(5)"
   ]
  },
  {
   "cell_type": "code",
   "execution_count": 86,
   "id": "662db3c2",
   "metadata": {},
   "outputs": [
    {
     "name": "stdout",
     "output_type": "stream",
     "text": [
      "+--------+----+-----------+\n",
      "|Country |year|        GDP|\n",
      "+--------+----+-----------+\n",
      "|   India|1990|1236.671208|\n",
      "|   India|1991|1265.917481|\n",
      "|   India|1992|1338.664595|\n",
      "|   India|1993|1407.473802|\n",
      "|   India|1994|1503.745417|\n",
      "+--------+----+-----------+\n",
      "only showing top 5 rows\n",
      "\n"
     ]
    }
   ],
   "source": [
    "india_gdp_spark.show(5)"
   ]
  },
  {
   "cell_type": "code",
   "execution_count": 84,
   "id": "39cba2a6",
   "metadata": {},
   "outputs": [
    {
     "name": "stdout",
     "output_type": "stream",
     "text": [
      "+-------+----+---------------------------+\n",
      "|Country|Year|annual_co2_emissions_tonnes|\n",
      "+-------+----+---------------------------+\n",
      "|  India|1751|                        0.0|\n",
      "|  India|1752|                        0.0|\n",
      "|  India|1753|                        0.0|\n",
      "|  India|1754|                        0.0|\n",
      "|  India|1755|                        0.0|\n",
      "+-------+----+---------------------------+\n",
      "only showing top 5 rows\n",
      "\n"
     ]
    }
   ],
   "source": [
    "india_emissions.show(5)"
   ]
  },
  {
   "cell_type": "code",
   "execution_count": null,
   "id": "53015a10",
   "metadata": {},
   "outputs": [],
   "source": []
  }
 ],
 "metadata": {
  "kernelspec": {
   "display_name": "Python 3 (ipykernel)",
   "language": "python",
   "name": "python3"
  },
  "language_info": {
   "codemirror_mode": {
    "name": "ipython",
    "version": 3
   },
   "file_extension": ".py",
   "mimetype": "text/x-python",
   "name": "python",
   "nbconvert_exporter": "python",
   "pygments_lexer": "ipython3",
   "version": "3.9.7"
  }
 },
 "nbformat": 4,
 "nbformat_minor": 5
}
