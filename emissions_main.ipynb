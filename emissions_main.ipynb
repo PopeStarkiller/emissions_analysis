{
 "cells": [
  {
   "cell_type": "code",
   "execution_count": 1,
   "id": "b29a811e",
   "metadata": {},
   "outputs": [],
   "source": [
    "import os\n",
    "spark_version = 'spark-3.1.2'\n",
    "os.environ['SPARK_VERSION']=spark_version\n",
    "os.environ[\"JAVA_HOME\"] = \"C:\\Program Files\\Java\\jdk-11.0.11\"\n",
    "os.environ[\"SPARK_HOME\"] = f\"C:\\spark\\spark-3.1.2-bin-hadoop3.2\"\n",
    "import findspark\n",
    "import pyspark\n",
    "from pyspark.sql import SparkSession\n",
    "findspark.init()\n",
    "spark = SparkSession.builder.appName(\"emissionsdataframe\").getOrCreate()\n",
    "from sqlalchemy import create_engine, insert\n",
    "from sqlalchemy.ext.declarative import declarative_base\n",
    "from sqlalchemy import MetaData, update, Table\n",
    "from sqlalchemy.orm import Session\n",
    "from sqlalchemy.orm import sessionmaker\n",
    "from sqlalchemy.exc import SQLAlchemyError\n",
    "import pandas as pd\n",
    "import config\n",
    "from pyspark.sql.types import IntegerType,BooleanType,DateType\n",
    "from pyspark.sql.functions import col\n",
    "from pyspark.sql import Row\n"
   ]
  },
  {
   "cell_type": "code",
   "execution_count": 2,
   "id": "a9375fb4",
   "metadata": {},
   "outputs": [],
   "source": [
    "rds_string = config.rds_string\n",
    "engine = create_engine(f'postgresql://{rds_string}')\n",
    "conn = engine.connect()\n",
    "metadata = MetaData(engine)"
   ]
  },
  {
   "cell_type": "code",
   "execution_count": 3,
   "id": "0d1ff101",
   "metadata": {},
   "outputs": [],
   "source": [
    "def sql_to_spark(table):\n",
    "    from pyspark.sql import Row\n",
    "    from sqlalchemy.orm import Session, sessionmaker\n",
    "    from sqlalchemy import MetaData, Table\n",
    "    metadata = MetaData(engine)\n",
    "    table_var = Table(table, metadata, autoload=True, autoload_with=engine)\n",
    "    Session = sessionmaker()\n",
    "    Session.configure(bind=engine)\n",
    "    session = Session()\n",
    "    query = session.query(table_var).all()\n",
    "    steve = table_var.metadata.tables[table].columns.keys()\n",
    "    query_list = []\n",
    "    for i in query:\n",
    "        q_len = len(i)\n",
    "        temp_dict = {}\n",
    "        for j in range(q_len):\n",
    "            key = steve[j]\n",
    "            value = i[j]\n",
    "            if value == None:\n",
    "                value = float(0)\n",
    "            temp_dict[key] = value\n",
    "            if j == (q_len - 1):\n",
    "                query_list.append(temp_dict)\n",
    "    df = spark.createDataFrame(Row(**x) for x in query_list)\n",
    "    return df\n",
    "\n",
    "def query_maker(table):\n",
    "    from sqlalchemy.orm import Session, sessionmaker\n",
    "    from sqlalchemy import MetaData, Table\n",
    "    metadata = MetaData(engine)\n",
    "    table_var = Table(table, metadata, autoload=True, autoload_with=engine)\n",
    "    Session = sessionmaker()\n",
    "    Session.configure(bind=engine)\n",
    "    session = Session()\n",
    "    query = session.query(table_var).all()\n",
    "    steve = table_var.metadata.tables[table].columns.keys()\n",
    "    return (query, steve)\n",
    "\n",
    "def spark_maker(query,country):\n",
    "    c_list = []\n",
    "    for i in query:\n",
    "        q_len = len(i)\n",
    "        if i[0] == country:\n",
    "            temp_dict = {}\n",
    "            for j in range(q_len):\n",
    "                key = steve[j]\n",
    "                value = i[j]\n",
    "                if value == None:\n",
    "                    value = float(0)\n",
    "                temp_dict[key] = value\n",
    "                if j == (q_len - 1):\n",
    "                    c_list.append(temp_dict)\n",
    "    df = spark.createDataFrame(Row(**x) for x in c_list) \n",
    "    return df\n",
    "\n",
    "def sql_spark_trade(table, country):\n",
    "    from sqlalchemy.orm import Session, sessionmaker\n",
    "    from sqlalchemy import MetaData, Table\n",
    "    metadata = MetaData(engine)\n",
    "    table_var = Table(table, metadata, autoload=True, autoload_with=engine)\n",
    "    Session = sessionmaker()\n",
    "    Session.configure(bind=engine)\n",
    "    session = Session()\n",
    "    query = session.query(table_var).filter(table_var.c.country_or_area == country).all()\n",
    "    steve = table_var.metadata.tables[table].columns.keys()\n",
    "    c_list = []\n",
    "    for i in query:\n",
    "        q_len = len(i)\n",
    "        if i[0] == country:\n",
    "            temp_dict = {}\n",
    "            for j in range(q_len):\n",
    "                key = steve[j]\n",
    "                value = i[j]\n",
    "                if value == None:\n",
    "                    value = float(0)\n",
    "                temp_dict[key] = value\n",
    "                if j == (q_len - 1):\n",
    "                    c_list.append(temp_dict)\n",
    "    df = spark.createDataFrame(Row(**x) for x in c_list)\n",
    "    return df"
   ]
  },
  {
   "cell_type": "code",
   "execution_count": 4,
   "id": "5eca9d57",
   "metadata": {},
   "outputs": [],
   "source": [
    "from sqlalchemy import MetaData, Table\n",
    "metadata = MetaData(engine)\n",
    "global_trade = Table(\"global_trade\", metadata, autoload=True, autoload_with=engine)\n",
    "trade_schema = global_trade.metadata.tables[\"global_trade\"].columns.keys()\n",
    "trade_schema"
   ]
  },
  {
   "cell_type": "code",
   "execution_count": 14,
   "id": "870954d1",
   "metadata": {},
   "outputs": [],
   "source": [
    "india_trade_spark = sql_spark_trade(\"global_trade\",\"India\")\n"
   ]
  },
  {
   "cell_type": "code",
   "execution_count": 17,
   "id": "6113cb5f",
   "metadata": {},
   "outputs": [
    {
     "name": "stdout",
     "output_type": "stream",
     "text": [
      "+---------------+----+---------+--------------------+------+---------+-----------+-------------------+-----------+--------------------+\n",
      "|country_or_area|year|comm_code|           commodity|  flow|trade_usd|  weight_kg|      quantity_name|   quantity|            category|\n",
      "+---------------+----+---------+--------------------+------+---------+-----------+-------------------+-----------+--------------------+\n",
      "|          India|2016|   210110|Coffee extracts, ...|Import| 13371521|  1881816.0|Weight in kilograms|  1881816.0|21_miscellaneous_...|\n",
      "|          India|2016|   210110|Coffee extracts, ...|Export|276962932|4.0752197E7|Weight in kilograms|4.0752197E7|21_miscellaneous_...|\n",
      "|          India|2016|   210120|Tea and mate extr...|Import|  1988772|   105363.0|Weight in kilograms|   105363.0|21_miscellaneous_...|\n",
      "|          India|2016|   210120|Tea and mate extr...|Export| 43467004|  6351410.0|Weight in kilograms|  6351410.0|21_miscellaneous_...|\n",
      "|          India|2016|   210130|Chicory & other c...|Import|    17363|     1266.0|Weight in kilograms|     1266.0|21_miscellaneous_...|\n",
      "|          India|2016|   210130|Chicory & other c...|Export| 17190546|1.8826556E7|Weight in kilograms|1.8826556E7|21_miscellaneous_...|\n",
      "|          India|2016|   210210|      Yeasts, active|Import| 15532547|  4839851.0|Weight in kilograms|  4839851.0|21_miscellaneous_...|\n",
      "|          India|2016|   210210|      Yeasts, active|Export|   331233|   224155.0|Weight in kilograms|   224155.0|21_miscellaneous_...|\n",
      "|          India|2016|   210220|Yeasts, inactive,...|Import|  1317256|  1833243.0|Weight in kilograms|  1833243.0|21_miscellaneous_...|\n",
      "|          India|2016|   210220|Yeasts, inactive,...|Export|   177037|    82352.0|Weight in kilograms|    82352.0|21_miscellaneous_...|\n",
      "|          India|2016|   210230|Baking powders, p...|Import|   103195|    20459.0|Weight in kilograms|    20459.0|21_miscellaneous_...|\n",
      "|          India|2016|   210230|Baking powders, p...|Export|   833156|   544402.0|Weight in kilograms|   544402.0|21_miscellaneous_...|\n",
      "|          India|2016|   210310|          Soya sauce|Import|   846263|   634749.0|Weight in kilograms|   634749.0|21_miscellaneous_...|\n",
      "|          India|2016|   210310|          Soya sauce|Export|   851500|   975183.0|Weight in kilograms|   975183.0|21_miscellaneous_...|\n",
      "|          India|2016|   210320|Tomato ketchup an...|Import|  3077169|  3211357.0|Weight in kilograms|  3211357.0|21_miscellaneous_...|\n",
      "|          India|2016|   210320|Tomato ketchup an...|Export|  5538230|  3071229.0|Weight in kilograms|  3071229.0|21_miscellaneous_...|\n",
      "|          India|2016|   210330|Mustard flour or ...|Export|    31396|    10200.0|Weight in kilograms|    10200.0|21_miscellaneous_...|\n",
      "|          India|2016|   210330|Mustard flour or ...|Import|   319999|   158878.0|Weight in kilograms|   158878.0|21_miscellaneous_...|\n",
      "|          India|2016|   210390|Sauces nes, mixed...|Import| 11796409|  4430660.0|Weight in kilograms|  4430660.0|21_miscellaneous_...|\n",
      "|          India|2016|   210390|Sauces nes, mixed...|Export| 46269457|1.5777872E7|Weight in kilograms|1.5777872E7|21_miscellaneous_...|\n",
      "+---------------+----+---------+--------------------+------+---------+-----------+-------------------+-----------+--------------------+\n",
      "only showing top 20 rows\n",
      "\n"
     ]
    }
   ],
   "source": [
    "india_trade_spark.show(truncate=True)"
   ]
  },
  {
   "cell_type": "code",
   "execution_count": null,
   "id": "1efe338c",
   "metadata": {},
   "outputs": [],
   "source": [
    "india_trade_spark.filter(india_trade_spark[\"Country \"] == \"Afghanistan\").select(['Country ']).show()"
   ]
  },
  {
   "cell_type": "code",
   "execution_count": null,
   "id": "bad75152",
   "metadata": {},
   "outputs": [],
   "source": [
    "sparkDF.select(['Country ']).show()"
   ]
  },
  {
   "cell_type": "code",
   "execution_count": 27,
   "id": "04c2b73a",
   "metadata": {},
   "outputs": [],
   "source": [
    "spark_gdp=sql_to_spark('gdp_data')"
   ]
  },
  {
   "cell_type": "code",
   "execution_count": 28,
   "id": "36045d98",
   "metadata": {},
   "outputs": [],
   "source": [
    "spark_india=sql_to_spark(\"india_export_data\")"
   ]
  },
  {
   "cell_type": "code",
   "execution_count": 29,
   "id": "bc065fde",
   "metadata": {},
   "outputs": [],
   "source": [
    "spark_emissions=sql_to_spark('global_emissions')"
   ]
  },
  {
   "cell_type": "code",
   "execution_count": 18,
   "id": "5a420011",
   "metadata": {},
   "outputs": [],
   "source": [
    "india_trade_spark_y = india_trade_spark.withColumn(\"year\",india_trade_spark.year.cast('int'))"
   ]
  },
  {
   "cell_type": "code",
   "execution_count": 19,
   "id": "aa3238f3",
   "metadata": {},
   "outputs": [
    {
     "name": "stdout",
     "output_type": "stream",
     "text": [
      "root\n",
      " |-- country_or_area: string (nullable = true)\n",
      " |-- year: integer (nullable = true)\n",
      " |-- comm_code: string (nullable = true)\n",
      " |-- commodity: string (nullable = true)\n",
      " |-- flow: string (nullable = true)\n",
      " |-- trade_usd: long (nullable = true)\n",
      " |-- weight_kg: double (nullable = true)\n",
      " |-- quantity_name: string (nullable = true)\n",
      " |-- quantity: double (nullable = true)\n",
      " |-- category: string (nullable = true)\n",
      "\n"
     ]
    }
   ],
   "source": [
    "india_trade_spark_y.printSchema()"
   ]
  },
  {
   "cell_type": "code",
   "execution_count": 20,
   "id": "60d305db",
   "metadata": {},
   "outputs": [
    {
     "name": "stdout",
     "output_type": "stream",
     "text": [
      "+---------------+----+---------+--------------------+------+---------+---------+-------------------+--------+--------------------+\n",
      "|country_or_area|year|comm_code|           commodity|  flow|trade_usd|weight_kg|      quantity_name|quantity|            category|\n",
      "+---------------+----+---------+--------------------+------+---------+---------+-------------------+--------+--------------------+\n",
      "|          India|1988|   420100|Saddlery and harn...|Import|      151|     11.0|Weight in kilograms|    11.0|42_articles_of_le...|\n",
      "+---------------+----+---------+--------------------+------+---------+---------+-------------------+--------+--------------------+\n",
      "only showing top 1 row\n",
      "\n"
     ]
    }
   ],
   "source": [
    "india_trade_spark_y.orderBy(india_trade_spark_y.year.asc()).show(1)"
   ]
  },
  {
   "cell_type": "code",
   "execution_count": 21,
   "id": "99fd4faa",
   "metadata": {},
   "outputs": [],
   "source": [
    "india_export_df = india_trade_spark_y.filter(india_trade_spark_y['flow'] == \"Export\")"
   ]
  },
  {
   "cell_type": "code",
   "execution_count": 23,
   "id": "f5c9f68a",
   "metadata": {},
   "outputs": [],
   "source": [
    "india_import_df = india_trade_spark_y.filter(india_trade_spark_y['flow'] == \"Import\")"
   ]
  },
  {
   "cell_type": "code",
   "execution_count": 24,
   "id": "42801926",
   "metadata": {},
   "outputs": [],
   "source": [
    "from pyspark.sql.functions import array, col, explode, lit, struct\n",
    "from pyspark.sql import DataFrame\n",
    "from typing import Iterable"
   ]
  },
  {
   "cell_type": "code",
   "execution_count": 25,
   "id": "f3c24321",
   "metadata": {},
   "outputs": [],
   "source": [
    "\n",
    "\n",
    "def melt(\n",
    "        df: DataFrame, \n",
    "        id_vars: Iterable[str], value_vars: Iterable[str], \n",
    "        var_name: str=\"variable\", value_name: str=\"value\") -> DataFrame:\n",
    "    \"\"\"Convert :class:`DataFrame` from wide to long format.\"\"\"\n",
    "\n",
    "    # Create array<struct<variable: str, value: ...>>\n",
    "    _vars_and_vals = array(*(\n",
    "        struct(lit(c).alias(var_name), col(c).alias(value_name)) \n",
    "        for c in value_vars))\n",
    "\n",
    "    # Add to the DataFrame and explode\n",
    "    _tmp = df.withColumn(\"_vars_and_vals\", explode(_vars_and_vals))\n",
    "\n",
    "    cols = id_vars + [\n",
    "            col(\"_vars_and_vals\")[x].alias(x) for x in [var_name, value_name]]\n",
    "    return _tmp.select(*cols)"
   ]
  },
  {
   "cell_type": "code",
   "execution_count": 30,
   "id": "f8271476",
   "metadata": {},
   "outputs": [
    {
     "name": "stdout",
     "output_type": "stream",
     "text": [
      "+--------------------+------------+-----------+-----------+-----------+-----------+-----------+-----------+-----------+-----------+-----------+-----------+-----------+-----------+-----------+-----------+-----------+-----------+-----------+-----------+-----------+-----------+-----------+-----------+-----------+-----------+-----------+-----------+-----------+-----------+-----------+----+\n",
      "|            Country |Country Code|       1990|       1991|       1992|       1993|       1994|       1995|       1996|       1997|       1998|       1999|       2000|       2001|       2002|       2003|       2004|       2005|       2006|       2007|       2008|       2009|       2010|       2011|       2012|       2013|       2014|       2015|       2016|       2017|       2018|2019|\n",
      "+--------------------+------------+-----------+-----------+-----------+-----------+-----------+-----------+-----------+-----------+-----------+-----------+-----------+-----------+-----------+-----------+-----------+-----------+-----------+-----------+-----------+-----------+-----------+-----------+-----------+-----------+-----------+-----------+-----------+-----------+-----------+----+\n",
      "|               Aruba|         ABW|24101.10943|25870.75594| 26533.3439| 27430.7524|28656.52021|28648.99002|28499.08943|30215.94923|30512.68391| 30728.0545|33120.05418|32117.91232|30862.22269|31387.28296| 34176.4646|35207.57724|36362.21932|37865.49349| 38515.2638|34693.08675|33732.84745|35492.61849|35498.98209|37419.89282|38223.37226|38249.05487|38390.27165|39454.62983|        0.0| 0.0|\n",
      "|         Afghanistan|         AFG|        0.0|        0.0|        0.0|        0.0|        0.0|        0.0|        0.0|        0.0|        0.0|        0.0|        0.0|        0.0|839.4858861|  888.15337| 885.840819|979.2739786|1031.643135|1176.126357|1218.118215|1454.663015|1637.377987|1626.764793| 1806.76393|1874.765634|1897.525938|1886.692977| 1896.99252|1934.636754|1955.006208| 0.0|\n",
      "|              Angola|         AGO|3089.683369|3120.356148|2908.160798| 2190.76816|2195.532289|2496.199493|2794.896906|2953.342709|3027.341795|3037.721175|3097.307292|3191.266323|3564.096026|3614.607278|3978.697194|4555.185842|5048.876449|5697.251328|6221.423373|6092.783245|6230.297028|6346.395122|6772.528333|6980.423038|7199.245478|7096.600615|6756.935074| 6650.58494|6452.355165| 0.0|\n",
      "|             Albania|         ALB|2549.473022|1909.114038|1823.307673|2057.449657|2289.873135|2665.764906|2980.066288|2717.362124|3021.014738|3471.652592|3861.334172|4301.352799|4661.371553|4994.518807|5422.778462|5865.306196|6559.783257|7276.302969|8228.374239|8814.810856|9628.025783|10207.75235|10526.23545|10571.01065|11259.22589|11662.03048|11868.17897|12930.14003| 13364.1554| 0.0|\n",
      "|          Arab World|         ARB|6808.206995|6872.273195|7255.328362|7458.647059|7645.682856| 7774.20736|8094.149842|8397.515692|8797.662606|8938.451524|9415.632618|9584.108301|9581.797143|9974.641898|10937.31609|11646.48609|12442.18794|13041.92553|13739.72775|13640.84678|14127.77802|14518.82745|15423.46539|15824.78011|16153.24486|16501.79259| 16935.3833|17099.88939| 17570.1376| 0.0|\n",
      "|United Arab Emirates|         ARE|72906.52012|71753.72956|71567.82752|70082.38933|72471.68729|74994.38062|76848.79224|80390.06411|77421.10866|76654.25591|82215.31447|80843.60537|79863.48973|82946.33521|85147.21909|81635.46797|79970.73625| 72802.1616|66641.48428|56975.52938|54230.17367|56574.28818|58961.20201|62641.83699|66443.99758|70212.09301|72386.09047|73137.87019|75075.25741| 0.0|\n",
      "|           Argentina|         ARG|7380.115031|8210.643432|8942.569853|9777.214005|10435.91077|10225.11871|10857.42967|11802.84259|12255.67626|11878.73117|11916.58261|11514.61911|10310.12912|11307.75798| 12527.8005|13916.53051|15334.93686|16994.69598|17850.13019|16753.39489|18524.85676|19817.45048|19764.22501|20365.61335|20008.32064|20551.83319|20130.40803|20843.15507|20610.56855| 0.0|\n",
      "|             Armenia|         ARM| 2428.55896|2237.752728|1356.210786|1296.178498|1429.102386|1591.894846|1742.734114|1852.200102| 2025.55542|2136.121598|2327.362521|2621.854364|3031.121882|3539.630267|4038.455075|4772.590047| 5609.16897|6609.171824|7264.561195|6326.657969| 6565.67866|7019.767748|7649.061531|8003.087763|8405.073655|8727.385447|8808.572714|9620.818491|10343.17559| 0.0|\n",
      "| Antigua and Barbuda|         ATG|11326.70262|11806.23441|12005.98679|12682.47535|13524.67029|12924.35537|13729.75755|14416.11487|14951.18066| 15423.9946|16526.98722|15804.12156|15994.17615|17059.13716|18284.46766|19784.96679|  22634.001|24994.55822|25064.10177|21852.20308|20134.81725|19876.21532|20672.91206|20656.38158|21599.19914|22422.02939|23670.30226|24644.55188|26868.13352| 0.0|\n",
      "|           Australia|         AUS|17329.70661|17790.98014|18189.37874|19131.84187|20064.45901|20894.39721|21972.05265|22934.78601|24196.72128|25264.36436|26328.67368|27336.68269|28718.24108|29693.90591|31327.37749|32575.06925|34306.65231|36560.40565|37459.30765|40300.30823|39324.36895|41965.35842|42826.78958|45902.04795|46880.22066|46276.15069|47305.88002|49628.81181|51663.36509| 0.0|\n",
      "|             Austria|         AUT|19442.31204|20585.01931|21259.63675|21698.30767|22606.82964|23660.40861|24529.20783|25424.06993|26674.60955|27606.48303|29380.06604|29715.22222|31178.69333|32108.63255|33743.04471|35013.71404|37623.07576|39392.54059|41316.22518|40926.52376|42006.04688|44452.73275|46457.34578|47922.04912|48799.71547|49879.26647|51809.51363|53937.06638|55454.68929| 0.0|\n",
      "|          Azerbaijan|         AZE|5703.869981|5765.287722|4495.397859|3485.511594|2820.251167|2510.538535|   2563.721|2732.700287|3011.087717|3251.934938|3663.445253| 4082.68233|4504.976485|5018.890056|5581.871258|7290.229953|9989.206473|12724.34834|14047.66019| 15162.8878|15884.04479|15754.15236|16193.39567|17216.17853| 17808.9019|17973.09067|17417.08669|17525.27963|18044.13678| 0.0|\n",
      "|             Burundi|         BDI|666.7039012|707.3092624|715.2297296|673.1692275|649.8996288|601.9874705|557.1693503|552.1150432|578.8523018|573.7140549|571.3263123|582.4678169|601.5297558|587.2425099|612.4744378|617.0619445|648.7489871|666.8755949|689.7486433|698.1735533|718.7144691| 739.219255|762.4224795|788.8937827|812.0300436|764.1957633|743.9035976|737.9785829| 744.182072| 0.0|\n",
      "|             Belgium|         BEL|18659.11956|19570.87419|20240.98124|20441.22271|21485.12027|22411.75195|22715.63203|23729.79048|  24368.523|25440.84119|27788.43052|28800.12971|30282.28865|30898.60744|32033.87096|33177.89095|35222.60515|36755.65633|37883.33194|37757.28209|39836.89771|40942.37271|42290.76205|43671.11959|44929.68559|46213.26653|47855.49023|50220.86667|51407.99834| 0.0|\n",
      "|               Benin|         BEN|949.1686909|988.7710146|1005.614605|1052.038609|1059.292046| 1109.72406|1142.406294|1192.095665|1216.727387|1262.405244|1326.089814|1384.897282|1428.017897|1459.584662| 1518.93259|1546.708441|1609.104674|1701.971136|1769.252435|1773.729771|1781.563317|1820.889304|1891.530388|2006.327881|2114.480315|2122.235592|2169.755807| 2276.59573|2424.755845| 0.0|\n",
      "|        Burkina Faso|         BFA|547.9151714|601.5015452|600.2564122|618.7524048|623.0491023|654.2616207|719.4563667|756.7321851|798.4742693|845.7668493|855.7447616|906.0727906|933.2403657|995.4642409|1037.231644|1128.295648|1198.756926|1261.982902|1339.245523|1348.005973|  1394.2531|1472.715841|1550.630684|1620.205369|1672.023437|1704.859643|1772.848279|1866.514733|1984.884306| 0.0|\n",
      "|          Bangladesh|         BGD|  860.21051|899.1421235|948.2721469|994.6737327|1033.086949|1085.349904|1130.860059|1176.895726|1226.020893|1275.738234|1346.743205|1419.137782|1469.845761|1541.185923|1638.916165|1773.888588|1923.417573|2088.720935|2231.689464|2335.918717|2466.902949|2650.729933|2844.702565|3033.404632|3240.885623|3451.398507|3696.776193|3998.419424|4371.754986| 0.0|\n",
      "|            Bulgaria|         BGR|7493.206899|7162.974001|6866.765558|6980.869912|7284.255361|7683.853685|6779.308032|5696.765277|6141.212577|5767.167926|6377.837474|6908.956055|7726.400977|8343.138854|9122.849554|10211.27988|11313.55081|12800.81668|14328.98986| 14146.1069|14934.13274|15676.13334|16208.22043|16571.02876|17534.30326|18186.48723|19500.32945|20948.19428|21960.36994| 0.0|\n",
      "|             Bahrain|         BHR|22786.05097|25491.20716|27107.71135|30554.78561|30371.76011|31420.32574|32448.98025|33099.13889| 34002.2607|34685.45229|35763.21023|35689.48306|35551.58974|36338.58416|37461.93299|38492.09419|39170.68512|40300.17978|40565.77983| 39422.3421|39740.61794|40168.32789|41753.10138|44273.42185|46331.98242|46911.96227|47215.78618|47660.71731|47303.04851| 0.0|\n",
      "|        Bahamas, The|         BHS|20120.34846|19565.53696|18882.62026|19028.99141|19700.16227|20668.90774|21643.23036|22206.17095| 23253.1428| 24976.2782|26238.18446|27102.45479|27812.35914|27482.05591|27956.38229|29258.70162|30326.45273| 30996.4288|30299.92548|28760.51286|29099.05721|29503.70807|30656.13395|29977.73977|30482.19811|30696.33839|30863.26693|31155.14475|32087.72915| 0.0|\n",
      "+--------------------+------------+-----------+-----------+-----------+-----------+-----------+-----------+-----------+-----------+-----------+-----------+-----------+-----------+-----------+-----------+-----------+-----------+-----------+-----------+-----------+-----------+-----------+-----------+-----------+-----------+-----------+-----------+-----------+-----------+-----------+----+\n",
      "only showing top 20 rows\n",
      "\n"
     ]
    }
   ],
   "source": [
    "spark_gdp.show()"
   ]
  },
  {
   "cell_type": "code",
   "execution_count": null,
   "id": "2ac016ca",
   "metadata": {},
   "outputs": [],
   "source": []
  }
 ],
 "metadata": {
  "kernelspec": {
   "display_name": "Python 3 (ipykernel)",
   "language": "python",
   "name": "python3"
  },
  "language_info": {
   "codemirror_mode": {
    "name": "ipython",
    "version": 3
   },
   "file_extension": ".py",
   "mimetype": "text/x-python",
   "name": "python",
   "nbconvert_exporter": "python",
   "pygments_lexer": "ipython3",
   "version": "3.9.7"
  }
 },
 "nbformat": 4,
 "nbformat_minor": 5
}
