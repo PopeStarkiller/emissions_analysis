{
 "cells": [
  {
   "cell_type": "code",
   "execution_count": 1,
   "metadata": {},
   "outputs": [],
   "source": [
    "import os\n",
    "import config\n",
    "import platform\n",
    "v1, v2, v3 = config.spark_env(platform.node())\n",
    "os.environ['SPARK_VERSION'] = v1\n",
    "os.environ['JAVA_HOME'] = v2\n",
    "os.environ['SPARK_HOME'] = v3\n",
    "import findspark\n",
    "import pyspark\n",
    "from pyspark.sql import SparkSession\n",
    "findspark.init()\n",
    "spark = SparkSession.builder.appName(\"emissionsdataframe\").getOrCreate()\n",
    "from sqlalchemy import create_engine, insert\n",
    "from sqlalchemy.ext.declarative import declarative_base\n",
    "from sqlalchemy import MetaData, update, Table\n",
    "from sqlalchemy.orm import Session\n",
    "from sqlalchemy.orm import sessionmaker\n",
    "from sqlalchemy.exc import SQLAlchemyError\n",
    "import pandas as pd\n",
    "from pyspark.sql.types import IntegerType,BooleanType,DateType\n",
    "from pyspark.sql.functions import col\n",
    "from pyspark.sql import Row\n",
    "from pyspark.sql.functions import array, col, explode, lit, struct, log\n",
    "from pyspark.sql import DataFrame\n",
    "from typing import Iterable\n",
    "import numpy as np\n",
    "import spark_functions\n",
    "import tensorflow as tf\n",
    "import keras.metrics\n",
    "import pyspark.sql.functions as F\n",
    "import math\n",
    "from sklearn.preprocessing import StandardScaler\n",
    "from sklearn.metrics import confusion_matrix\n",
    "import seaborn as sns\n",
    "rds_string = config.rds_string\n",
    "engine = create_engine(f'postgresql://{rds_string}')\n",
    "conn = engine.connect()\n",
    "metadata = MetaData(engine)"
   ]
  },
  {
   "cell_type": "code",
   "execution_count": 9,
   "metadata": {},
   "outputs": [],
   "source": [
    "india_spark, india_cols = spark_functions.merged_df(\"India\")"
   ]
  },
  {
   "cell_type": "code",
   "execution_count": 10,
   "metadata": {},
   "outputs": [],
   "source": [
    "china_spark, china_cols = spark_functions.merged_df(\"China\")"
   ]
  },
  {
   "cell_type": "code",
   "execution_count": 11,
   "metadata": {},
   "outputs": [],
   "source": [
    "germany_spark, germany_cols = spark_functions.merged_df(\"Germany\")"
   ]
  },
  {
   "cell_type": "code",
   "execution_count": 12,
   "metadata": {},
   "outputs": [],
   "source": [
    "france_spark, france_cols = spark_functions.merged_df(\"France\")"
   ]
  },
  {
   "cell_type": "code",
   "execution_count": 13,
   "metadata": {},
   "outputs": [],
   "source": [
    "mexico_spark, mexico_cols = spark_functions.merged_df(\"Mexico\")"
   ]
  },
  {
   "cell_type": "code",
   "execution_count": 14,
   "metadata": {},
   "outputs": [],
   "source": [
    "us_spark, us_cols = spark_functions.merged_df(\"United States\")"
   ]
  },
  {
   "cell_type": "code",
   "execution_count": null,
   "metadata": {},
   "outputs": [],
   "source": []
  },
  {
   "cell_type": "code",
   "execution_count": 26,
   "metadata": {},
   "outputs": [],
   "source": [
    "def unions_spark(dfs):\n",
    "    steve = len(dfs)\n",
    "    df = dfs[0]\n",
    "    for i in range(steve - 1):\n",
    "        df = df.union(dfs[i+1])\n",
    "    return df"
   ]
  },
  {
   "cell_type": "code",
   "execution_count": 32,
   "metadata": {},
   "outputs": [],
   "source": [
    "dfs = [india_spark,china_spark,mexico_spark,us_spark, germany_spark, france_spark]"
   ]
  },
  {
   "cell_type": "code",
   "execution_count": 33,
   "metadata": {},
   "outputs": [
    {
     "data": {
      "text/plain": [
       "DataFrame[country: string, year: int, gdp: double, annual_co2_emissions_tonnes_log: double, import_trade_sum_usd_log: double, import_weight_sum_kg_log: double, import_quantity_sum_log: double, export_trade_sum_usd_log: double, export_weight_sum_kg_log: double, export_quantity_sum_log: double]"
      ]
     },
     "execution_count": 33,
     "metadata": {},
     "output_type": "execute_result"
    }
   ],
   "source": [
    "dfs[0]"
   ]
  },
  {
   "cell_type": "code",
   "execution_count": 36,
   "metadata": {},
   "outputs": [],
   "source": [
    "df = unions_spark(dfs)"
   ]
  },
  {
   "cell_type": "code",
   "execution_count": 37,
   "metadata": {},
   "outputs": [],
   "source": [
    "x_cols = [\n",
    " 'gdp',\n",
    " 'import_trade_sum_usd_log',\n",
    " 'import_weight_sum_kg_log',\n",
    " 'import_quantity_sum_log',\n",
    " 'export_trade_sum_usd_log',\n",
    " 'export_weight_sum_kg_log',\n",
    " 'export_quantity_sum_log']"
   ]
  },
  {
   "cell_type": "code",
   "execution_count": 83,
   "metadata": {},
   "outputs": [],
   "source": [
    "arr = np.array(df.select(\n",
    " 'gdp',\n",
    " 'import_trade_sum_usd_log',\n",
    " 'import_weight_sum_kg_log',\n",
    " 'import_quantity_sum_log',\n",
    " 'export_trade_sum_usd_log',\n",
    " 'export_weight_sum_kg_log',\n",
    " 'export_quantity_sum_log') \\\n",
    ".collect(),dtype = 'float')"
   ]
  },
  {
   "cell_type": "code",
   "execution_count": 84,
   "metadata": {},
   "outputs": [],
   "source": [
    "arr2 = np.array(df.select('annual_co2_emissions_tonnes_log').collect(),dtype = 'float')"
   ]
  },
  {
   "cell_type": "code",
   "execution_count": 40,
   "metadata": {},
   "outputs": [],
   "source": [
    "from sklearn.model_selection import train_test_split\n"
   ]
  },
  {
   "cell_type": "code",
   "execution_count": 86,
   "metadata": {},
   "outputs": [],
   "source": [
    "X_train, X_test, y_train, y_test = train_test_split(arr, arr2, test_size=0.2)\n",
    "X_test, X_val, y_test, y_val = train_test_split(X_test, y_test, test_size=0.2)"
   ]
  },
  {
   "cell_type": "code",
   "execution_count": 87,
   "metadata": {},
   "outputs": [],
   "source": [
    "X_scaler = StandardScaler().fit(X_train)"
   ]
  },
  {
   "cell_type": "code",
   "execution_count": 88,
   "metadata": {},
   "outputs": [],
   "source": [
    "X_train_scaled = X_scaler.transform(X_train)\n",
    "X_test_scaled = X_scaler.transform(X_test)\n",
    "X_val_scaled = X_scaler.transform(X_val)"
   ]
  },
  {
   "cell_type": "code",
   "execution_count": 89,
   "metadata": {},
   "outputs": [],
   "source": [
    "from tensorflow.keras.models import Sequential\n",
    "from tensorflow.keras.layers import Dense"
   ]
  },
  {
   "cell_type": "code",
   "execution_count": 90,
   "metadata": {},
   "outputs": [],
   "source": [
    "from tensorflow.keras.models import Sequential\n",
    "from tensorflow.keras.layers import Dense\n",
    "\n",
    "model = Sequential()\n",
    "model.add(Dense(units=100, activation='relu', input_dim=7))\n",
    "model.add(Dense(units=100, activation='relu'))\n",
    "model.add(Dense(units=100, activation='ReLU'))\n",
    "model.add(Dense(units=100, activation='PReLU'))\n",
    "model.add(Dense(units=100, activation='swish'))\n",
    "model.add(Dense(units=1, activation='linear'))"
   ]
  },
  {
   "cell_type": "code",
   "execution_count": 91,
   "metadata": {},
   "outputs": [
    {
     "name": "stdout",
     "output_type": "stream",
     "text": [
      "Model: \"sequential_1\"\n",
      "_________________________________________________________________\n",
      "Layer (type)                 Output Shape              Param #   \n",
      "=================================================================\n",
      "dense_6 (Dense)              (None, 100)               800       \n",
      "_________________________________________________________________\n",
      "dense_7 (Dense)              (None, 100)               10100     \n",
      "_________________________________________________________________\n",
      "dense_8 (Dense)              (None, 100)               10100     \n",
      "_________________________________________________________________\n",
      "dense_9 (Dense)              (None, 100)               10200     \n",
      "_________________________________________________________________\n",
      "dense_10 (Dense)             (None, 100)               10100     \n",
      "_________________________________________________________________\n",
      "dense_11 (Dense)             (None, 1)                 101       \n",
      "=================================================================\n",
      "Total params: 41,401\n",
      "Trainable params: 41,401\n",
      "Non-trainable params: 0\n",
      "_________________________________________________________________\n"
     ]
    }
   ],
   "source": [
    "model.summary()"
   ]
  },
  {
   "cell_type": "code",
   "execution_count": 92,
   "metadata": {},
   "outputs": [],
   "source": [
    "METRICS = [\n",
    "      keras.metrics.MeanAbsoluteError(name='mean_absolute_error'),\n",
    "      keras.metrics.MeanSquaredError(name='mean_squared_error')\n",
    "]\n",
    "\n",
    "\n",
    "early_stopping = tf.keras.callbacks.EarlyStopping(\n",
    "    monitor='mse', \n",
    "    verbose=1,\n",
    "    patience=10,\n",
    "    mode='max',\n",
    "    restore_best_weights=True)\n",
    "\n",
    "EPOCHS = 100"
   ]
  },
  {
   "cell_type": "code",
   "execution_count": 93,
   "metadata": {},
   "outputs": [],
   "source": [
    "model.compile(optimizer='adam',\n",
    "              loss='mse',\n",
    "              metrics=METRICS)"
   ]
  },
  {
   "cell_type": "code",
   "execution_count": 94,
   "metadata": {},
   "outputs": [
    {
     "name": "stdout",
     "output_type": "stream",
     "text": [
      "Epoch 1/100\n",
      "4/4 [==============================] - 0s 37ms/step - loss: 81.9798 - mean_absolute_error: 9.0414 - mean_squared_error: 81.9798 - val_loss: 79.1608 - val_mean_absolute_error: 8.8813 - val_mean_squared_error: 79.1608\n",
      "Epoch 2/100\n",
      "4/4 [==============================] - 0s 9ms/step - loss: 75.7604 - mean_absolute_error: 8.6918 - mean_squared_error: 75.7604 - val_loss: 70.9822 - val_mean_absolute_error: 8.3995 - val_mean_squared_error: 70.9822\n",
      "Epoch 3/100\n",
      "4/4 [==============================] - 0s 9ms/step - loss: 65.2685 - mean_absolute_error: 8.0506 - mean_squared_error: 65.2685 - val_loss: 56.8095 - val_mean_absolute_error: 7.4689 - val_mean_squared_error: 56.8095\n",
      "Epoch 4/100\n",
      "4/4 [==============================] - 0s 9ms/step - loss: 47.8645 - mean_absolute_error: 6.8223 - mean_squared_error: 47.8645 - val_loss: 34.9480 - val_mean_absolute_error: 5.6046 - val_mean_squared_error: 34.9480\n",
      "Epoch 5/100\n",
      "4/4 [==============================] - 0s 10ms/step - loss: 24.3316 - mean_absolute_error: 4.5786 - mean_squared_error: 24.3316 - val_loss: 17.5255 - val_mean_absolute_error: 3.8848 - val_mean_squared_error: 17.5255\n",
      "Epoch 6/100\n",
      "4/4 [==============================] - 0s 9ms/step - loss: 16.6677 - mean_absolute_error: 3.3760 - mean_squared_error: 16.6677 - val_loss: 21.0725 - val_mean_absolute_error: 3.2825 - val_mean_squared_error: 21.0725\n",
      "Epoch 7/100\n",
      "4/4 [==============================] - 0s 10ms/step - loss: 15.6472 - mean_absolute_error: 3.1751 - mean_squared_error: 15.6472 - val_loss: 9.5809 - val_mean_absolute_error: 2.8161 - val_mean_squared_error: 9.5809\n",
      "Epoch 8/100\n",
      "4/4 [==============================] - 0s 13ms/step - loss: 7.6678 - mean_absolute_error: 2.3291 - mean_squared_error: 7.6678 - val_loss: 9.0816 - val_mean_absolute_error: 2.7710 - val_mean_squared_error: 9.0816\n",
      "Epoch 9/100\n",
      "4/4 [==============================] - 0s 13ms/step - loss: 8.0068 - mean_absolute_error: 2.3995 - mean_squared_error: 8.0068 - val_loss: 8.3337 - val_mean_absolute_error: 2.6332 - val_mean_squared_error: 8.3337\n",
      "Epoch 10/100\n",
      "4/4 [==============================] - 0s 11ms/step - loss: 6.6099 - mean_absolute_error: 2.1657 - mean_squared_error: 6.6099 - val_loss: 5.5363 - val_mean_absolute_error: 2.1726 - val_mean_squared_error: 5.5363\n",
      "Epoch 11/100\n",
      "4/4 [==============================] - 0s 12ms/step - loss: 5.0633 - mean_absolute_error: 1.8188 - mean_squared_error: 5.0633 - val_loss: 4.2276 - val_mean_absolute_error: 1.7337 - val_mean_squared_error: 4.2276\n",
      "Epoch 12/100\n",
      "4/4 [==============================] - 0s 11ms/step - loss: 4.6624 - mean_absolute_error: 1.7271 - mean_squared_error: 4.6624 - val_loss: 3.7086 - val_mean_absolute_error: 1.6408 - val_mean_squared_error: 3.7086\n",
      "Epoch 13/100\n",
      "4/4 [==============================] - 0s 9ms/step - loss: 3.8418 - mean_absolute_error: 1.5551 - mean_squared_error: 3.8418 - val_loss: 3.5502 - val_mean_absolute_error: 1.7026 - val_mean_squared_error: 3.5502\n",
      "Epoch 14/100\n",
      "4/4 [==============================] - 0s 10ms/step - loss: 3.4705 - mean_absolute_error: 1.4637 - mean_squared_error: 3.4705 - val_loss: 3.6195 - val_mean_absolute_error: 1.7362 - val_mean_squared_error: 3.6195\n",
      "Epoch 15/100\n",
      "4/4 [==============================] - 0s 11ms/step - loss: 3.0513 - mean_absolute_error: 1.3777 - mean_squared_error: 3.0513 - val_loss: 2.9983 - val_mean_absolute_error: 1.5473 - val_mean_squared_error: 2.9983\n",
      "Epoch 16/100\n",
      "4/4 [==============================] - 0s 10ms/step - loss: 2.6612 - mean_absolute_error: 1.3028 - mean_squared_error: 2.6612 - val_loss: 2.4955 - val_mean_absolute_error: 1.3351 - val_mean_squared_error: 2.4955\n",
      "Epoch 17/100\n",
      "4/4 [==============================] - 0s 10ms/step - loss: 2.5062 - mean_absolute_error: 1.2609 - mean_squared_error: 2.5062 - val_loss: 2.2100 - val_mean_absolute_error: 1.2325 - val_mean_squared_error: 2.2100\n",
      "Epoch 18/100\n",
      "4/4 [==============================] - 0s 10ms/step - loss: 2.0831 - mean_absolute_error: 1.1368 - mean_squared_error: 2.0831 - val_loss: 2.0429 - val_mean_absolute_error: 1.2502 - val_mean_squared_error: 2.0429\n",
      "Epoch 19/100\n",
      "4/4 [==============================] - 0s 11ms/step - loss: 2.0433 - mean_absolute_error: 1.1027 - mean_squared_error: 2.0433 - val_loss: 1.8823 - val_mean_absolute_error: 1.2060 - val_mean_squared_error: 1.8823\n",
      "Epoch 20/100\n",
      "4/4 [==============================] - 0s 10ms/step - loss: 1.7108 - mean_absolute_error: 1.0224 - mean_squared_error: 1.7108 - val_loss: 1.3714 - val_mean_absolute_error: 0.9718 - val_mean_squared_error: 1.3714\n",
      "Epoch 21/100\n",
      "4/4 [==============================] - 0s 10ms/step - loss: 1.4707 - mean_absolute_error: 0.9458 - mean_squared_error: 1.4707 - val_loss: 1.1554 - val_mean_absolute_error: 0.7966 - val_mean_squared_error: 1.1554\n",
      "Epoch 22/100\n",
      "4/4 [==============================] - 0s 9ms/step - loss: 1.3085 - mean_absolute_error: 0.8945 - mean_squared_error: 1.3085 - val_loss: 1.0278 - val_mean_absolute_error: 0.8147 - val_mean_squared_error: 1.0278\n",
      "Epoch 23/100\n",
      "4/4 [==============================] - 0s 9ms/step - loss: 1.0834 - mean_absolute_error: 0.8080 - mean_squared_error: 1.0834 - val_loss: 0.8982 - val_mean_absolute_error: 0.7549 - val_mean_squared_error: 0.8982\n",
      "Epoch 24/100\n",
      "4/4 [==============================] - 0s 9ms/step - loss: 0.9249 - mean_absolute_error: 0.7395 - mean_squared_error: 0.9249 - val_loss: 0.7908 - val_mean_absolute_error: 0.6812 - val_mean_squared_error: 0.7908\n",
      "Epoch 25/100\n",
      "4/4 [==============================] - 0s 9ms/step - loss: 0.7849 - mean_absolute_error: 0.6664 - mean_squared_error: 0.7849 - val_loss: 0.6566 - val_mean_absolute_error: 0.5842 - val_mean_squared_error: 0.6566\n",
      "Epoch 26/100\n",
      "4/4 [==============================] - 0s 9ms/step - loss: 0.6668 - mean_absolute_error: 0.6083 - mean_squared_error: 0.6668 - val_loss: 0.5205 - val_mean_absolute_error: 0.5157 - val_mean_squared_error: 0.5205\n",
      "Epoch 27/100\n",
      "4/4 [==============================] - 0s 9ms/step - loss: 0.5326 - mean_absolute_error: 0.5454 - mean_squared_error: 0.5326 - val_loss: 0.4615 - val_mean_absolute_error: 0.4608 - val_mean_squared_error: 0.4615\n",
      "Epoch 28/100\n",
      "4/4 [==============================] - 0s 9ms/step - loss: 0.4218 - mean_absolute_error: 0.4759 - mean_squared_error: 0.4218 - val_loss: 0.4129 - val_mean_absolute_error: 0.4640 - val_mean_squared_error: 0.4129\n",
      "Epoch 29/100\n",
      "4/4 [==============================] - 0s 9ms/step - loss: 0.3348 - mean_absolute_error: 0.4247 - mean_squared_error: 0.3348 - val_loss: 0.4017 - val_mean_absolute_error: 0.4770 - val_mean_squared_error: 0.4017\n",
      "Epoch 30/100\n",
      "4/4 [==============================] - 0s 9ms/step - loss: 0.2761 - mean_absolute_error: 0.3815 - mean_squared_error: 0.2761 - val_loss: 0.3782 - val_mean_absolute_error: 0.4647 - val_mean_squared_error: 0.3782\n",
      "Epoch 31/100\n",
      "4/4 [==============================] - 0s 9ms/step - loss: 0.2263 - mean_absolute_error: 0.3393 - mean_squared_error: 0.2263 - val_loss: 0.3660 - val_mean_absolute_error: 0.4601 - val_mean_squared_error: 0.3660\n",
      "Epoch 32/100\n",
      "4/4 [==============================] - 0s 9ms/step - loss: 0.1869 - mean_absolute_error: 0.3047 - mean_squared_error: 0.1869 - val_loss: 0.3383 - val_mean_absolute_error: 0.4422 - val_mean_squared_error: 0.3383\n",
      "Epoch 33/100\n",
      "4/4 [==============================] - 0s 9ms/step - loss: 0.1567 - mean_absolute_error: 0.2848 - mean_squared_error: 0.1567 - val_loss: 0.2937 - val_mean_absolute_error: 0.4216 - val_mean_squared_error: 0.2937\n",
      "Epoch 34/100\n",
      "4/4 [==============================] - 0s 9ms/step - loss: 0.1330 - mean_absolute_error: 0.2548 - mean_squared_error: 0.1330 - val_loss: 0.3163 - val_mean_absolute_error: 0.4261 - val_mean_squared_error: 0.3163\n",
      "Epoch 35/100\n",
      "4/4 [==============================] - 0s 9ms/step - loss: 0.1139 - mean_absolute_error: 0.2325 - mean_squared_error: 0.1139 - val_loss: 0.2814 - val_mean_absolute_error: 0.4093 - val_mean_squared_error: 0.2814\n",
      "Epoch 36/100\n",
      "4/4 [==============================] - 0s 9ms/step - loss: 0.1058 - mean_absolute_error: 0.2294 - mean_squared_error: 0.1058 - val_loss: 0.2676 - val_mean_absolute_error: 0.3993 - val_mean_squared_error: 0.2676\n",
      "Epoch 37/100\n"
     ]
    },
    {
     "name": "stdout",
     "output_type": "stream",
     "text": [
      "4/4 [==============================] - 0s 9ms/step - loss: 0.0897 - mean_absolute_error: 0.2087 - mean_squared_error: 0.0897 - val_loss: 0.2620 - val_mean_absolute_error: 0.3906 - val_mean_squared_error: 0.2620\n",
      "Epoch 38/100\n",
      "4/4 [==============================] - 0s 10ms/step - loss: 0.0787 - mean_absolute_error: 0.1975 - mean_squared_error: 0.0787 - val_loss: 0.2305 - val_mean_absolute_error: 0.3726 - val_mean_squared_error: 0.2305\n",
      "Epoch 39/100\n",
      "4/4 [==============================] - 0s 9ms/step - loss: 0.0746 - mean_absolute_error: 0.1981 - mean_squared_error: 0.0746 - val_loss: 0.2062 - val_mean_absolute_error: 0.3533 - val_mean_squared_error: 0.2062\n",
      "Epoch 40/100\n",
      "4/4 [==============================] - 0s 10ms/step - loss: 0.0681 - mean_absolute_error: 0.1850 - mean_squared_error: 0.0681 - val_loss: 0.2176 - val_mean_absolute_error: 0.3612 - val_mean_squared_error: 0.2176\n",
      "Epoch 41/100\n",
      "4/4 [==============================] - 0s 10ms/step - loss: 0.0642 - mean_absolute_error: 0.1801 - mean_squared_error: 0.0642 - val_loss: 0.1957 - val_mean_absolute_error: 0.3462 - val_mean_squared_error: 0.1957\n",
      "Epoch 42/100\n",
      "4/4 [==============================] - 0s 9ms/step - loss: 0.0601 - mean_absolute_error: 0.1732 - mean_squared_error: 0.0601 - val_loss: 0.1854 - val_mean_absolute_error: 0.3344 - val_mean_squared_error: 0.1854\n",
      "Epoch 43/100\n",
      "4/4 [==============================] - 0s 9ms/step - loss: 0.0563 - mean_absolute_error: 0.1707 - mean_squared_error: 0.0563 - val_loss: 0.1781 - val_mean_absolute_error: 0.3314 - val_mean_squared_error: 0.1781\n",
      "Epoch 44/100\n",
      "4/4 [==============================] - 0s 9ms/step - loss: 0.0532 - mean_absolute_error: 0.1628 - mean_squared_error: 0.0532 - val_loss: 0.1771 - val_mean_absolute_error: 0.3315 - val_mean_squared_error: 0.1771\n",
      "Epoch 45/100\n",
      "4/4 [==============================] - 0s 9ms/step - loss: 0.0518 - mean_absolute_error: 0.1601 - mean_squared_error: 0.0518 - val_loss: 0.1663 - val_mean_absolute_error: 0.3233 - val_mean_squared_error: 0.1663\n",
      "Epoch 46/100\n",
      "4/4 [==============================] - 0s 9ms/step - loss: 0.0473 - mean_absolute_error: 0.1532 - mean_squared_error: 0.0473 - val_loss: 0.1495 - val_mean_absolute_error: 0.3115 - val_mean_squared_error: 0.1495\n",
      "Epoch 47/100\n",
      "4/4 [==============================] - 0s 9ms/step - loss: 0.0477 - mean_absolute_error: 0.1523 - mean_squared_error: 0.0477 - val_loss: 0.1612 - val_mean_absolute_error: 0.3143 - val_mean_squared_error: 0.1612\n",
      "Epoch 48/100\n",
      "4/4 [==============================] - 0s 9ms/step - loss: 0.0441 - mean_absolute_error: 0.1468 - mean_squared_error: 0.0441 - val_loss: 0.1471 - val_mean_absolute_error: 0.3090 - val_mean_squared_error: 0.1471\n",
      "Epoch 49/100\n",
      "4/4 [==============================] - 0s 9ms/step - loss: 0.0435 - mean_absolute_error: 0.1445 - mean_squared_error: 0.0435 - val_loss: 0.1487 - val_mean_absolute_error: 0.3066 - val_mean_squared_error: 0.1487\n",
      "Epoch 50/100\n",
      "4/4 [==============================] - 0s 8ms/step - loss: 0.0419 - mean_absolute_error: 0.1408 - mean_squared_error: 0.0419 - val_loss: 0.1469 - val_mean_absolute_error: 0.3080 - val_mean_squared_error: 0.1469\n",
      "Epoch 51/100\n",
      "4/4 [==============================] - 0s 9ms/step - loss: 0.0402 - mean_absolute_error: 0.1367 - mean_squared_error: 0.0402 - val_loss: 0.1365 - val_mean_absolute_error: 0.2959 - val_mean_squared_error: 0.1365\n",
      "Epoch 52/100\n",
      "4/4 [==============================] - 0s 10ms/step - loss: 0.0389 - mean_absolute_error: 0.1351 - mean_squared_error: 0.0389 - val_loss: 0.1311 - val_mean_absolute_error: 0.2887 - val_mean_squared_error: 0.1311\n",
      "Epoch 53/100\n",
      "4/4 [==============================] - 0s 10ms/step - loss: 0.0380 - mean_absolute_error: 0.1323 - mean_squared_error: 0.0380 - val_loss: 0.1335 - val_mean_absolute_error: 0.2931 - val_mean_squared_error: 0.1335\n",
      "Epoch 54/100\n",
      "4/4 [==============================] - 0s 10ms/step - loss: 0.0374 - mean_absolute_error: 0.1311 - mean_squared_error: 0.0374 - val_loss: 0.1340 - val_mean_absolute_error: 0.2938 - val_mean_squared_error: 0.1340\n",
      "Epoch 55/100\n",
      "4/4 [==============================] - 0s 10ms/step - loss: 0.0357 - mean_absolute_error: 0.1269 - mean_squared_error: 0.0357 - val_loss: 0.1278 - val_mean_absolute_error: 0.2869 - val_mean_squared_error: 0.1278\n",
      "Epoch 56/100\n",
      "4/4 [==============================] - 0s 9ms/step - loss: 0.0366 - mean_absolute_error: 0.1285 - mean_squared_error: 0.0366 - val_loss: 0.1218 - val_mean_absolute_error: 0.2793 - val_mean_squared_error: 0.1218\n",
      "Epoch 57/100\n",
      "4/4 [==============================] - 0s 9ms/step - loss: 0.0336 - mean_absolute_error: 0.1237 - mean_squared_error: 0.0336 - val_loss: 0.1225 - val_mean_absolute_error: 0.2842 - val_mean_squared_error: 0.1225\n",
      "Epoch 58/100\n",
      "4/4 [==============================] - 0s 9ms/step - loss: 0.0335 - mean_absolute_error: 0.1222 - mean_squared_error: 0.0335 - val_loss: 0.1307 - val_mean_absolute_error: 0.2923 - val_mean_squared_error: 0.1307\n",
      "Epoch 59/100\n",
      "4/4 [==============================] - 0s 9ms/step - loss: 0.0326 - mean_absolute_error: 0.1210 - mean_squared_error: 0.0326 - val_loss: 0.1191 - val_mean_absolute_error: 0.2773 - val_mean_squared_error: 0.1191\n",
      "Epoch 60/100\n",
      "4/4 [==============================] - 0s 11ms/step - loss: 0.0334 - mean_absolute_error: 0.1224 - mean_squared_error: 0.0334 - val_loss: 0.1116 - val_mean_absolute_error: 0.2694 - val_mean_squared_error: 0.1116\n",
      "Epoch 61/100\n",
      "4/4 [==============================] - 0s 12ms/step - loss: 0.0318 - mean_absolute_error: 0.1203 - mean_squared_error: 0.0318 - val_loss: 0.1193 - val_mean_absolute_error: 0.2803 - val_mean_squared_error: 0.1193\n",
      "Epoch 62/100\n",
      "4/4 [==============================] - 0s 11ms/step - loss: 0.0315 - mean_absolute_error: 0.1185 - mean_squared_error: 0.0315 - val_loss: 0.1279 - val_mean_absolute_error: 0.2890 - val_mean_squared_error: 0.1279\n",
      "Epoch 63/100\n",
      "4/4 [==============================] - 0s 11ms/step - loss: 0.0304 - mean_absolute_error: 0.1163 - mean_squared_error: 0.0304 - val_loss: 0.1059 - val_mean_absolute_error: 0.2638 - val_mean_squared_error: 0.1059\n",
      "Epoch 64/100\n",
      "4/4 [==============================] - 0s 12ms/step - loss: 0.0310 - mean_absolute_error: 0.1191 - mean_squared_error: 0.0310 - val_loss: 0.1146 - val_mean_absolute_error: 0.2701 - val_mean_squared_error: 0.1146\n",
      "Epoch 65/100\n",
      "4/4 [==============================] - 0s 11ms/step - loss: 0.0299 - mean_absolute_error: 0.1162 - mean_squared_error: 0.0299 - val_loss: 0.1061 - val_mean_absolute_error: 0.2631 - val_mean_squared_error: 0.1061\n",
      "Epoch 66/100\n",
      "4/4 [==============================] - 0s 11ms/step - loss: 0.0292 - mean_absolute_error: 0.1131 - mean_squared_error: 0.0292 - val_loss: 0.1096 - val_mean_absolute_error: 0.2675 - val_mean_squared_error: 0.1096\n",
      "Epoch 67/100\n",
      "4/4 [==============================] - 0s 12ms/step - loss: 0.0281 - mean_absolute_error: 0.1101 - mean_squared_error: 0.0281 - val_loss: 0.1143 - val_mean_absolute_error: 0.2723 - val_mean_squared_error: 0.1143\n",
      "Epoch 68/100\n",
      "4/4 [==============================] - 0s 11ms/step - loss: 0.0270 - mean_absolute_error: 0.1097 - mean_squared_error: 0.0270 - val_loss: 0.1037 - val_mean_absolute_error: 0.2574 - val_mean_squared_error: 0.1037\n",
      "Epoch 69/100\n",
      "4/4 [==============================] - 0s 9ms/step - loss: 0.0265 - mean_absolute_error: 0.1082 - mean_squared_error: 0.0265 - val_loss: 0.1044 - val_mean_absolute_error: 0.2575 - val_mean_squared_error: 0.1044\n",
      "Epoch 70/100\n",
      "4/4 [==============================] - 0s 10ms/step - loss: 0.0263 - mean_absolute_error: 0.1065 - mean_squared_error: 0.0263 - val_loss: 0.1057 - val_mean_absolute_error: 0.2633 - val_mean_squared_error: 0.1057\n",
      "Epoch 71/100\n",
      "4/4 [==============================] - 0s 10ms/step - loss: 0.0267 - mean_absolute_error: 0.1098 - mean_squared_error: 0.0267 - val_loss: 0.1047 - val_mean_absolute_error: 0.2604 - val_mean_squared_error: 0.1047\n",
      "Epoch 72/100\n",
      "4/4 [==============================] - 0s 9ms/step - loss: 0.0262 - mean_absolute_error: 0.1068 - mean_squared_error: 0.0262 - val_loss: 0.0943 - val_mean_absolute_error: 0.2445 - val_mean_squared_error: 0.0943\n",
      "Epoch 73/100\n"
     ]
    },
    {
     "name": "stdout",
     "output_type": "stream",
     "text": [
      "4/4 [==============================] - 0s 9ms/step - loss: 0.0270 - mean_absolute_error: 0.1123 - mean_squared_error: 0.0270 - val_loss: 0.1042 - val_mean_absolute_error: 0.2548 - val_mean_squared_error: 0.1042\n",
      "Epoch 74/100\n",
      "4/4 [==============================] - 0s 9ms/step - loss: 0.0266 - mean_absolute_error: 0.1076 - mean_squared_error: 0.0266 - val_loss: 0.0980 - val_mean_absolute_error: 0.2529 - val_mean_squared_error: 0.0980\n",
      "Epoch 75/100\n",
      "4/4 [==============================] - 0s 9ms/step - loss: 0.0265 - mean_absolute_error: 0.1086 - mean_squared_error: 0.0265 - val_loss: 0.1012 - val_mean_absolute_error: 0.2531 - val_mean_squared_error: 0.1012\n",
      "Epoch 76/100\n",
      "4/4 [==============================] - 0s 9ms/step - loss: 0.0227 - mean_absolute_error: 0.0986 - mean_squared_error: 0.0227 - val_loss: 0.0866 - val_mean_absolute_error: 0.2330 - val_mean_squared_error: 0.0866\n",
      "Epoch 77/100\n",
      "4/4 [==============================] - 0s 9ms/step - loss: 0.0241 - mean_absolute_error: 0.1036 - mean_squared_error: 0.0241 - val_loss: 0.0990 - val_mean_absolute_error: 0.2485 - val_mean_squared_error: 0.0990\n",
      "Epoch 78/100\n",
      "4/4 [==============================] - 0s 9ms/step - loss: 0.0225 - mean_absolute_error: 0.1003 - mean_squared_error: 0.0225 - val_loss: 0.0995 - val_mean_absolute_error: 0.2525 - val_mean_squared_error: 0.0995\n",
      "Epoch 79/100\n",
      "4/4 [==============================] - 0s 9ms/step - loss: 0.0220 - mean_absolute_error: 0.0952 - mean_squared_error: 0.0220 - val_loss: 0.0959 - val_mean_absolute_error: 0.2470 - val_mean_squared_error: 0.0959\n",
      "Epoch 80/100\n",
      "4/4 [==============================] - 0s 9ms/step - loss: 0.0226 - mean_absolute_error: 0.0998 - mean_squared_error: 0.0226 - val_loss: 0.0895 - val_mean_absolute_error: 0.2363 - val_mean_squared_error: 0.0895\n",
      "Epoch 81/100\n",
      "4/4 [==============================] - 0s 9ms/step - loss: 0.0214 - mean_absolute_error: 0.0948 - mean_squared_error: 0.0214 - val_loss: 0.0941 - val_mean_absolute_error: 0.2437 - val_mean_squared_error: 0.0941\n",
      "Epoch 82/100\n",
      "4/4 [==============================] - 0s 9ms/step - loss: 0.0227 - mean_absolute_error: 0.1036 - mean_squared_error: 0.0227 - val_loss: 0.0938 - val_mean_absolute_error: 0.2446 - val_mean_squared_error: 0.0938\n",
      "Epoch 83/100\n",
      "4/4 [==============================] - 0s 9ms/step - loss: 0.0239 - mean_absolute_error: 0.1029 - mean_squared_error: 0.0239 - val_loss: 0.0900 - val_mean_absolute_error: 0.2377 - val_mean_squared_error: 0.0900\n",
      "Epoch 84/100\n",
      "4/4 [==============================] - 0s 9ms/step - loss: 0.0212 - mean_absolute_error: 0.1019 - mean_squared_error: 0.0212 - val_loss: 0.0892 - val_mean_absolute_error: 0.2365 - val_mean_squared_error: 0.0892\n",
      "Epoch 85/100\n",
      "4/4 [==============================] - 0s 9ms/step - loss: 0.0201 - mean_absolute_error: 0.0951 - mean_squared_error: 0.0201 - val_loss: 0.0856 - val_mean_absolute_error: 0.2319 - val_mean_squared_error: 0.0856\n",
      "Epoch 86/100\n",
      "4/4 [==============================] - 0s 9ms/step - loss: 0.0195 - mean_absolute_error: 0.0909 - mean_squared_error: 0.0195 - val_loss: 0.1018 - val_mean_absolute_error: 0.2489 - val_mean_squared_error: 0.1018\n",
      "Epoch 87/100\n",
      "4/4 [==============================] - 0s 9ms/step - loss: 0.0237 - mean_absolute_error: 0.1108 - mean_squared_error: 0.0237 - val_loss: 0.0765 - val_mean_absolute_error: 0.2189 - val_mean_squared_error: 0.0765\n",
      "Epoch 88/100\n",
      "4/4 [==============================] - 0s 9ms/step - loss: 0.0240 - mean_absolute_error: 0.1100 - mean_squared_error: 0.0240 - val_loss: 0.0904 - val_mean_absolute_error: 0.2355 - val_mean_squared_error: 0.0904\n",
      "Epoch 89/100\n",
      "4/4 [==============================] - 0s 9ms/step - loss: 0.0216 - mean_absolute_error: 0.1033 - mean_squared_error: 0.0216 - val_loss: 0.0857 - val_mean_absolute_error: 0.2285 - val_mean_squared_error: 0.0857\n",
      "Epoch 90/100\n",
      "4/4 [==============================] - 0s 12ms/step - loss: 0.0184 - mean_absolute_error: 0.0871 - mean_squared_error: 0.0184 - val_loss: 0.0805 - val_mean_absolute_error: 0.2219 - val_mean_squared_error: 0.0805\n",
      "Epoch 91/100\n",
      "4/4 [==============================] - 0s 11ms/step - loss: 0.0179 - mean_absolute_error: 0.0890 - mean_squared_error: 0.0179 - val_loss: 0.0848 - val_mean_absolute_error: 0.2275 - val_mean_squared_error: 0.0848\n",
      "Epoch 92/100\n",
      "4/4 [==============================] - 0s 11ms/step - loss: 0.0166 - mean_absolute_error: 0.0843 - mean_squared_error: 0.0166 - val_loss: 0.0842 - val_mean_absolute_error: 0.2266 - val_mean_squared_error: 0.0842\n",
      "Epoch 93/100\n",
      "4/4 [==============================] - 0s 11ms/step - loss: 0.0163 - mean_absolute_error: 0.0876 - mean_squared_error: 0.0163 - val_loss: 0.0837 - val_mean_absolute_error: 0.2244 - val_mean_squared_error: 0.0837\n",
      "Epoch 94/100\n",
      "4/4 [==============================] - 0s 11ms/step - loss: 0.0158 - mean_absolute_error: 0.0826 - mean_squared_error: 0.0158 - val_loss: 0.0790 - val_mean_absolute_error: 0.2184 - val_mean_squared_error: 0.0790\n",
      "Epoch 95/100\n",
      "4/4 [==============================] - 0s 10ms/step - loss: 0.0157 - mean_absolute_error: 0.0822 - mean_squared_error: 0.0157 - val_loss: 0.0871 - val_mean_absolute_error: 0.2293 - val_mean_squared_error: 0.0871\n",
      "Epoch 96/100\n",
      "4/4 [==============================] - 0s 11ms/step - loss: 0.0167 - mean_absolute_error: 0.0886 - mean_squared_error: 0.0167 - val_loss: 0.0749 - val_mean_absolute_error: 0.2140 - val_mean_squared_error: 0.0749\n",
      "Epoch 97/100\n",
      "4/4 [==============================] - 0s 11ms/step - loss: 0.0173 - mean_absolute_error: 0.0866 - mean_squared_error: 0.0173 - val_loss: 0.0824 - val_mean_absolute_error: 0.2224 - val_mean_squared_error: 0.0824\n",
      "Epoch 98/100\n",
      "4/4 [==============================] - 0s 10ms/step - loss: 0.0171 - mean_absolute_error: 0.0920 - mean_squared_error: 0.0171 - val_loss: 0.0767 - val_mean_absolute_error: 0.2160 - val_mean_squared_error: 0.0767\n",
      "Epoch 99/100\n",
      "4/4 [==============================] - 0s 10ms/step - loss: 0.0156 - mean_absolute_error: 0.0812 - mean_squared_error: 0.0156 - val_loss: 0.0793 - val_mean_absolute_error: 0.2170 - val_mean_squared_error: 0.0793\n",
      "Epoch 100/100\n",
      "4/4 [==============================] - 0s 11ms/step - loss: 0.0149 - mean_absolute_error: 0.0838 - mean_squared_error: 0.0149 - val_loss: 0.0769 - val_mean_absolute_error: 0.2133 - val_mean_squared_error: 0.0769\n"
     ]
    }
   ],
   "source": [
    "model_history = model.fit(\n",
    "    X_train_scaled,\n",
    "    y_train,\n",
    "    epochs=EPOCHS,\n",
    "    validation_data=(X_test_scaled, y_test)\n",
    ")"
   ]
  },
  {
   "cell_type": "code",
   "execution_count": 95,
   "metadata": {},
   "outputs": [],
   "source": [
    "predicted = model.predict(X_val_scaled)"
   ]
  },
  {
   "cell_type": "code",
   "execution_count": 96,
   "metadata": {},
   "outputs": [],
   "source": [
    "actual = y_val"
   ]
  },
  {
   "cell_type": "code",
   "execution_count": 97,
   "metadata": {},
   "outputs": [
    {
     "data": {
      "text/plain": [
       "array([[9.080903],\n",
       "       [9.796691],\n",
       "       [8.82787 ],\n",
       "       [8.566134],\n",
       "       [9.409154],\n",
       "       [9.150571],\n",
       "       [8.934983]], dtype=float32)"
      ]
     },
     "execution_count": 97,
     "metadata": {},
     "output_type": "execute_result"
    }
   ],
   "source": [
    "predicted"
   ]
  },
  {
   "cell_type": "code",
   "execution_count": 98,
   "metadata": {},
   "outputs": [
    {
     "data": {
      "text/plain": [
       "8.587645972419555"
      ]
     },
     "execution_count": 98,
     "metadata": {},
     "output_type": "execute_result"
    }
   ],
   "source": [
    "y_test[0][0]"
   ]
  },
  {
   "cell_type": "code",
   "execution_count": 99,
   "metadata": {},
   "outputs": [
    {
     "data": {
      "text/plain": [
       "(1204766972.5537343, 854420962.3999999)"
      ]
     },
     "execution_count": 99,
     "metadata": {},
     "output_type": "execute_result"
    }
   ],
   "source": [
    "10**predicted[0][0], 10**y_val[0][0]"
   ]
  },
  {
   "cell_type": "code",
   "execution_count": 71,
   "metadata": {},
   "outputs": [],
   "source": [
    "import matplotlib.pyplot as plt"
   ]
  },
  {
   "cell_type": "code",
   "execution_count": 100,
   "metadata": {},
   "outputs": [
    {
     "data": {
      "text/plain": [
       "<matplotlib.collections.PathCollection at 0x219590e1550>"
      ]
     },
     "execution_count": 100,
     "metadata": {},
     "output_type": "execute_result"
    },
    {
     "data": {
      "image/png": "[encoded data removed]",
      "text/plain": [
       "<Figure size 432x288 with 1 Axes>"
      ]
     },
     "metadata": {
      "needs_background": "light"
     },
     "output_type": "display_data"
    }
   ],
   "source": [
    "plt.scatter(predicted,actual)"
   ]
  },
  {
   "cell_type": "code",
   "execution_count": 101,
   "metadata": {},
   "outputs": [],
   "source": [
    "dataset_norm = X_scaler.transform(arr)"
   ]
  },
  {
   "cell_type": "code",
   "execution_count": 102,
   "metadata": {},
   "outputs": [],
   "source": [
    "pred = model.predict(dataset_norm)"
   ]
  },
  {
   "cell_type": "code",
   "execution_count": 103,
   "metadata": {},
   "outputs": [],
   "source": [
    "act = arr2"
   ]
  },
  {
   "cell_type": "code",
   "execution_count": 104,
   "metadata": {},
   "outputs": [
    {
     "data": {
      "text/plain": [
       "<matplotlib.collections.PathCollection at 0x2195914dca0>"
      ]
     },
     "execution_count": 104,
     "metadata": {},
     "output_type": "execute_result"
    },
    {
     "data": {
      "image/png": "[encoded data removed]",
      "text/plain": [
       "<Figure size 432x288 with 1 Axes>"
      ]
     },
     "metadata": {
      "needs_background": "light"
     },
     "output_type": "display_data"
    }
   ],
   "source": [
    "plt.scatter(pred, act)"
   ]
  },
  {
   "cell_type": "code",
   "execution_count": 106,
   "metadata": {},
   "outputs": [],
   "source": [
    "import scipy.stats as st"
   ]
  },
  {
   "cell_type": "code",
   "execution_count": 113,
   "metadata": {},
   "outputs": [
    {
     "data": {
      "text/plain": [
       "array([8.80207], dtype=float32)"
      ]
     },
     "execution_count": 113,
     "metadata": {},
     "output_type": "execute_result"
    }
   ],
   "source": [
    "pred[0]"
   ]
  },
  {
   "cell_type": "code",
   "execution_count": 125,
   "metadata": {},
   "outputs": [],
   "source": [
    "t_len = len(pred)\n",
    "predi = []\n",
    "actu = []\n",
    "for i in range(t_len):\n",
    "    predi.append(pred[i][0].astype(float))\n",
    "    actu.append(act[i][0].astype(float))\n",
    "    "
   ]
  },
  {
   "cell_type": "code",
   "execution_count": 141,
   "metadata": {},
   "outputs": [],
   "source": [
    "pre = np.asarray(predi,dtype=float)"
   ]
  },
  {
   "cell_type": "code",
   "execution_count": 142,
   "metadata": {},
   "outputs": [],
   "source": [
    "ac = np.asarray(actu,dtype=float)"
   ]
  },
  {
   "cell_type": "code",
   "execution_count": 143,
   "metadata": {},
   "outputs": [],
   "source": [
    "x_axis = pre\n",
    "y_axis = ac\n"
   ]
  },
  {
   "cell_type": "code",
   "execution_count": 144,
   "metadata": {},
   "outputs": [],
   "source": [
    "correlation = st.pearsonr(x_axis,y_axis)\n",
    "(slope, intercept, rvalue, pvalue, stderr) = st.linregress(x_axis, y_axis)\n"
   ]
  },
  {
   "cell_type": "code",
   "execution_count": 129,
   "metadata": {},
   "outputs": [
    {
     "data": {
      "text/plain": [
       "numpy.float64"
      ]
     },
     "execution_count": 129,
     "metadata": {},
     "output_type": "execute_result"
    }
   ],
   "source": [
    "type(slope)"
   ]
  },
  {
   "cell_type": "code",
   "execution_count": 130,
   "metadata": {},
   "outputs": [
    {
     "data": {
      "text/plain": [
       "(0.8928683553195196,\n",
       " 0.9701320696164295,\n",
       " 0.9505574548841049,\n",
       " 4.322670270494669e-79,\n",
       " 0.023660125713542226)"
      ]
     },
     "execution_count": 130,
     "metadata": {},
     "output_type": "execute_result"
    }
   ],
   "source": [
    "slope, intercept, rvalue, pvalue, stderr"
   ]
  },
  {
   "cell_type": "code",
   "execution_count": 135,
   "metadata": {},
   "outputs": [
    {
     "data": {
      "text/plain": [
       "0.9701320696164295"
      ]
     },
     "execution_count": 135,
     "metadata": {},
     "output_type": "execute_result"
    }
   ],
   "source": []
  },
  {
   "cell_type": "code",
   "execution_count": 151,
   "metadata": {},
   "outputs": [
    {
     "name": "stdout",
     "output_type": "stream",
     "text": [
      "The correlation between both factors is 0.95\n",
      "The linear regression equation is y = 0.89286836x + 0.97\n"
     ]
    },
    {
     "data": {
      "image/png": "[encoded data removed]",
      "text/plain": [
       "<Figure size 432x288 with 1 Axes>"
      ]
     },
     "metadata": {
      "needs_background": "light"
     },
     "output_type": "display_data"
    }
   ],
   "source": [
    "regress_values = x_axis * slope + intercept\n",
    "line_eq = \"y = \" + str(round(slope,8)) + \"x + \" + str(round(intercept,2))\n",
    "plt.scatter(x_axis,y_axis)\n",
    "plt.plot(x_axis,regress_values,\"r-\")\n",
    "plt.annotate(line_eq,(10,10),fontsize=15,color=\"red\")\n",
    "plt.xlabel('predicted')\n",
    "plt.ylabel('actual')\n",
    "print(f\"The correlation between both factors is {round(correlation[0],2)}\")\n",
    "print(f'The linear regression equation is {line_eq}')\n",
    "plt.show()"
   ]
  },
  {
   "cell_type": "code",
   "execution_count": null,
   "metadata": {},
   "outputs": [],
   "source": []
  },
  {
   "cell_type": "code",
   "execution_count": null,
   "metadata": {},
   "outputs": [],
   "source": []
  },
  {
   "cell_type": "code",
   "execution_count": 85,
   "metadata": {},
   "outputs": [
    {
     "ename": "ModuleNotFoundError",
     "evalue": "No module named 'prophet'",
     "output_type": "error",
     "traceback": [
      "\u001b[1;31m---------------------------------------------------------------------------\u001b[0m",
      "\u001b[1;31mModuleNotFoundError\u001b[0m                       Traceback (most recent call last)",
      "\u001b[1;32m<ipython-input-85-a5f73520e9d5>\u001b[0m in \u001b[0;36m<module>\u001b[1;34m\u001b[0m\n\u001b[1;32m----> 1\u001b[1;33m \u001b[1;32mfrom\u001b[0m \u001b[0mprophet\u001b[0m \u001b[1;32mimport\u001b[0m \u001b[0mProphet\u001b[0m\u001b[1;33m\u001b[0m\u001b[1;33m\u001b[0m\u001b[0m\n\u001b[0m",
      "\u001b[1;31mModuleNotFoundError\u001b[0m: No module named 'prophet'"
     ]
    }
   ],
   "source": [
    "from prophet import Prophet\n"
   ]
  },
  {
   "cell_type": "code",
   "execution_count": 152,
   "metadata": {},
   "outputs": [
    {
     "name": "stdout",
     "output_type": "stream",
     "text": [
      "1/1 [==============================] - 0s 24ms/step - loss: 0.0429 - mean_absolute_error: 0.1606 - mean_squared_error: 0.0429\n"
     ]
    }
   ],
   "source": [
    "loss, mae, mse = model.evaluate(X_val_scaled, y_val)"
   ]
  },
  {
   "cell_type": "code",
   "execution_count": 153,
   "metadata": {},
   "outputs": [
    {
     "data": {
      "text/plain": [
       "0.04285820946097374"
      ]
     },
     "execution_count": 153,
     "metadata": {},
     "output_type": "execute_result"
    }
   ],
   "source": [
    "loss"
   ]
  },
  {
   "cell_type": "code",
   "execution_count": 154,
   "metadata": {},
   "outputs": [
    {
     "data": {
      "text/plain": [
       "0.16056469082832336"
      ]
     },
     "execution_count": 154,
     "metadata": {},
     "output_type": "execute_result"
    }
   ],
   "source": [
    "mae"
   ]
  },
  {
   "cell_type": "code",
   "execution_count": 155,
   "metadata": {},
   "outputs": [
    {
     "data": {
      "text/plain": [
       "0.04285820946097374"
      ]
     },
     "execution_count": 155,
     "metadata": {},
     "output_type": "execute_result"
    }
   ],
   "source": [
    "mse"
   ]
  },
  {
   "cell_type": "code",
   "execution_count": 158,
   "metadata": {},
   "outputs": [
    {
     "name": "stdout",
     "output_type": "stream",
     "text": [
      "Collecting plotly\n",
      "  Downloading plotly-5.3.1-py2.py3-none-any.whl (23.9 MB)\n",
      "Collecting tenacity>=6.2.0\n",
      "  Using cached tenacity-8.0.1-py3-none-any.whl (24 kB)\n",
      "Requirement already satisfied: six in c:\\users\\popes\\anaconda3\\lib\\site-packages (from plotly) (1.15.0)\n",
      "Installing collected packages: tenacity, plotly\n",
      "Successfully installed plotly-5.3.1 tenacity-8.0.1\n",
      "Note: you may need to restart the kernel to use updated packages.\n"
     ]
    }
   ],
   "source": [
    "pip install plotly\n"
   ]
  },
  {
   "cell_type": "code",
   "execution_count": 160,
   "metadata": {},
   "outputs": [],
   "source": [
    "import plotly\n",
    "import fbprophet\n",
    "from fbprophet import Prophet"
   ]
  },
  {
   "cell_type": "code",
   "execution_count": 161,
   "metadata": {},
   "outputs": [
    {
     "ename": "AttributeError",
     "evalue": "'Prophet' object has no attribute 'stan_backend'",
     "output_type": "error",
     "traceback": [
      "\u001b[1;31m---------------------------------------------------------------------------\u001b[0m",
      "\u001b[1;31mAttributeError\u001b[0m                            Traceback (most recent call last)",
      "\u001b[1;32m<ipython-input-161-563b4675f35d>\u001b[0m in \u001b[0;36m<module>\u001b[1;34m\u001b[0m\n\u001b[1;32m----> 1\u001b[1;33m \u001b[0mm\u001b[0m \u001b[1;33m=\u001b[0m \u001b[0mProphet\u001b[0m\u001b[1;33m(\u001b[0m\u001b[1;33m)\u001b[0m\u001b[1;33m\u001b[0m\u001b[1;33m\u001b[0m\u001b[0m\n\u001b[0m",
      "\u001b[1;32m~\\anaconda3\\lib\\site-packages\\fbprophet\\forecaster.py\u001b[0m in \u001b[0;36m__init__\u001b[1;34m(self, growth, changepoints, n_changepoints, changepoint_range, yearly_seasonality, weekly_seasonality, daily_seasonality, holidays, seasonality_mode, seasonality_prior_scale, holidays_prior_scale, changepoint_prior_scale, mcmc_samples, interval_width, uncertainty_samples, stan_backend)\u001b[0m\n\u001b[0;32m    139\u001b[0m         \u001b[0mself\u001b[0m\u001b[1;33m.\u001b[0m\u001b[0mfit_kwargs\u001b[0m \u001b[1;33m=\u001b[0m \u001b[1;33m{\u001b[0m\u001b[1;33m}\u001b[0m\u001b[1;33m\u001b[0m\u001b[1;33m\u001b[0m\u001b[0m\n\u001b[0;32m    140\u001b[0m         \u001b[0mself\u001b[0m\u001b[1;33m.\u001b[0m\u001b[0mvalidate_inputs\u001b[0m\u001b[1;33m(\u001b[0m\u001b[1;33m)\u001b[0m\u001b[1;33m\u001b[0m\u001b[1;33m\u001b[0m\u001b[0m\n\u001b[1;32m--> 141\u001b[1;33m         \u001b[0mself\u001b[0m\u001b[1;33m.\u001b[0m\u001b[0m_load_stan_backend\u001b[0m\u001b[1;33m(\u001b[0m\u001b[0mstan_backend\u001b[0m\u001b[1;33m)\u001b[0m\u001b[1;33m\u001b[0m\u001b[1;33m\u001b[0m\u001b[0m\n\u001b[0m\u001b[0;32m    142\u001b[0m \u001b[1;33m\u001b[0m\u001b[0m\n\u001b[0;32m    143\u001b[0m     \u001b[1;32mdef\u001b[0m \u001b[0m_load_stan_backend\u001b[0m\u001b[1;33m(\u001b[0m\u001b[0mself\u001b[0m\u001b[1;33m,\u001b[0m \u001b[0mstan_backend\u001b[0m\u001b[1;33m)\u001b[0m\u001b[1;33m:\u001b[0m\u001b[1;33m\u001b[0m\u001b[1;33m\u001b[0m\u001b[0m\n",
      "\u001b[1;32m~\\anaconda3\\lib\\site-packages\\fbprophet\\forecaster.py\u001b[0m in \u001b[0;36m_load_stan_backend\u001b[1;34m(self, stan_backend)\u001b[0m\n\u001b[0;32m    152\u001b[0m             \u001b[0mself\u001b[0m\u001b[1;33m.\u001b[0m\u001b[0mstan_backend\u001b[0m \u001b[1;33m=\u001b[0m \u001b[0mStanBackendEnum\u001b[0m\u001b[1;33m.\u001b[0m\u001b[0mget_backend_class\u001b[0m\u001b[1;33m(\u001b[0m\u001b[0mstan_backend\u001b[0m\u001b[1;33m)\u001b[0m\u001b[1;33m(\u001b[0m\u001b[1;33m)\u001b[0m\u001b[1;33m\u001b[0m\u001b[1;33m\u001b[0m\u001b[0m\n\u001b[0;32m    153\u001b[0m \u001b[1;33m\u001b[0m\u001b[0m\n\u001b[1;32m--> 154\u001b[1;33m         \u001b[0mlogger\u001b[0m\u001b[1;33m.\u001b[0m\u001b[0mdebug\u001b[0m\u001b[1;33m(\u001b[0m\u001b[1;34m\"Loaded stan backend: %s\"\u001b[0m\u001b[1;33m,\u001b[0m \u001b[0mself\u001b[0m\u001b[1;33m.\u001b[0m\u001b[0mstan_backend\u001b[0m\u001b[1;33m.\u001b[0m\u001b[0mget_type\u001b[0m\u001b[1;33m(\u001b[0m\u001b[1;33m)\u001b[0m\u001b[1;33m)\u001b[0m\u001b[1;33m\u001b[0m\u001b[1;33m\u001b[0m\u001b[0m\n\u001b[0m\u001b[0;32m    155\u001b[0m \u001b[1;33m\u001b[0m\u001b[0m\n\u001b[0;32m    156\u001b[0m     \u001b[1;32mdef\u001b[0m \u001b[0mvalidate_inputs\u001b[0m\u001b[1;33m(\u001b[0m\u001b[0mself\u001b[0m\u001b[1;33m)\u001b[0m\u001b[1;33m:\u001b[0m\u001b[1;33m\u001b[0m\u001b[1;33m\u001b[0m\u001b[0m\n",
      "\u001b[1;31mAttributeError\u001b[0m: 'Prophet' object has no attribute 'stan_backend'"
     ]
    }
   ],
   "source": [
    "m = Prophet()"
   ]
  },
  {
   "cell_type": "code",
   "execution_count": 162,
   "metadata": {},
   "outputs": [
    {
     "ename": "ImportError",
     "evalue": "DLL load failed while importing _api: The specified module could not be found.",
     "output_type": "error",
     "traceback": [
      "\u001b[1;31m---------------------------------------------------------------------------\u001b[0m",
      "\u001b[1;31mImportError\u001b[0m                               Traceback (most recent call last)",
      "\u001b[1;32m<ipython-input-162-d7f147a8ee3e>\u001b[0m in \u001b[0;36m<module>\u001b[1;34m\u001b[0m\n\u001b[1;32m----> 1\u001b[1;33m \u001b[1;32mimport\u001b[0m \u001b[0mpystan\u001b[0m\u001b[1;33m\u001b[0m\u001b[1;33m\u001b[0m\u001b[0m\n\u001b[0m\u001b[0;32m      2\u001b[0m \u001b[0mmodel_code\u001b[0m \u001b[1;33m=\u001b[0m \u001b[1;34m'parameters {real y;} model {y ~ normal(0,1);}'\u001b[0m\u001b[1;33m\u001b[0m\u001b[1;33m\u001b[0m\u001b[0m\n\u001b[0;32m      3\u001b[0m \u001b[0mmodel\u001b[0m \u001b[1;33m=\u001b[0m \u001b[0mpystan\u001b[0m\u001b[1;33m.\u001b[0m\u001b[0mStanModel\u001b[0m\u001b[1;33m(\u001b[0m\u001b[0mmodel_code\u001b[0m\u001b[1;33m=\u001b[0m\u001b[0mmodel_code\u001b[0m\u001b[1;33m)\u001b[0m  \u001b[1;31m# this will take a minute\u001b[0m\u001b[1;33m\u001b[0m\u001b[1;33m\u001b[0m\u001b[0m\n\u001b[0;32m      4\u001b[0m \u001b[0my\u001b[0m \u001b[1;33m=\u001b[0m \u001b[0mmodel\u001b[0m\u001b[1;33m.\u001b[0m\u001b[0msampling\u001b[0m\u001b[1;33m(\u001b[0m\u001b[0mn_jobs\u001b[0m\u001b[1;33m=\u001b[0m\u001b[1;36m1\u001b[0m\u001b[1;33m)\u001b[0m\u001b[1;33m.\u001b[0m\u001b[0mextract\u001b[0m\u001b[1;33m(\u001b[0m\u001b[1;33m)\u001b[0m\u001b[1;33m[\u001b[0m\u001b[1;34m'y'\u001b[0m\u001b[1;33m]\u001b[0m\u001b[1;33m\u001b[0m\u001b[1;33m\u001b[0m\u001b[0m\n\u001b[0;32m      5\u001b[0m \u001b[0my\u001b[0m\u001b[1;33m.\u001b[0m\u001b[0mmean\u001b[0m\u001b[1;33m(\u001b[0m\u001b[1;33m)\u001b[0m  \u001b[1;31m# should be close to 0\u001b[0m\u001b[1;33m\u001b[0m\u001b[1;33m\u001b[0m\u001b[0m\n",
      "\u001b[1;32m~\\anaconda3\\lib\\site-packages\\pystan\\__init__.py\u001b[0m in \u001b[0;36m<module>\u001b[1;34m\u001b[0m\n\u001b[0;32m      7\u001b[0m \u001b[1;32mimport\u001b[0m \u001b[0mlogging\u001b[0m\u001b[1;33m\u001b[0m\u001b[1;33m\u001b[0m\u001b[0m\n\u001b[0;32m      8\u001b[0m \u001b[1;33m\u001b[0m\u001b[0m\n\u001b[1;32m----> 9\u001b[1;33m \u001b[1;32mfrom\u001b[0m \u001b[0mpystan\u001b[0m\u001b[1;33m.\u001b[0m\u001b[0mapi\u001b[0m \u001b[1;32mimport\u001b[0m \u001b[0mstanc\u001b[0m\u001b[1;33m,\u001b[0m \u001b[0mstan\u001b[0m\u001b[1;33m\u001b[0m\u001b[1;33m\u001b[0m\u001b[0m\n\u001b[0m\u001b[0;32m     10\u001b[0m \u001b[1;32mfrom\u001b[0m \u001b[0mpystan\u001b[0m\u001b[1;33m.\u001b[0m\u001b[0mmisc\u001b[0m \u001b[1;32mimport\u001b[0m \u001b[0mread_rdump\u001b[0m\u001b[1;33m,\u001b[0m \u001b[0mstan_rdump\u001b[0m\u001b[1;33m,\u001b[0m \u001b[0mstansummary\u001b[0m\u001b[1;33m\u001b[0m\u001b[1;33m\u001b[0m\u001b[0m\n\u001b[0;32m     11\u001b[0m \u001b[1;32mfrom\u001b[0m \u001b[0mpystan\u001b[0m\u001b[1;33m.\u001b[0m\u001b[0mdiagnostics\u001b[0m \u001b[1;32mimport\u001b[0m \u001b[0mcheck_hmc_diagnostics\u001b[0m\u001b[1;33m\u001b[0m\u001b[1;33m\u001b[0m\u001b[0m\n",
      "\u001b[1;32m~\\anaconda3\\lib\\site-packages\\pystan\\api.py\u001b[0m in \u001b[0;36m<module>\u001b[1;34m\u001b[0m\n\u001b[0;32m     11\u001b[0m \u001b[1;32mimport\u001b[0m \u001b[0mos\u001b[0m\u001b[1;33m\u001b[0m\u001b[1;33m\u001b[0m\u001b[0m\n\u001b[0;32m     12\u001b[0m \u001b[1;33m\u001b[0m\u001b[0m\n\u001b[1;32m---> 13\u001b[1;33m \u001b[1;32mimport\u001b[0m \u001b[0mpystan\u001b[0m\u001b[1;33m.\u001b[0m\u001b[0m_api\u001b[0m  \u001b[1;31m# stanc wrapper\u001b[0m\u001b[1;33m\u001b[0m\u001b[1;33m\u001b[0m\u001b[0m\n\u001b[0m\u001b[0;32m     14\u001b[0m \u001b[1;32mfrom\u001b[0m \u001b[0mpystan\u001b[0m\u001b[1;33m.\u001b[0m\u001b[0m_compat\u001b[0m \u001b[1;32mimport\u001b[0m \u001b[0mstring_types\u001b[0m\u001b[1;33m,\u001b[0m \u001b[0mPY2\u001b[0m\u001b[1;33m\u001b[0m\u001b[1;33m\u001b[0m\u001b[0m\n\u001b[0;32m     15\u001b[0m \u001b[1;32mfrom\u001b[0m \u001b[0mpystan\u001b[0m\u001b[1;33m.\u001b[0m\u001b[0mmodel\u001b[0m \u001b[1;32mimport\u001b[0m \u001b[0mStanModel\u001b[0m\u001b[1;33m\u001b[0m\u001b[1;33m\u001b[0m\u001b[0m\n",
      "\u001b[1;31mImportError\u001b[0m: DLL load failed while importing _api: The specified module could not be found."
     ]
    }
   ],
   "source": [
    "import pystan\n",
    "model_code = 'parameters {real y;} model {y ~ normal(0,1);}'\n",
    "model = pystan.StanModel(model_code=model_code)  # this will take a minute\n",
    "y = model.sampling(n_jobs=1).extract()['y']\n",
    "y.mean()  # should be close to 0"
   ]
  },
  {
   "cell_type": "code",
   "execution_count": 163,
   "metadata": {},
   "outputs": [
    {
     "name": "stdout",
     "output_type": "stream",
     "text": [
      "0.7.1\n"
     ]
    }
   ],
   "source": [
    "import fbprophet\n",
    "print(fbprophet.__version__)"
   ]
  },
  {
   "cell_type": "code",
   "execution_count": 164,
   "metadata": {},
   "outputs": [
    {
     "name": "stdout",
     "output_type": "stream",
     "text": [
      "Collecting package metadata (current_repodata.json): ...working... done\n",
      "Solving environment: ...working... done\n",
      "\n",
      "# All requested packages already installed.\n",
      "\n",
      "\n",
      "Note: you may need to restart the kernel to use updated packages.\n"
     ]
    }
   ],
   "source": [
    "conda install libpython m2w64-toolchain -c msys2"
   ]
  },
  {
   "cell_type": "code",
   "execution_count": null,
   "metadata": {},
   "outputs": [],
   "source": [
    "pip uninstall fbprophet"
   ]
  },
  {
   "cell_type": "code",
   "execution_count": null,
   "metadata": {},
   "outputs": [],
   "source": [
    "pip uninstall pystan"
   ]
  },
  {
   "cell_type": "code",
   "execution_count": null,
   "metadata": {},
   "outputs": [],
   "source": []
  }
 ],
 "metadata": {
  "kernelspec": {
   "display_name": "Python 3",
   "language": "python",
   "name": "python3"
  },
  "language_info": {
   "codemirror_mode": {
    "name": "ipython",
    "version": 3
   },
   "file_extension": ".py",
   "mimetype": "text/x-python",
   "name": "python",
   "nbconvert_exporter": "python",
   "pygments_lexer": "ipython3",
   "version": "3.8.5"
  }
 },
 "nbformat": 4,
 "nbformat_minor": 5
}
