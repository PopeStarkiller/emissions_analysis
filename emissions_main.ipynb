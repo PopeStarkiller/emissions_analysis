{
 "cells": [
  {
   "cell_type": "code",
   "execution_count": 104,
   "metadata": {},
   "outputs": [],
   "source": [
    "import os\n",
    "import config\n",
    "v1, v2, v3 = config.spark_env()\n",
    "os.environ['SPARK_VERSION'] = v1\n",
    "os.environ['JAVA_HOME'] = v2\n",
    "os.environ['SPARK_HOME'] = v3\n",
    "import findspark\n",
    "import pyspark\n",
    "from pyspark.sql import SparkSession\n",
    "findspark.init()\n",
    "spark = SparkSession.builder.appName(\"emissionsdataframe\").getOrCreate()\n",
    "from sqlalchemy import create_engine, insert\n",
    "from sqlalchemy.ext.declarative import declarative_base\n",
    "from sqlalchemy import MetaData, update, Table\n",
    "from sqlalchemy.orm import Session\n",
    "from sqlalchemy.orm import sessionmaker\n",
    "from sqlalchemy.exc import SQLAlchemyError\n",
    "import pandas as pd\n",
    "from pyspark.sql.types import IntegerType,BooleanType,DateType\n",
    "from pyspark.sql.functions import col\n",
    "from pyspark.sql import Row\n",
    "from pyspark.sql.functions import array, col, explode, lit, struct, log\n",
    "from pyspark.sql import DataFrame\n",
    "from typing import Iterable\n",
    "import numpy as np\n",
    "import spark_functions\n",
    "import tensorflow as tf\n",
    "import keras.metrics\n",
    "import pyspark.sql.functions as F\n",
    "import math\n",
    "from sklearn.preprocessing import StandardScaler\n",
    "from sklearn.metrics import confusion_matrix\n",
    "import seaborn as sns\n",
    "rds_string = config.rds_string\n",
    "engine = create_engine(f'postgresql://{rds_string}')\n",
    "conn = engine.connect()\n",
    "metadata = MetaData(engine)"
   ]
  },
  {
   "cell_type": "code",
   "execution_count": 2,
   "metadata": {},
   "outputs": [],
   "source": [
    "india_spark = spark_functions.merged_df(\"India\")"
   ]
  },
  {
   "cell_type": "code",
   "execution_count": 3,
   "metadata": {},
   "outputs": [],
   "source": [
    "china_spark = spark_functions.merged_df(\"China\")"
   ]
  },
  {
   "cell_type": "code",
   "execution_count": 4,
   "metadata": {},
   "outputs": [],
   "source": [
    "germany_spark = spark_functions.merged_df(\"Germany\")"
   ]
  },
  {
   "cell_type": "code",
   "execution_count": 5,
   "metadata": {},
   "outputs": [],
   "source": [
    "france_spark = spark_functions.merged_df(\"France\")"
   ]
  },
  {
   "cell_type": "code",
   "execution_count": 6,
   "metadata": {},
   "outputs": [],
   "source": [
    "mexico_spark = spark_functions.merged_df(\"Mexico\")"
   ]
  },
  {
   "cell_type": "code",
   "execution_count": 7,
   "metadata": {},
   "outputs": [],
   "source": [
    "us_gdp = spark_functions.sql_to_spark_gdp(\"United States\")"
   ]
  },
  {
   "cell_type": "code",
   "execution_count": 8,
   "metadata": {},
   "outputs": [],
   "source": [
    "us_emissions = spark_functions.sql_to_spark_emissions(\"United States\")"
   ]
  },
  {
   "cell_type": "code",
   "execution_count": null,
   "metadata": {},
   "outputs": [],
   "source": []
  },
  {
   "cell_type": "code",
   "execution_count": 9,
   "metadata": {},
   "outputs": [],
   "source": [
    "us_export, us_import = spark_functions.sql_to_spark_trade(\"USA\")"
   ]
  },
  {
   "cell_type": "code",
   "execution_count": 10,
   "metadata": {},
   "outputs": [],
   "source": [
    "us_spark = spark_functions.merge_sparks(us_import,us_export,us_gdp,us_emissions)"
   ]
  },
  {
   "cell_type": "code",
   "execution_count": 95,
   "metadata": {},
   "outputs": [
    {
     "name": "stdout",
     "output_type": "stream",
     "text": [
      "+-------------+----+-----------+---------------------------+--------------------+--------------------+-------------------+--------------------+--------------------+-------------------+\n",
      "|      country|year|        gdp|annual_co2_emissions_tonnes|import_trade_sum_usd|import_weight_sum_kg|import_quantity_sum|export_trade_sum_usd|export_weight_sum_kg|export_quantity_sum|\n",
      "+-------------+----+-----------+---------------------------+--------------------+--------------------+-------------------+--------------------+--------------------+-------------------+\n",
      "|United States|1991| 24342.2589|                5.0708394E9|        553057797707|     4.2818915615E10|    5.0568428046E10|        507650351345|    1.02364559839E11|   3.90458764909E11|\n",
      "|United States|1992|25418.99078|              5.174059076E9|        601355275322|     4.3061290517E10|     5.448525663E10|        538062351125|    1.28601940879E11|   3.60206508634E11|\n",
      "|United States|1993|26387.29373|              5.284687882E9|        652373937478|     4.8188692362E10|    7.3110672908E10|        548398969206|    1.24705618348E11|   3.27010897699E11|\n",
      "|United States|1994|27694.85342|              5.377987137E9|        742750613767|     5.2268506787E10|    5.8130405186E10|        598400239114|    1.15502836653E11|   3.55381908042E11|\n",
      "|United States|1995| 28690.8757|              5.439213314E9|        830259504014|     5.2455344635E10|    5.8539964021E10|        673915108126|    1.48562055985E11|   3.90540631954E11|\n",
      "|United States|1996|29967.71272|              5.626186717E9|        882586203375|     5.4649952541E10|     6.716886515E10|        723150044423|    1.33943029267E11|   4.01946693396E11|\n",
      "|United States|1997|  31459.139|              5.703890708E9|        970520718120|     5.8356713183E10|    6.8300362184E10|        794208858982|     1.2035631437E11|   3.59007136276E11|\n",
      "|United States|1998|32853.67698|               5.75232419E9|       1027557036753|     5.6583010265E10|    6.9412225286E10|        797497195092|    1.21099901634E11|   3.35415845298E11|\n",
      "|United States|1999| 34513.5615|              5.832250178E9|       1154343047413|     5.2798994323E10|    7.2643761808E10|        805406535860|    1.32210177022E11|   3.05092424978E11|\n",
      "|United States|2000|36334.90878|              6.000606067E9|       1364367660120|    1.10432166994E11|   1.11073721831E11|        891362624527|    1.32439104747E11|   1.31967467121E11|\n",
      "|United States|2001|37133.24281|              5.902454993E9|       1287947451331|    6.94615522129E11|   6.95027460829E11|        847081711499|    1.30282626764E11|   1.29358227999E11|\n",
      "|United States|2002|38023.16111|              5.943651279E9|       1307385723304|     7.1795040878E10|    7.2581557504E10|        802884505098|    1.27422758523E11|   1.26798825392E11|\n",
      "|United States|2003|39496.48588|              5.991319569E9|       1409498177599|     5.3981933482E10|    5.5055882341E10|        831619209100|    1.28457046123E11|   1.27748448502E11|\n",
      "|United States|2004|41712.80107|              6.106620735E9|       1637221097904|     5.1184827633E10|    5.2530085722E10|        936461584880|    1.39146813976E11|   1.38672638569E11|\n",
      "|United States|2005|44114.74778|              6.132005704E9|       1852779124526|     5.6024832315E10|    5.7212910841E10|       1036628036582|    1.39328335296E11|   1.38717849044E11|\n",
      "|United States|2006|46298.73144|              6.052236286E9|       2051083520391|     5.6280028175E10|    5.7217401619E10|       1198446002712|    1.46599527939E11|   1.45854728248E11|\n",
      "|United States|2007|47975.96768|              6.130983563E9|       2163783075478|      5.424550678E10|    5.5284582018E10|       1353308186354|    1.60927839858E11|   1.60620152283E11|\n",
      "|United States|2008|48382.55845|              5.932775281E9|       2315130468757|     5.7317850175E10|    5.8375605978E10|       1500920311983|    1.63018545826E11|   1.62770729364E11|\n",
      "|United States|2009|47099.98047|              5.495394958E9|       1727359856864|     4.1128278189E10|    4.2275673437E10|       1240244572602|    1.36152194019E11|    1.3605095883E11|\n",
      "|United States|2010|48466.82338|              5.701075808E9|       2105382590986|     4.5148873508E10|    4.6385532062E10|       1480257250760|    1.59889351123E11|   1.59598178338E11|\n",
      "+-------------+----+-----------+---------------------------+--------------------+--------------------+-------------------+--------------------+--------------------+-------------------+\n",
      "only showing top 20 rows\n",
      "\n"
     ]
    }
   ],
   "source": [
    "us_spark.show()"
   ]
  },
  {
   "cell_type": "code",
   "execution_count": 99,
   "metadata": {},
   "outputs": [],
   "source": []
  },
  {
   "cell_type": "code",
   "execution_count": 106,
   "metadata": {},
   "outputs": [],
   "source": []
  },
  {
   "cell_type": "code",
   "execution_count": 116,
   "metadata": {},
   "outputs": [],
   "source": [
    "df = us_spark\n",
    "df = df.withColumn(\"annual_co2_emissions_tonnes_log\", F.log10(col(\"annual_co2_emissions_tonnes\")))\n",
    "df = df.withColumn(\"import_trade_sum_usd_log\", F.log10(col(\"import_trade_sum_usd\")))\n",
    "df = df.withColumn(\"import_weight_sum_kg_log\", F.log10(col(\"import_weight_sum_kg\")))\n",
    "df = df.withColumn(\"import_quantity_sum_log\", F.log10(col(\"import_quantity_sum\")))\n",
    "df = df.withColumn(\"export_trade_sum_usd_log\", F.log10(col(\"export_trade_sum_usd\")))\n",
    "df = df.withColumn(\"export_weight_sum_kg_log\", F.log10(col(\"export_weight_sum_kg\")))\n",
    "df = df.withColumn(\"export_quantity_sum_log\", F.log10(col(\"export_quantity_sum\")))\n",
    "\n"
   ]
  },
  {
   "cell_type": "code",
   "execution_count": 117,
   "metadata": {},
   "outputs": [
    {
     "data": {
      "text/plain": [
       "['country',\n",
       " 'year',\n",
       " 'gdp',\n",
       " 'annual_co2_emissions_tonnes',\n",
       " 'import_trade_sum_usd',\n",
       " 'import_weight_sum_kg',\n",
       " 'import_quantity_sum',\n",
       " 'export_trade_sum_usd',\n",
       " 'export_weight_sum_kg',\n",
       " 'export_quantity_sum',\n",
       " 'annual_co2_emissions_tonnes_log',\n",
       " 'import_trade_sum_usd_log',\n",
       " 'import_weight_sum_kg_log',\n",
       " 'import_quantity_sum_log',\n",
       " 'export_trade_sum_usd_log',\n",
       " 'export_weight_sum_kg_log',\n",
       " 'export_quantity_sum_log']"
      ]
     },
     "execution_count": 117,
     "metadata": {},
     "output_type": "execute_result"
    }
   ],
   "source": [
    "df.columns"
   ]
  },
  {
   "cell_type": "code",
   "execution_count": 118,
   "metadata": {},
   "outputs": [
    {
     "name": "stdout",
     "output_type": "stream",
     "text": [
      "+-------------+----+-----------+-------------------------------+------------------------+------------------------+-----------------------+------------------------+------------------------+-----------------------+\n",
      "|      country|year|        gdp|annual_co2_emissions_tonnes_log|import_trade_sum_usd_log|import_weight_sum_kg_log|import_quantity_sum_log|export_trade_sum_usd_log|export_weight_sum_kg_log|export_quantity_sum_log|\n",
      "+-------------+----+-----------+-------------------------------+------------------------+------------------------+-----------------------+------------------------+------------------------+-----------------------+\n",
      "|United States|1991| 24342.2589|              9.705079856101358|      11.742770519936814|      10.631635664630886|     10.703879453502847|      11.705564691095635|      11.010149623334812|     11.591575176195237|\n",
      "|United States|1992|25418.99078|              9.713831383065168|      11.779131125122758|      10.634087041186806|     10.736279000800337|      11.730832604998199|      11.109247523072488|     11.556551555896876|\n",
      "|United States|1993|26387.29373|              9.723019342612622|      11.814496602528292|      10.682945141539372|      10.86398078115355|      11.739096629799883|      11.095886020139073|      11.51456222584585|\n",
      "|United States|1994|27694.85342|              9.730619759148606|       11.87084301935219|       10.71824009329788|      10.76440335012705|      11.776991758395626|      11.062592650268138|     11.550695314753687|\n",
      "|United States|1995| 28690.8757|              9.735536091224898|      11.919213855685312|      10.719789744717078|     10.767452451177958|         11.828605192686|      11.171907901076109|     11.591666224680463|\n",
      "|United States|1996|29967.71272|              9.750214141056553|      11.945757134254457|       10.73758978913676|     10.827168010748354|      11.859228417217334|      11.126920116752359|     11.604168460300793|\n",
      "|United States|1997|  31459.139|              9.756171195425988|      11.987004810893007|      10.766090823202834|     10.834423006669756|      11.899934727081352|       11.08046888002119|     11.555103081487747|\n",
      "|United States|1998|32853.67698|              9.759843354071727|      12.011805937662077|         10.752686048577|      10.84143596766902|       11.90172916425811|       11.08314379037816|       11.5255835751542|\n",
      "|United States|1999| 34513.5615|              9.765836145041492|      12.062334891539685|      10.722625650485872|     10.861198325740931|      11.906015149577863|      11.121264886725886|      11.48443142484629|\n",
      "|United States|2000|36334.90878|              9.778195116760479|      12.134931416688245|      11.043095594346015|      11.04561132434426|       11.95005441985338|      11.122016236375169|     11.120466881272343|\n",
      "|United States|2001|37133.24281|              9.771032684210525|      12.109898144031142|       11.84174448398432|     11.842001964087808|       11.92792530542102|      11.114886506245384|     11.111794057798722|\n",
      "|United States|2002|38023.16111|              9.774053320932744|      12.116403738145467|      10.856094447115556|     10.860826283348352|      11.904653076528838|       11.10524700271078|     11.103115230453161|\n",
      "|United States|2003|39496.48588|              9.777522484896968|      12.149064518689913|      10.732248435713744|     10.740803727154415|      11.919924512296978|      11.108757931166865|     11.106355634355777|\n",
      "|United States|2004|41712.80107|              9.785800948027388|       12.21410733250649|      10.709141245120835|     10.720408109513583|       11.97148996663723|      11.143473266807444|     11.141990779092538|\n",
      "|United States|2005|44114.74778|               9.78760255016384|      12.267823648829381|       10.74838056534491|     10.757494044077935|      12.015622950565827|       11.14403944816327|     11.142132346023399|\n",
      "|United States|2006|46298.73144|              9.781915875019155|      12.311983345256918|      10.750354306179979|     10.757528131551158|      12.078618471200288|      11.166132571847964|     11.163920512434311|\n",
      "|United States|2007|47975.96768|              9.787530151797114|      12.335213719537544|      10.734363770880616|     10.742604030434652|      12.131396708934506|      11.206631181767305|     11.205800033322756|\n",
      "|United States|2008|48382.55845|              9.773257898637477|      12.364575470630262|      10.758289892914355|        10.766231401866|      12.176357634958288|      11.212237014782637|      11.21157630952973|\n",
      "|United States|2009|47099.98047|               9.73999891093893|      12.237382822553014|      10.614140528408555|     10.626090534487249|         12.093507335209|       11.13402464415316|     11.133701606851615|\n",
      "|United States|2010|48466.82338|              9.755956815916813|      12.323331027514232|      10.654646918871833|     10.666382542506529|      12.170337197068577|      11.203819540028137|     11.203027929982946|\n",
      "+-------------+----+-----------+-------------------------------+------------------------+------------------------+-----------------------+------------------------+------------------------+-----------------------+\n",
      "only showing top 20 rows\n",
      "\n"
     ]
    }
   ],
   "source": [
    "df.select('country',\n",
    " 'year',\n",
    " 'gdp',\n",
    " 'annual_co2_emissions_tonnes_log',\n",
    " 'import_trade_sum_usd_log',\n",
    " 'import_weight_sum_kg_log',\n",
    " 'import_quantity_sum_log',\n",
    " 'export_trade_sum_usd_log',\n",
    " 'export_weight_sum_kg_log',\n",
    " 'export_quantity_sum_log').show()"
   ]
  },
  {
   "cell_type": "code",
   "execution_count": null,
   "metadata": {},
   "outputs": [],
   "source": []
  },
  {
   "cell_type": "code",
   "execution_count": null,
   "metadata": {},
   "outputs": [],
   "source": []
  },
  {
   "cell_type": "code",
   "execution_count": 119,
   "metadata": {},
   "outputs": [],
   "source": [
    "x_cols = [\n",
    " 'gdp',\n",
    " 'import_trade_sum_usd_log',\n",
    " 'import_weight_sum_kg_log',\n",
    " 'import_quantity_sum_log',\n",
    " 'export_trade_sum_usd_log',\n",
    " 'export_weight_sum_kg_log',\n",
    " 'export_quantity_sum_log']"
   ]
  },
  {
   "cell_type": "code",
   "execution_count": 120,
   "metadata": {},
   "outputs": [],
   "source": [
    "arr = np.array(df.select(\n",
    " 'gdp',\n",
    " 'import_trade_sum_usd_log',\n",
    " 'import_weight_sum_kg_log',\n",
    " 'import_quantity_sum_log',\n",
    " 'export_trade_sum_usd_log',\n",
    " 'export_weight_sum_kg_log',\n",
    " 'export_quantity_sum_log') \\\n",
    ".collect())"
   ]
  },
  {
   "cell_type": "code",
   "execution_count": 122,
   "metadata": {},
   "outputs": [],
   "source": [
    "arr2 = np.array(df.select('annual_co2_emissions_tonnes_log').collect())"
   ]
  },
  {
   "cell_type": "code",
   "execution_count": 123,
   "metadata": {},
   "outputs": [
    {
     "data": {
      "text/plain": [
       "array([[2.43422589e+04, 1.17427705e+01, 1.06316357e+01, 1.07038795e+01,\n",
       "        1.17055647e+01, 1.10101496e+01, 1.15915752e+01],\n",
       "       [2.54189908e+04, 1.17791311e+01, 1.06340870e+01, 1.07362790e+01,\n",
       "        1.17308326e+01, 1.11092475e+01, 1.15565516e+01],\n",
       "       [2.63872937e+04, 1.18144966e+01, 1.06829451e+01, 1.08639808e+01,\n",
       "        1.17390966e+01, 1.10958860e+01, 1.15145622e+01],\n",
       "       [2.76948534e+04, 1.18708430e+01, 1.07182401e+01, 1.07644034e+01,\n",
       "        1.17769918e+01, 1.10625927e+01, 1.15506953e+01],\n",
       "       [2.86908757e+04, 1.19192139e+01, 1.07197897e+01, 1.07674525e+01,\n",
       "        1.18286052e+01, 1.11719079e+01, 1.15916662e+01],\n",
       "       [2.99677127e+04, 1.19457571e+01, 1.07375898e+01, 1.08271680e+01,\n",
       "        1.18592284e+01, 1.11269201e+01, 1.16041685e+01],\n",
       "       [3.14591390e+04, 1.19870048e+01, 1.07660908e+01, 1.08344230e+01,\n",
       "        1.18999347e+01, 1.10804689e+01, 1.15551031e+01],\n",
       "       [3.28536770e+04, 1.20118059e+01, 1.07526860e+01, 1.08414360e+01,\n",
       "        1.19017292e+01, 1.10831438e+01, 1.15255836e+01],\n",
       "       [3.45135615e+04, 1.20623349e+01, 1.07226257e+01, 1.08611983e+01,\n",
       "        1.19060151e+01, 1.11212649e+01, 1.14844314e+01],\n",
       "       [3.63349088e+04, 1.21349314e+01, 1.10430956e+01, 1.10456113e+01,\n",
       "        1.19500544e+01, 1.11220162e+01, 1.11204669e+01],\n",
       "       [3.71332428e+04, 1.21098981e+01, 1.18417445e+01, 1.18420020e+01,\n",
       "        1.19279253e+01, 1.11148865e+01, 1.11117941e+01],\n",
       "       [3.80231611e+04, 1.21164037e+01, 1.08560944e+01, 1.08608263e+01,\n",
       "        1.19046531e+01, 1.11052470e+01, 1.11031152e+01],\n",
       "       [3.94964859e+04, 1.21490645e+01, 1.07322484e+01, 1.07408037e+01,\n",
       "        1.19199245e+01, 1.11087579e+01, 1.11063556e+01],\n",
       "       [4.17128011e+04, 1.22141073e+01, 1.07091412e+01, 1.07204081e+01,\n",
       "        1.19714900e+01, 1.11434733e+01, 1.11419908e+01],\n",
       "       [4.41147478e+04, 1.22678236e+01, 1.07483806e+01, 1.07574940e+01,\n",
       "        1.20156230e+01, 1.11440394e+01, 1.11421323e+01],\n",
       "       [4.62987314e+04, 1.23119833e+01, 1.07503543e+01, 1.07575281e+01,\n",
       "        1.20786185e+01, 1.11661326e+01, 1.11639205e+01],\n",
       "       [4.79759677e+04, 1.23352137e+01, 1.07343638e+01, 1.07426040e+01,\n",
       "        1.21313967e+01, 1.12066312e+01, 1.12058000e+01],\n",
       "       [4.83825584e+04, 1.23645755e+01, 1.07582899e+01, 1.07662314e+01,\n",
       "        1.21763576e+01, 1.12122370e+01, 1.12115763e+01],\n",
       "       [4.70999805e+04, 1.22373828e+01, 1.06141405e+01, 1.06260905e+01,\n",
       "        1.20935073e+01, 1.11340246e+01, 1.11337016e+01],\n",
       "       [4.84668234e+04, 1.23233310e+01, 1.06546469e+01, 1.06663825e+01,\n",
       "        1.21703372e+01, 1.12038195e+01, 1.12030279e+01],\n",
       "       [4.98831140e+04, 1.23831523e+01, 1.06999263e+01, 1.07118747e+01,\n",
       "        1.22322761e+01, 1.12064296e+01, 1.12053629e+01],\n",
       "       [5.16034973e+04, 1.23983435e+01, 1.07335408e+01, 1.07422753e+01,\n",
       "        1.22517137e+01, 1.11312174e+01, 1.11305078e+01],\n",
       "       [5.31069098e+04, 1.23990187e+01, 1.07437739e+01, 1.07523939e+01,\n",
       "        1.22637319e+01, 1.11378400e+01, 1.11372903e+01],\n",
       "       [5.50329580e+04, 1.24151882e+01, 1.06352193e+01, 1.06327499e+01,\n",
       "        1.22780569e+01, 1.11587716e+01, 1.11582964e+01],\n",
       "       [5.68034724e+04, 1.24007646e+01, 1.07485706e+01, 1.07565136e+01,\n",
       "        1.22497468e+01, 1.11925098e+01, 1.11920339e+01],\n",
       "       [5.79042020e+04, 1.23882095e+01, 1.06886959e+01, 1.07017528e+01,\n",
       "        1.22377728e+01, 1.12214246e+01, 1.12207055e+01]])"
      ]
     },
     "execution_count": 123,
     "metadata": {},
     "output_type": "execute_result"
    }
   ],
   "source": [
    "arr"
   ]
  },
  {
   "cell_type": "code",
   "execution_count": 124,
   "metadata": {},
   "outputs": [
    {
     "data": {
      "text/plain": [
       "array([[9.70507986],\n",
       "       [9.71383138],\n",
       "       [9.72301934],\n",
       "       [9.73061976],\n",
       "       [9.73553609],\n",
       "       [9.75021414],\n",
       "       [9.7561712 ],\n",
       "       [9.75984335],\n",
       "       [9.76583615],\n",
       "       [9.77819512],\n",
       "       [9.77103268],\n",
       "       [9.77405332],\n",
       "       [9.77752248],\n",
       "       [9.78580095],\n",
       "       [9.78760255],\n",
       "       [9.78191588],\n",
       "       [9.78753015],\n",
       "       [9.7732579 ],\n",
       "       [9.73999891],\n",
       "       [9.75595682],\n",
       "       [9.74591028],\n",
       "       [9.72970977],\n",
       "       [9.74190859],\n",
       "       [9.74575844],\n",
       "       [9.73406371],\n",
       "       [9.72516497]])"
      ]
     },
     "execution_count": 124,
     "metadata": {},
     "output_type": "execute_result"
    }
   ],
   "source": [
    "arr2"
   ]
  },
  {
   "cell_type": "code",
   "execution_count": 125,
   "metadata": {},
   "outputs": [
    {
     "data": {
      "text/plain": [
       "(26, 7)"
      ]
     },
     "execution_count": 125,
     "metadata": {},
     "output_type": "execute_result"
    }
   ],
   "source": [
    "arr.shape"
   ]
  },
  {
   "cell_type": "code",
   "execution_count": 126,
   "metadata": {},
   "outputs": [
    {
     "data": {
      "text/plain": [
       "(26, 1)"
      ]
     },
     "execution_count": 126,
     "metadata": {},
     "output_type": "execute_result"
    }
   ],
   "source": [
    "arr2.shape"
   ]
  },
  {
   "cell_type": "code",
   "execution_count": 23,
   "metadata": {},
   "outputs": [],
   "source": [
    "from sklearn.model_selection import train_test_split\n"
   ]
  },
  {
   "cell_type": "code",
   "execution_count": 127,
   "metadata": {},
   "outputs": [],
   "source": [
    "X_train, X_test, y_train, y_test = train_test_split(arr, arr2)"
   ]
  },
  {
   "cell_type": "code",
   "execution_count": 128,
   "metadata": {},
   "outputs": [],
   "source": [
    "X_scaler = StandardScaler().fit(X_train)"
   ]
  },
  {
   "cell_type": "code",
   "execution_count": 129,
   "metadata": {},
   "outputs": [],
   "source": [
    "X_train_scaled = X_scaler.transform(X_train)\n",
    "X_test_scaled = X_scaler.transform(X_test)"
   ]
  },
  {
   "cell_type": "code",
   "execution_count": 27,
   "metadata": {},
   "outputs": [],
   "source": [
    "from tensorflow.keras.models import Sequential\n",
    "from tensorflow.keras.layers import Dense"
   ]
  },
  {
   "cell_type": "code",
   "execution_count": null,
   "metadata": {},
   "outputs": [],
   "source": [
    "# def build_and_compile_model(norm):\n",
    "#     model = keras.Sequential([\n",
    "#       norm,\n",
    "#       layers.Dense(64, activation='relu'),\n",
    "#       layers.Dense(64, activation='relu'),\n",
    "#       layers.Dense(1)\n",
    "#     ])\n",
    "\n",
    "#     model.compile(loss='mean_absolute_error',\n",
    "#                 optimizer=tf.keras.optimizers.Adam(0.001))\n",
    "#     return model"
   ]
  },
  {
   "cell_type": "code",
   "execution_count": 130,
   "metadata": {},
   "outputs": [],
   "source": [
    "from tensorflow.keras.models import Sequential\n",
    "from tensorflow.keras.layers import Dense\n",
    "\n",
    "model = Sequential()\n",
    "model.add(Dense(units=100, activation='relu', input_dim=7))\n",
    "model.add(Dense(units=100, activation='relu'))\n",
    "model.add(Dense(units=100, activation='ReLU'))\n",
    "model.add(Dense(units=100, activation='PReLU'))\n",
    "model.add(Dense(units=100, activation='swish'))\n",
    "model.add(Dense(units=1, activation='linear'))"
   ]
  },
  {
   "cell_type": "code",
   "execution_count": 131,
   "metadata": {},
   "outputs": [
    {
     "name": "stdout",
     "output_type": "stream",
     "text": [
      "Model: \"sequential_7\"\n",
      "_________________________________________________________________\n",
      "Layer (type)                 Output Shape              Param #   \n",
      "=================================================================\n",
      "dense_27 (Dense)             (None, 100)               800       \n",
      "_________________________________________________________________\n",
      "dense_28 (Dense)             (None, 100)               10100     \n",
      "_________________________________________________________________\n",
      "dense_29 (Dense)             (None, 100)               10100     \n",
      "_________________________________________________________________\n",
      "dense_30 (Dense)             (None, 100)               10200     \n",
      "_________________________________________________________________\n",
      "dense_31 (Dense)             (None, 100)               10100     \n",
      "_________________________________________________________________\n",
      "dense_32 (Dense)             (None, 1)                 101       \n",
      "=================================================================\n",
      "Total params: 41,401\n",
      "Trainable params: 41,401\n",
      "Non-trainable params: 0\n",
      "_________________________________________________________________\n"
     ]
    }
   ],
   "source": [
    "model.summary()"
   ]
  },
  {
   "cell_type": "code",
   "execution_count": 40,
   "metadata": {},
   "outputs": [],
   "source": [
    "\n"
   ]
  },
  {
   "cell_type": "code",
   "execution_count": 132,
   "metadata": {},
   "outputs": [],
   "source": [
    "METRICS = [\n",
    "      keras.metrics.MeanAbsoluteError(name='mean_absolute_error'),\n",
    "      keras.metrics.MeanSquaredError(name='mean_squared_error')\n",
    "]\n",
    "\n",
    "\n",
    "early_stopping = tf.keras.callbacks.EarlyStopping(\n",
    "    monitor='mse', \n",
    "    verbose=1,\n",
    "    patience=10,\n",
    "    mode='max',\n",
    "    restore_best_weights=True)\n",
    "\n",
    "EPOCHS = 100"
   ]
  },
  {
   "cell_type": "code",
   "execution_count": 133,
   "metadata": {},
   "outputs": [],
   "source": [
    "model.compile(optimizer='adam',\n",
    "              loss='mse',\n",
    "              metrics=METRICS)"
   ]
  },
  {
   "cell_type": "code",
   "execution_count": 134,
   "metadata": {},
   "outputs": [
    {
     "name": "stdout",
     "output_type": "stream",
     "text": [
      "Epoch 1/100\n",
      "1/1 [==============================] - 0s 396ms/step - loss: 94.3043 - mean_absolute_error: 9.7109 - mean_squared_error: 94.3043 - val_loss: 92.9882 - val_mean_absolute_error: 9.6429 - val_mean_squared_error: 92.9882\n",
      "Epoch 2/100\n",
      "1/1 [==============================] - 0s 19ms/step - loss: 92.5885 - mean_absolute_error: 9.6219 - mean_squared_error: 92.5885 - val_loss: 91.2314 - val_mean_absolute_error: 9.5514 - val_mean_squared_error: 91.2314\n",
      "Epoch 3/100\n",
      "1/1 [==============================] - 0s 20ms/step - loss: 90.7103 - mean_absolute_error: 9.5232 - mean_squared_error: 90.7103 - val_loss: 89.2184 - val_mean_absolute_error: 9.4453 - val_mean_squared_error: 89.2184\n",
      "Epoch 4/100\n",
      "1/1 [==============================] - 0s 20ms/step - loss: 88.5833 - mean_absolute_error: 9.4099 - mean_squared_error: 88.5833 - val_loss: 86.8422 - val_mean_absolute_error: 9.3185 - val_mean_squared_error: 86.8422\n",
      "Epoch 5/100\n",
      "1/1 [==============================] - 0s 20ms/step - loss: 86.1122 - mean_absolute_error: 9.2761 - mean_squared_error: 86.1122 - val_loss: 84.0462 - val_mean_absolute_error: 9.1671 - val_mean_squared_error: 84.0462\n",
      "Epoch 6/100\n",
      "1/1 [==============================] - 0s 22ms/step - loss: 83.2450 - mean_absolute_error: 9.1175 - mean_squared_error: 83.2450 - val_loss: 80.7891 - val_mean_absolute_error: 8.9874 - val_mean_squared_error: 80.7891\n",
      "Epoch 7/100\n",
      "1/1 [==============================] - 0s 21ms/step - loss: 79.9217 - mean_absolute_error: 8.9292 - mean_squared_error: 79.9217 - val_loss: 76.9898 - val_mean_absolute_error: 8.7731 - val_mean_squared_error: 76.9898\n",
      "Epoch 8/100\n",
      "1/1 [==============================] - 0s 21ms/step - loss: 76.0505 - mean_absolute_error: 8.7030 - mean_squared_error: 76.0505 - val_loss: 72.5611 - val_mean_absolute_error: 8.5164 - val_mean_squared_error: 72.5611\n",
      "Epoch 9/100\n",
      "1/1 [==============================] - 0s 21ms/step - loss: 71.5820 - mean_absolute_error: 8.4316 - mean_squared_error: 71.5820 - val_loss: 67.4393 - val_mean_absolute_error: 8.2093 - val_mean_squared_error: 67.4393\n",
      "Epoch 10/100\n",
      "1/1 [==============================] - 0s 21ms/step - loss: 66.4588 - mean_absolute_error: 8.1053 - mean_squared_error: 66.4588 - val_loss: 61.5437 - val_mean_absolute_error: 7.8407 - val_mean_squared_error: 61.5437\n",
      "Epoch 11/100\n",
      "1/1 [==============================] - 0s 21ms/step - loss: 60.6554 - mean_absolute_error: 7.7118 - mean_squared_error: 60.6554 - val_loss: 54.8487 - val_mean_absolute_error: 7.3995 - val_mean_squared_error: 54.8487\n",
      "Epoch 12/100\n",
      "1/1 [==============================] - 0s 21ms/step - loss: 54.2171 - mean_absolute_error: 7.2392 - mean_squared_error: 54.2171 - val_loss: 47.2958 - val_mean_absolute_error: 6.8670 - val_mean_squared_error: 47.2958\n",
      "Epoch 13/100\n",
      "1/1 [==============================] - 0s 21ms/step - loss: 47.2749 - mean_absolute_error: 6.6741 - mean_squared_error: 47.2749 - val_loss: 38.9720 - val_mean_absolute_error: 6.2262 - val_mean_squared_error: 38.9720\n",
      "Epoch 14/100\n",
      "1/1 [==============================] - 0s 20ms/step - loss: 40.0342 - mean_absolute_error: 6.0704 - mean_squared_error: 40.0342 - val_loss: 30.0550 - val_mean_absolute_error: 5.4549 - val_mean_squared_error: 30.0550\n",
      "Epoch 15/100\n",
      "1/1 [==============================] - 0s 20ms/step - loss: 32.8801 - mean_absolute_error: 5.4898 - mean_squared_error: 32.8801 - val_loss: 20.9861 - val_mean_absolute_error: 4.5337 - val_mean_squared_error: 20.9861\n",
      "Epoch 16/100\n",
      "1/1 [==============================] - 0s 21ms/step - loss: 26.4219 - mean_absolute_error: 4.8472 - mean_squared_error: 26.4219 - val_loss: 12.5066 - val_mean_absolute_error: 3.4485 - val_mean_squared_error: 12.5066\n",
      "Epoch 17/100\n",
      "1/1 [==============================] - 0s 20ms/step - loss: 21.4967 - mean_absolute_error: 4.2370 - mean_squared_error: 21.4967 - val_loss: 5.7524 - val_mean_absolute_error: 2.2150 - val_mean_squared_error: 5.7524\n",
      "Epoch 18/100\n",
      "1/1 [==============================] - 0s 22ms/step - loss: 19.0287 - mean_absolute_error: 3.5858 - mean_squared_error: 19.0287 - val_loss: 1.9276 - val_mean_absolute_error: 1.3194 - val_mean_squared_error: 1.9276\n",
      "Epoch 19/100\n",
      "1/1 [==============================] - 0s 21ms/step - loss: 19.3409 - mean_absolute_error: 3.4482 - mean_squared_error: 19.3409 - val_loss: 1.1909 - val_mean_absolute_error: 0.7553 - val_mean_squared_error: 1.1909\n",
      "Epoch 20/100\n",
      "1/1 [==============================] - 0s 23ms/step - loss: 21.1129 - mean_absolute_error: 3.5222 - mean_squared_error: 21.1129 - val_loss: 1.9725 - val_mean_absolute_error: 0.9922 - val_mean_squared_error: 1.9725\n",
      "Epoch 21/100\n",
      "1/1 [==============================] - 0s 21ms/step - loss: 21.9858 - mean_absolute_error: 3.5475 - mean_squared_error: 21.9858 - val_loss: 2.5520 - val_mean_absolute_error: 1.2447 - val_mean_squared_error: 2.5520\n",
      "Epoch 22/100\n",
      "1/1 [==============================] - 0s 21ms/step - loss: 20.7641 - mean_absolute_error: 3.4760 - mean_squared_error: 20.7641 - val_loss: 2.3596 - val_mean_absolute_error: 1.2321 - val_mean_squared_error: 2.3596\n",
      "Epoch 23/100\n",
      "1/1 [==============================] - 0s 21ms/step - loss: 17.9043 - mean_absolute_error: 3.3356 - mean_squared_error: 17.9043 - val_loss: 1.6863 - val_mean_absolute_error: 1.0824 - val_mean_squared_error: 1.6863\n",
      "Epoch 24/100\n",
      "1/1 [==============================] - 0s 21ms/step - loss: 14.5257 - mean_absolute_error: 3.1562 - mean_squared_error: 14.5257 - val_loss: 1.0552 - val_mean_absolute_error: 0.9071 - val_mean_squared_error: 1.0552\n",
      "Epoch 25/100\n",
      "1/1 [==============================] - 0s 21ms/step - loss: 11.5824 - mean_absolute_error: 2.9618 - mean_squared_error: 11.5824 - val_loss: 0.8051 - val_mean_absolute_error: 0.7342 - val_mean_squared_error: 0.8051\n",
      "Epoch 26/100\n",
      "1/1 [==============================] - 0s 22ms/step - loss: 9.4950 - mean_absolute_error: 2.7682 - mean_squared_error: 9.4950 - val_loss: 0.9947 - val_mean_absolute_error: 0.7541 - val_mean_squared_error: 0.9947\n",
      "Epoch 27/100\n",
      "1/1 [==============================] - 0s 23ms/step - loss: 8.3229 - mean_absolute_error: 2.5908 - mean_squared_error: 8.3229 - val_loss: 1.4931 - val_mean_absolute_error: 0.9475 - val_mean_squared_error: 1.4931\n",
      "Epoch 28/100\n",
      "1/1 [==============================] - 0s 20ms/step - loss: 7.8056 - mean_absolute_error: 2.4660 - mean_squared_error: 7.8056 - val_loss: 2.0941 - val_mean_absolute_error: 1.1113 - val_mean_squared_error: 2.0941\n",
      "Epoch 29/100\n",
      "1/1 [==============================] - 0s 21ms/step - loss: 7.6643 - mean_absolute_error: 2.4392 - mean_squared_error: 7.6643 - val_loss: 2.6239 - val_mean_absolute_error: 1.3045 - val_mean_squared_error: 2.6239\n",
      "Epoch 30/100\n",
      "1/1 [==============================] - 0s 20ms/step - loss: 7.6212 - mean_absolute_error: 2.4105 - mean_squared_error: 7.6212 - val_loss: 2.9626 - val_mean_absolute_error: 1.4061 - val_mean_squared_error: 2.9626\n",
      "Epoch 31/100\n",
      "1/1 [==============================] - 0s 21ms/step - loss: 7.4938 - mean_absolute_error: 2.3600 - mean_squared_error: 7.4938 - val_loss: 3.0654 - val_mean_absolute_error: 1.4127 - val_mean_squared_error: 3.0654\n",
      "Epoch 32/100\n",
      "1/1 [==============================] - 0s 20ms/step - loss: 7.1978 - mean_absolute_error: 2.2896 - mean_squared_error: 7.1978 - val_loss: 2.9435 - val_mean_absolute_error: 1.3465 - val_mean_squared_error: 2.9435\n",
      "Epoch 33/100\n",
      "1/1 [==============================] - 0s 22ms/step - loss: 6.7115 - mean_absolute_error: 2.1981 - mean_squared_error: 6.7115 - val_loss: 2.6621 - val_mean_absolute_error: 1.3161 - val_mean_squared_error: 2.6621\n",
      "Epoch 34/100\n",
      "1/1 [==============================] - 0s 22ms/step - loss: 6.0753 - mean_absolute_error: 2.0867 - mean_squared_error: 6.0753 - val_loss: 2.3218 - val_mean_absolute_error: 1.2665 - val_mean_squared_error: 2.3218\n",
      "Epoch 35/100\n",
      "1/1 [==============================] - 0s 21ms/step - loss: 5.3667 - mean_absolute_error: 1.9570 - mean_squared_error: 5.3667 - val_loss: 2.0240 - val_mean_absolute_error: 1.1962 - val_mean_squared_error: 2.0240\n",
      "Epoch 36/100\n",
      "1/1 [==============================] - 0s 21ms/step - loss: 4.6851 - mean_absolute_error: 1.8360 - mean_squared_error: 4.6851 - val_loss: 1.8593 - val_mean_absolute_error: 1.1121 - val_mean_squared_error: 1.8593\n",
      "Epoch 37/100\n"
     ]
    },
    {
     "name": "stdout",
     "output_type": "stream",
     "text": [
      "1/1 [==============================] - 0s 22ms/step - loss: 4.1234 - mean_absolute_error: 1.7114 - mean_squared_error: 4.1234 - val_loss: 1.8615 - val_mean_absolute_error: 1.1043 - val_mean_squared_error: 1.8615\n",
      "Epoch 38/100\n",
      "1/1 [==============================] - 0s 21ms/step - loss: 3.7379 - mean_absolute_error: 1.6399 - mean_squared_error: 3.7379 - val_loss: 1.9996 - val_mean_absolute_error: 1.0945 - val_mean_squared_error: 1.9996\n",
      "Epoch 39/100\n",
      "1/1 [==============================] - 0s 20ms/step - loss: 3.5280 - mean_absolute_error: 1.5777 - mean_squared_error: 3.5280 - val_loss: 2.1755 - val_mean_absolute_error: 1.1164 - val_mean_squared_error: 2.1755\n",
      "Epoch 40/100\n",
      "1/1 [==============================] - 0s 20ms/step - loss: 3.4308 - mean_absolute_error: 1.5335 - mean_squared_error: 3.4308 - val_loss: 2.2727 - val_mean_absolute_error: 1.1670 - val_mean_squared_error: 2.2727\n",
      "Epoch 41/100\n",
      "1/1 [==============================] - 0s 21ms/step - loss: 3.3570 - mean_absolute_error: 1.4959 - mean_squared_error: 3.3570 - val_loss: 2.2176 - val_mean_absolute_error: 1.1723 - val_mean_squared_error: 2.2176\n",
      "Epoch 42/100\n",
      "1/1 [==============================] - 0s 20ms/step - loss: 3.2207 - mean_absolute_error: 1.4434 - mean_squared_error: 3.2207 - val_loss: 2.0186 - val_mean_absolute_error: 1.1614 - val_mean_squared_error: 2.0186\n",
      "Epoch 43/100\n",
      "1/1 [==============================] - 0s 20ms/step - loss: 2.9901 - mean_absolute_error: 1.3682 - mean_squared_error: 2.9901 - val_loss: 1.7599 - val_mean_absolute_error: 1.1295 - val_mean_squared_error: 1.7599\n",
      "Epoch 44/100\n",
      "1/1 [==============================] - 0s 19ms/step - loss: 2.6980 - mean_absolute_error: 1.2777 - mean_squared_error: 2.6980 - val_loss: 1.5379 - val_mean_absolute_error: 1.0809 - val_mean_squared_error: 1.5379\n",
      "Epoch 45/100\n",
      "1/1 [==============================] - 0s 19ms/step - loss: 2.4047 - mean_absolute_error: 1.1789 - mean_squared_error: 2.4047 - val_loss: 1.4200 - val_mean_absolute_error: 1.0740 - val_mean_squared_error: 1.4200\n",
      "Epoch 46/100\n",
      "1/1 [==============================] - 0s 20ms/step - loss: 2.1675 - mean_absolute_error: 1.0839 - mean_squared_error: 2.1675 - val_loss: 1.4288 - val_mean_absolute_error: 1.0939 - val_mean_squared_error: 1.4288\n",
      "Epoch 47/100\n",
      "1/1 [==============================] - 0s 19ms/step - loss: 2.0203 - mean_absolute_error: 1.0585 - mean_squared_error: 2.0203 - val_loss: 1.5385 - val_mean_absolute_error: 1.1081 - val_mean_squared_error: 1.5385\n",
      "Epoch 48/100\n",
      "1/1 [==============================] - 0s 19ms/step - loss: 1.9481 - mean_absolute_error: 1.0373 - mean_squared_error: 1.9481 - val_loss: 1.6960 - val_mean_absolute_error: 1.1168 - val_mean_squared_error: 1.6960\n",
      "Epoch 49/100\n",
      "1/1 [==============================] - 0s 19ms/step - loss: 1.9213 - mean_absolute_error: 1.0481 - mean_squared_error: 1.9213 - val_loss: 1.8435 - val_mean_absolute_error: 1.1204 - val_mean_squared_error: 1.8435\n",
      "Epoch 50/100\n",
      "1/1 [==============================] - 0s 19ms/step - loss: 1.9054 - mean_absolute_error: 1.0628 - mean_squared_error: 1.9054 - val_loss: 1.9336 - val_mean_absolute_error: 1.1186 - val_mean_squared_error: 1.9336\n",
      "Epoch 51/100\n",
      "1/1 [==============================] - 0s 20ms/step - loss: 1.8710 - mean_absolute_error: 1.0589 - mean_squared_error: 1.8710 - val_loss: 1.9448 - val_mean_absolute_error: 1.1171 - val_mean_squared_error: 1.9448\n",
      "Epoch 52/100\n",
      "1/1 [==============================] - 0s 20ms/step - loss: 1.8042 - mean_absolute_error: 1.0363 - mean_squared_error: 1.8042 - val_loss: 1.8808 - val_mean_absolute_error: 1.1044 - val_mean_squared_error: 1.8808\n",
      "Epoch 53/100\n",
      "1/1 [==============================] - 0s 20ms/step - loss: 1.7076 - mean_absolute_error: 1.0050 - mean_squared_error: 1.7076 - val_loss: 1.7579 - val_mean_absolute_error: 1.0901 - val_mean_squared_error: 1.7579\n",
      "Epoch 54/100\n",
      "1/1 [==============================] - 0s 20ms/step - loss: 1.5975 - mean_absolute_error: 0.9692 - mean_squared_error: 1.5975 - val_loss: 1.6057 - val_mean_absolute_error: 1.0719 - val_mean_squared_error: 1.6057\n",
      "Epoch 55/100\n",
      "1/1 [==============================] - 0s 19ms/step - loss: 1.4933 - mean_absolute_error: 0.9397 - mean_squared_error: 1.4933 - val_loss: 1.4515 - val_mean_absolute_error: 1.0491 - val_mean_squared_error: 1.4515\n",
      "Epoch 56/100\n",
      "1/1 [==============================] - 0s 20ms/step - loss: 1.4112 - mean_absolute_error: 0.9098 - mean_squared_error: 1.4112 - val_loss: 1.3199 - val_mean_absolute_error: 1.0230 - val_mean_squared_error: 1.3199\n",
      "Epoch 57/100\n",
      "1/1 [==============================] - 0s 20ms/step - loss: 1.3572 - mean_absolute_error: 0.8886 - mean_squared_error: 1.3572 - val_loss: 1.2202 - val_mean_absolute_error: 0.9942 - val_mean_squared_error: 1.2202\n",
      "Epoch 58/100\n",
      "1/1 [==============================] - 0s 21ms/step - loss: 1.3230 - mean_absolute_error: 0.8782 - mean_squared_error: 1.3230 - val_loss: 1.1493 - val_mean_absolute_error: 0.9635 - val_mean_squared_error: 1.1493\n",
      "Epoch 59/100\n",
      "1/1 [==============================] - 0s 20ms/step - loss: 1.2939 - mean_absolute_error: 0.8640 - mean_squared_error: 1.2939 - val_loss: 1.0956 - val_mean_absolute_error: 0.9321 - val_mean_squared_error: 1.0956\n",
      "Epoch 60/100\n",
      "1/1 [==============================] - 0s 20ms/step - loss: 1.2559 - mean_absolute_error: 0.8525 - mean_squared_error: 1.2559 - val_loss: 1.0514 - val_mean_absolute_error: 0.9015 - val_mean_squared_error: 1.0514\n",
      "Epoch 61/100\n",
      "1/1 [==============================] - 0s 19ms/step - loss: 1.2013 - mean_absolute_error: 0.8338 - mean_squared_error: 1.2013 - val_loss: 1.0131 - val_mean_absolute_error: 0.8727 - val_mean_squared_error: 1.0131\n",
      "Epoch 62/100\n",
      "1/1 [==============================] - 0s 20ms/step - loss: 1.1340 - mean_absolute_error: 0.8081 - mean_squared_error: 1.1340 - val_loss: 0.9793 - val_mean_absolute_error: 0.8452 - val_mean_squared_error: 0.9793\n",
      "Epoch 63/100\n",
      "1/1 [==============================] - 0s 20ms/step - loss: 1.0622 - mean_absolute_error: 0.7773 - mean_squared_error: 1.0622 - val_loss: 0.9518 - val_mean_absolute_error: 0.8191 - val_mean_squared_error: 0.9518\n",
      "Epoch 64/100\n",
      "1/1 [==============================] - 0s 20ms/step - loss: 0.9962 - mean_absolute_error: 0.7424 - mean_squared_error: 0.9962 - val_loss: 0.9283 - val_mean_absolute_error: 0.8144 - val_mean_squared_error: 0.9283\n",
      "Epoch 65/100\n",
      "1/1 [==============================] - 0s 20ms/step - loss: 0.9430 - mean_absolute_error: 0.7074 - mean_squared_error: 0.9430 - val_loss: 0.9054 - val_mean_absolute_error: 0.8050 - val_mean_squared_error: 0.9054\n",
      "Epoch 66/100\n",
      "1/1 [==============================] - 0s 20ms/step - loss: 0.9023 - mean_absolute_error: 0.6846 - mean_squared_error: 0.9023 - val_loss: 0.8727 - val_mean_absolute_error: 0.7872 - val_mean_squared_error: 0.8727\n",
      "Epoch 67/100\n",
      "1/1 [==============================] - 0s 19ms/step - loss: 0.8666 - mean_absolute_error: 0.6737 - mean_squared_error: 0.8666 - val_loss: 0.8223 - val_mean_absolute_error: 0.7592 - val_mean_squared_error: 0.8223\n",
      "Epoch 68/100\n",
      "1/1 [==============================] - 0s 20ms/step - loss: 0.8284 - mean_absolute_error: 0.6599 - mean_squared_error: 0.8284 - val_loss: 0.7539 - val_mean_absolute_error: 0.7211 - val_mean_squared_error: 0.7539\n",
      "Epoch 69/100\n",
      "1/1 [==============================] - 0s 20ms/step - loss: 0.7856 - mean_absolute_error: 0.6433 - mean_squared_error: 0.7856 - val_loss: 0.6726 - val_mean_absolute_error: 0.6745 - val_mean_squared_error: 0.6726\n",
      "Epoch 70/100\n",
      "1/1 [==============================] - 0s 20ms/step - loss: 0.7402 - mean_absolute_error: 0.6279 - mean_squared_error: 0.7402 - val_loss: 0.5895 - val_mean_absolute_error: 0.6397 - val_mean_squared_error: 0.5895\n",
      "Epoch 71/100\n",
      "1/1 [==============================] - 0s 20ms/step - loss: 0.6984 - mean_absolute_error: 0.6199 - mean_squared_error: 0.6984 - val_loss: 0.5149 - val_mean_absolute_error: 0.6106 - val_mean_squared_error: 0.5149\n",
      "Epoch 72/100\n",
      "1/1 [==============================] - 0s 20ms/step - loss: 0.6658 - mean_absolute_error: 0.6112 - mean_squared_error: 0.6658 - val_loss: 0.4553 - val_mean_absolute_error: 0.5819 - val_mean_squared_error: 0.4553\n",
      "Epoch 73/100\n"
     ]
    },
    {
     "name": "stdout",
     "output_type": "stream",
     "text": [
      "1/1 [==============================] - 0s 20ms/step - loss: 0.6423 - mean_absolute_error: 0.6017 - mean_squared_error: 0.6423 - val_loss: 0.4117 - val_mean_absolute_error: 0.5552 - val_mean_squared_error: 0.4117\n",
      "Epoch 74/100\n",
      "1/1 [==============================] - 0s 20ms/step - loss: 0.6214 - mean_absolute_error: 0.5968 - mean_squared_error: 0.6214 - val_loss: 0.3795 - val_mean_absolute_error: 0.5308 - val_mean_squared_error: 0.3795\n",
      "Epoch 75/100\n",
      "1/1 [==============================] - 0s 21ms/step - loss: 0.5983 - mean_absolute_error: 0.5878 - mean_squared_error: 0.5983 - val_loss: 0.3551 - val_mean_absolute_error: 0.5116 - val_mean_squared_error: 0.3551\n",
      "Epoch 76/100\n",
      "1/1 [==============================] - 0s 22ms/step - loss: 0.5699 - mean_absolute_error: 0.5744 - mean_squared_error: 0.5699 - val_loss: 0.3372 - val_mean_absolute_error: 0.4907 - val_mean_squared_error: 0.3372\n",
      "Epoch 77/100\n",
      "1/1 [==============================] - 0s 21ms/step - loss: 0.5379 - mean_absolute_error: 0.5569 - mean_squared_error: 0.5379 - val_loss: 0.3258 - val_mean_absolute_error: 0.4701 - val_mean_squared_error: 0.3258\n",
      "Epoch 78/100\n",
      "1/1 [==============================] - 0s 20ms/step - loss: 0.5068 - mean_absolute_error: 0.5367 - mean_squared_error: 0.5068 - val_loss: 0.3211 - val_mean_absolute_error: 0.4545 - val_mean_squared_error: 0.3211\n",
      "Epoch 79/100\n",
      "1/1 [==============================] - 0s 20ms/step - loss: 0.4820 - mean_absolute_error: 0.5175 - mean_squared_error: 0.4820 - val_loss: 0.3189 - val_mean_absolute_error: 0.4630 - val_mean_squared_error: 0.3189\n",
      "Epoch 80/100\n",
      "1/1 [==============================] - 0s 19ms/step - loss: 0.4625 - mean_absolute_error: 0.5022 - mean_squared_error: 0.4625 - val_loss: 0.3136 - val_mean_absolute_error: 0.4658 - val_mean_squared_error: 0.3136\n",
      "Epoch 81/100\n",
      "1/1 [==============================] - 0s 19ms/step - loss: 0.4451 - mean_absolute_error: 0.4883 - mean_squared_error: 0.4451 - val_loss: 0.3010 - val_mean_absolute_error: 0.4604 - val_mean_squared_error: 0.3010\n",
      "Epoch 82/100\n",
      "1/1 [==============================] - 0s 20ms/step - loss: 0.4261 - mean_absolute_error: 0.4761 - mean_squared_error: 0.4261 - val_loss: 0.2796 - val_mean_absolute_error: 0.4457 - val_mean_squared_error: 0.2796\n",
      "Epoch 83/100\n",
      "1/1 [==============================] - 0s 19ms/step - loss: 0.4039 - mean_absolute_error: 0.4658 - mean_squared_error: 0.4039 - val_loss: 0.2521 - val_mean_absolute_error: 0.4229 - val_mean_squared_error: 0.2521\n",
      "Epoch 84/100\n",
      "1/1 [==============================] - 0s 20ms/step - loss: 0.3801 - mean_absolute_error: 0.4568 - mean_squared_error: 0.3801 - val_loss: 0.2243 - val_mean_absolute_error: 0.3958 - val_mean_squared_error: 0.2243\n",
      "Epoch 85/100\n",
      "1/1 [==============================] - 0s 20ms/step - loss: 0.3578 - mean_absolute_error: 0.4490 - mean_squared_error: 0.3578 - val_loss: 0.1997 - val_mean_absolute_error: 0.3720 - val_mean_squared_error: 0.1997\n",
      "Epoch 86/100\n",
      "1/1 [==============================] - 0s 21ms/step - loss: 0.3391 - mean_absolute_error: 0.4418 - mean_squared_error: 0.3391 - val_loss: 0.1803 - val_mean_absolute_error: 0.3517 - val_mean_squared_error: 0.1803\n",
      "Epoch 87/100\n",
      "1/1 [==============================] - 0s 20ms/step - loss: 0.3232 - mean_absolute_error: 0.4355 - mean_squared_error: 0.3232 - val_loss: 0.1660 - val_mean_absolute_error: 0.3341 - val_mean_squared_error: 0.1660\n",
      "Epoch 88/100\n",
      "1/1 [==============================] - 0s 20ms/step - loss: 0.3081 - mean_absolute_error: 0.4266 - mean_squared_error: 0.3081 - val_loss: 0.1560 - val_mean_absolute_error: 0.3204 - val_mean_squared_error: 0.1560\n",
      "Epoch 89/100\n",
      "1/1 [==============================] - 0s 20ms/step - loss: 0.2919 - mean_absolute_error: 0.4147 - mean_squared_error: 0.2919 - val_loss: 0.1501 - val_mean_absolute_error: 0.3122 - val_mean_squared_error: 0.1501\n",
      "Epoch 90/100\n",
      "1/1 [==============================] - 0s 20ms/step - loss: 0.2750 - mean_absolute_error: 0.4018 - mean_squared_error: 0.2750 - val_loss: 0.1480 - val_mean_absolute_error: 0.3148 - val_mean_squared_error: 0.1480\n",
      "Epoch 91/100\n",
      "1/1 [==============================] - 0s 20ms/step - loss: 0.2590 - mean_absolute_error: 0.3885 - mean_squared_error: 0.2590 - val_loss: 0.1489 - val_mean_absolute_error: 0.3196 - val_mean_squared_error: 0.1489\n",
      "Epoch 92/100\n",
      "1/1 [==============================] - 0s 20ms/step - loss: 0.2455 - mean_absolute_error: 0.3745 - mean_squared_error: 0.2455 - val_loss: 0.1505 - val_mean_absolute_error: 0.3232 - val_mean_squared_error: 0.1505\n",
      "Epoch 93/100\n",
      "1/1 [==============================] - 0s 20ms/step - loss: 0.2341 - mean_absolute_error: 0.3606 - mean_squared_error: 0.2341 - val_loss: 0.1501 - val_mean_absolute_error: 0.3226 - val_mean_squared_error: 0.1501\n",
      "Epoch 94/100\n",
      "1/1 [==============================] - 0s 20ms/step - loss: 0.2237 - mean_absolute_error: 0.3532 - mean_squared_error: 0.2237 - val_loss: 0.1461 - val_mean_absolute_error: 0.3160 - val_mean_squared_error: 0.1461\n",
      "Epoch 95/100\n",
      "1/1 [==============================] - 0s 20ms/step - loss: 0.2133 - mean_absolute_error: 0.3465 - mean_squared_error: 0.2133 - val_loss: 0.1391 - val_mean_absolute_error: 0.3036 - val_mean_squared_error: 0.1391\n",
      "Epoch 96/100\n",
      "1/1 [==============================] - 0s 20ms/step - loss: 0.2027 - mean_absolute_error: 0.3368 - mean_squared_error: 0.2027 - val_loss: 0.1311 - val_mean_absolute_error: 0.2866 - val_mean_squared_error: 0.1311\n",
      "Epoch 97/100\n",
      "1/1 [==============================] - 0s 21ms/step - loss: 0.1929 - mean_absolute_error: 0.3252 - mean_squared_error: 0.1929 - val_loss: 0.1249 - val_mean_absolute_error: 0.2705 - val_mean_squared_error: 0.1249\n",
      "Epoch 98/100\n",
      "1/1 [==============================] - 0s 20ms/step - loss: 0.1848 - mean_absolute_error: 0.3127 - mean_squared_error: 0.1848 - val_loss: 0.1219 - val_mean_absolute_error: 0.2758 - val_mean_squared_error: 0.1219\n",
      "Epoch 99/100\n",
      "1/1 [==============================] - 0s 20ms/step - loss: 0.1789 - mean_absolute_error: 0.3015 - mean_squared_error: 0.1789 - val_loss: 0.1213 - val_mean_absolute_error: 0.2848 - val_mean_squared_error: 0.1213\n",
      "Epoch 100/100\n",
      "1/1 [==============================] - 0s 19ms/step - loss: 0.1736 - mean_absolute_error: 0.2957 - mean_squared_error: 0.1736 - val_loss: 0.1223 - val_mean_absolute_error: 0.2918 - val_mean_squared_error: 0.1223\n"
     ]
    }
   ],
   "source": [
    "model_history = model.fit(\n",
    "    X_train_scaled,\n",
    "    y_train,\n",
    "    epochs=EPOCHS,\n",
    "    validation_data=(X_test_scaled, y_test)\n",
    ")"
   ]
  },
  {
   "cell_type": "code",
   "execution_count": 136,
   "metadata": {},
   "outputs": [],
   "source": [
    "predictions = model.predict(X_test_scaled)"
   ]
  },
  {
   "cell_type": "code",
   "execution_count": 137,
   "metadata": {},
   "outputs": [
    {
     "data": {
      "text/plain": [
       "9.921507"
      ]
     },
     "execution_count": 137,
     "metadata": {},
     "output_type": "execute_result"
    }
   ],
   "source": [
    "predictions[0][0]"
   ]
  },
  {
   "cell_type": "code",
   "execution_count": 138,
   "metadata": {},
   "outputs": [
    {
     "data": {
      "text/plain": [
       "9.756171195425988"
      ]
     },
     "execution_count": 138,
     "metadata": {},
     "output_type": "execute_result"
    }
   ],
   "source": [
    "y_test[0][0]"
   ]
  },
  {
   "cell_type": "code",
   "execution_count": 139,
   "metadata": {},
   "outputs": [
    {
     "data": {
      "text/plain": [
       "8346547738.882024"
      ]
     },
     "execution_count": 139,
     "metadata": {},
     "output_type": "execute_result"
    }
   ],
   "source": [
    "10**predictions[0][0]"
   ]
  },
  {
   "cell_type": "code",
   "execution_count": 54,
   "metadata": {},
   "outputs": [
    {
     "ename": "ValueError",
     "evalue": "non-broadcastable output operand with shape (7,1) doesn't match the broadcast shape (7,7)",
     "output_type": "error",
     "traceback": [
      "\u001b[1;31m---------------------------------------------------------------------------\u001b[0m",
      "\u001b[1;31mValueError\u001b[0m                                Traceback (most recent call last)",
      "\u001b[1;32m<ipython-input-54-814c4edd4c71>\u001b[0m in \u001b[0;36m<module>\u001b[1;34m\u001b[0m\n\u001b[1;32m----> 1\u001b[1;33m \u001b[0mX_scaler\u001b[0m\u001b[1;33m.\u001b[0m\u001b[0minverse_transform\u001b[0m\u001b[1;33m(\u001b[0m\u001b[0mpredictions\u001b[0m\u001b[1;33m)\u001b[0m\u001b[1;33m\u001b[0m\u001b[1;33m\u001b[0m\u001b[0m\n\u001b[0m",
      "\u001b[1;32m~\\anaconda3\\lib\\site-packages\\sklearn\\preprocessing\\_data.py\u001b[0m in \u001b[0;36minverse_transform\u001b[1;34m(self, X, copy)\u001b[0m\n\u001b[0;32m    935\u001b[0m                 \u001b[0mX\u001b[0m \u001b[1;33m=\u001b[0m \u001b[0mX\u001b[0m\u001b[1;33m.\u001b[0m\u001b[0mcopy\u001b[0m\u001b[1;33m(\u001b[0m\u001b[1;33m)\u001b[0m\u001b[1;33m\u001b[0m\u001b[1;33m\u001b[0m\u001b[0m\n\u001b[0;32m    936\u001b[0m             \u001b[1;32mif\u001b[0m \u001b[0mself\u001b[0m\u001b[1;33m.\u001b[0m\u001b[0mwith_std\u001b[0m\u001b[1;33m:\u001b[0m\u001b[1;33m\u001b[0m\u001b[1;33m\u001b[0m\u001b[0m\n\u001b[1;32m--> 937\u001b[1;33m                 \u001b[0mX\u001b[0m \u001b[1;33m*=\u001b[0m \u001b[0mself\u001b[0m\u001b[1;33m.\u001b[0m\u001b[0mscale_\u001b[0m\u001b[1;33m\u001b[0m\u001b[1;33m\u001b[0m\u001b[0m\n\u001b[0m\u001b[0;32m    938\u001b[0m             \u001b[1;32mif\u001b[0m \u001b[0mself\u001b[0m\u001b[1;33m.\u001b[0m\u001b[0mwith_mean\u001b[0m\u001b[1;33m:\u001b[0m\u001b[1;33m\u001b[0m\u001b[1;33m\u001b[0m\u001b[0m\n\u001b[0;32m    939\u001b[0m                 \u001b[0mX\u001b[0m \u001b[1;33m+=\u001b[0m \u001b[0mself\u001b[0m\u001b[1;33m.\u001b[0m\u001b[0mmean_\u001b[0m\u001b[1;33m\u001b[0m\u001b[1;33m\u001b[0m\u001b[0m\n",
      "\u001b[1;31mValueError\u001b[0m: non-broadcastable output operand with shape (7,1) doesn't match the broadcast shape (7,7)"
     ]
    }
   ],
   "source": [
    "X_scaler.inverse_transform(predictions)"
   ]
  },
  {
   "cell_type": "code",
   "execution_count": null,
   "metadata": {},
   "outputs": [],
   "source": [
    "\n",
    "# plot_cm(title,file_save,labels, predictions, p=0.5):\n",
    "cm = confusion_matrix(labels, predictions)\n",
    "plt.figure(figsize=(5,5))\n",
    "sns.heatmap(cm, annot=True, fmt=\"d\")\n",
    "plt.title(title)\n",
    "plt.ylabel('Actual label')\n",
    "plt.xlabel('Predicted label')\n",
    "plt.savefig(file_save, dpi=300)"
   ]
  }
 ],
 "metadata": {
  "kernelspec": {
   "display_name": "Python 3",
   "language": "python",
   "name": "python3"
  },
  "language_info": {
   "codemirror_mode": {
    "name": "ipython",
    "version": 3
   },
   "file_extension": ".py",
   "mimetype": "text/x-python",
   "name": "python",
   "nbconvert_exporter": "python",
   "pygments_lexer": "ipython3",
   "version": "3.8.5"
  }
 },
 "nbformat": 4,
 "nbformat_minor": 5
}
