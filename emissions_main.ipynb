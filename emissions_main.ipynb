{
 "cells": [
  {
   "cell_type": "code",
   "execution_count": 1,
   "metadata": {},
   "outputs": [],
   "source": [
    "import os\n",
    "import config\n",
    "import platform\n",
    "v1, v2, v3 = config.spark_env(platform.node())\n",
    "os.environ['SPARK_VERSION'] = v1\n",
    "os.environ['JAVA_HOME'] = v2\n",
    "os.environ['SPARK_HOME'] = v3\n",
    "import findspark\n",
    "import pyspark\n",
    "from pyspark.sql import SparkSession\n",
    "findspark.init()\n",
    "spark = SparkSession.builder.appName(\"emissionsdataframe\").getOrCreate()\n",
    "from sqlalchemy import create_engine, insert\n",
    "from sqlalchemy.ext.declarative import declarative_base\n",
    "from sqlalchemy import MetaData, update, Table\n",
    "from sqlalchemy.orm import Session\n",
    "from sqlalchemy.orm import sessionmaker\n",
    "from sqlalchemy.exc import SQLAlchemyError\n",
    "import pandas as pd\n",
    "from pyspark.sql.types import IntegerType,BooleanType,DateType\n",
    "from pyspark.sql.functions import col\n",
    "from pyspark.sql import Row\n",
    "from pyspark.sql.functions import array, col, explode, lit, struct, log\n",
    "from pyspark.sql import DataFrame\n",
    "from typing import Iterable\n",
    "import numpy as np\n",
    "import spark_functions\n",
    "import tensorflow as tf\n",
    "import keras.metrics\n",
    "import pyspark.sql.functions as F\n",
    "import math\n",
    "from sklearn.preprocessing import StandardScaler\n",
    "from sklearn.metrics import confusion_matrix\n",
    "import seaborn as sns\n",
    "rds_string = config.rds_string\n",
    "engine = create_engine(f'postgresql://{rds_string}')\n",
    "conn = engine.connect()\n",
    "metadata = MetaData(engine)"
   ]
  },
  {
   "cell_type": "code",
   "execution_count": 9,
   "metadata": {},
   "outputs": [],
   "source": [
    "india_spark, india_cols = spark_functions.merged_df(\"India\")"
   ]
  },
  {
   "cell_type": "code",
   "execution_count": 10,
   "metadata": {},
   "outputs": [],
   "source": [
    "china_spark, china_cols = spark_functions.merged_df(\"China\")"
   ]
  },
  {
   "cell_type": "code",
   "execution_count": 11,
   "metadata": {},
   "outputs": [],
   "source": [
    "germany_spark, germany_cols = spark_functions.merged_df(\"Germany\")"
   ]
  },
  {
   "cell_type": "code",
   "execution_count": 12,
   "metadata": {},
   "outputs": [],
   "source": [
    "france_spark, france_cols = spark_functions.merged_df(\"France\")"
   ]
  },
  {
   "cell_type": "code",
   "execution_count": 13,
   "metadata": {},
   "outputs": [],
   "source": [
    "mexico_spark, mexico_cols = spark_functions.merged_df(\"Mexico\")"
   ]
  },
  {
   "cell_type": "code",
   "execution_count": 14,
   "metadata": {},
   "outputs": [],
   "source": [
    "us_spark, us_cols = spark_functions.merged_df(\"United States\")"
   ]
  },
  {
   "cell_type": "code",
   "execution_count": null,
   "metadata": {},
   "outputs": [],
   "source": []
  },
  {
   "cell_type": "code",
   "execution_count": 26,
   "metadata": {},
   "outputs": [],
   "source": [
    "def unions_spark(dfs):\n",
    "    steve = len(dfs)\n",
    "    df = dfs[0]\n",
    "    for i in range(steve - 1):\n",
    "        df = df.union(dfs[i+1])\n",
    "    return df"
   ]
  },
  {
   "cell_type": "code",
   "execution_count": 32,
   "metadata": {},
   "outputs": [],
   "source": [
    "dfs = [india_spark,china_spark,mexico_spark,us_spark, germany_spark, france_spark]"
   ]
  },
  {
   "cell_type": "code",
   "execution_count": 33,
   "metadata": {},
   "outputs": [
    {
     "data": {
      "text/plain": [
       "DataFrame[country: string, year: int, gdp: double, annual_co2_emissions_tonnes_log: double, import_trade_sum_usd_log: double, import_weight_sum_kg_log: double, import_quantity_sum_log: double, export_trade_sum_usd_log: double, export_weight_sum_kg_log: double, export_quantity_sum_log: double]"
      ]
     },
     "execution_count": 33,
     "metadata": {},
     "output_type": "execute_result"
    }
   ],
   "source": [
    "dfs[0]"
   ]
  },
  {
   "cell_type": "code",
   "execution_count": 36,
   "metadata": {},
   "outputs": [],
   "source": [
    "df = unions_spark(dfs)"
   ]
  },
  {
   "cell_type": "code",
   "execution_count": 37,
   "metadata": {},
   "outputs": [],
   "source": [
    "x_cols = [\n",
    " 'gdp',\n",
    " 'import_trade_sum_usd_log',\n",
    " 'import_weight_sum_kg_log',\n",
    " 'import_quantity_sum_log',\n",
    " 'export_trade_sum_usd_log',\n",
    " 'export_weight_sum_kg_log',\n",
    " 'export_quantity_sum_log']"
   ]
  },
  {
   "cell_type": "code",
   "execution_count": 38,
   "metadata": {},
   "outputs": [],
   "source": [
    "arr = np.array(df.select(\n",
    " 'gdp',\n",
    " 'import_trade_sum_usd_log',\n",
    " 'import_weight_sum_kg_log',\n",
    " 'import_quantity_sum_log',\n",
    " 'export_trade_sum_usd_log',\n",
    " 'export_weight_sum_kg_log',\n",
    " 'export_quantity_sum_log') \\\n",
    ".collect())"
   ]
  },
  {
   "cell_type": "code",
   "execution_count": 39,
   "metadata": {},
   "outputs": [],
   "source": [
    "arr2 = np.array(df.select('annual_co2_emissions_tonnes_log').collect())"
   ]
  },
  {
   "cell_type": "code",
   "execution_count": 40,
   "metadata": {},
   "outputs": [],
   "source": [
    "from sklearn.model_selection import train_test_split\n"
   ]
  },
  {
   "cell_type": "code",
   "execution_count": 41,
   "metadata": {},
   "outputs": [],
   "source": [
    "X_train, X_test, y_train, y_test = train_test_split(arr, arr2, test_size=0.2)\n",
    "X_test, X_val, y_test, y_val = train_test_split(X_test, y_test, test_size=0.2)"
   ]
  },
  {
   "cell_type": "code",
   "execution_count": 42,
   "metadata": {},
   "outputs": [],
   "source": [
    "X_scaler = StandardScaler().fit(X_train)"
   ]
  },
  {
   "cell_type": "code",
   "execution_count": 43,
   "metadata": {},
   "outputs": [],
   "source": [
    "X_train_scaled = X_scaler.transform(X_train)\n",
    "X_test_scaled = X_scaler.transform(X_test)\n",
    "X_val_scaled = X_scaler.transform(X_val)"
   ]
  },
  {
   "cell_type": "code",
   "execution_count": 44,
   "metadata": {},
   "outputs": [],
   "source": [
    "from tensorflow.keras.models import Sequential\n",
    "from tensorflow.keras.layers import Dense"
   ]
  },
  {
   "cell_type": "code",
   "execution_count": null,
   "metadata": {},
   "outputs": [],
   "source": [
    "# def build_and_compile_model(norm):\n",
    "#     model = keras.Sequential([\n",
    "#       norm,\n",
    "#       layers.Dense(64, activation='relu'),\n",
    "#       layers.Dense(64, activation='relu'),\n",
    "#       layers.Dense(1)\n",
    "#     ])\n",
    "\n",
    "#     model.compile(loss='mean_absolute_error',\n",
    "#                 optimizer=tf.keras.optimizers.Adam(0.001))\n",
    "#     return model"
   ]
  },
  {
   "cell_type": "code",
   "execution_count": 45,
   "metadata": {},
   "outputs": [],
   "source": [
    "from tensorflow.keras.models import Sequential\n",
    "from tensorflow.keras.layers import Dense\n",
    "\n",
    "model = Sequential()\n",
    "model.add(Dense(units=100, activation='relu', input_dim=7))\n",
    "model.add(Dense(units=100, activation='relu'))\n",
    "model.add(Dense(units=100, activation='ReLU'))\n",
    "model.add(Dense(units=100, activation='PReLU'))\n",
    "model.add(Dense(units=100, activation='swish'))\n",
    "model.add(Dense(units=1, activation='linear'))"
   ]
  },
  {
   "cell_type": "code",
   "execution_count": 46,
   "metadata": {},
   "outputs": [
    {
     "name": "stdout",
     "output_type": "stream",
     "text": [
      "Model: \"sequential\"\n",
      "_________________________________________________________________\n",
      "Layer (type)                 Output Shape              Param #   \n",
      "=================================================================\n",
      "dense (Dense)                (None, 100)               800       \n",
      "_________________________________________________________________\n",
      "dense_1 (Dense)              (None, 100)               10100     \n",
      "_________________________________________________________________\n",
      "dense_2 (Dense)              (None, 100)               10100     \n",
      "_________________________________________________________________\n",
      "dense_3 (Dense)              (None, 100)               10200     \n",
      "_________________________________________________________________\n",
      "dense_4 (Dense)              (None, 100)               10100     \n",
      "_________________________________________________________________\n",
      "dense_5 (Dense)              (None, 1)                 101       \n",
      "=================================================================\n",
      "Total params: 41,401\n",
      "Trainable params: 41,401\n",
      "Non-trainable params: 0\n",
      "_________________________________________________________________\n"
     ]
    }
   ],
   "source": [
    "model.summary()"
   ]
  },
  {
   "cell_type": "code",
   "execution_count": 47,
   "metadata": {},
   "outputs": [],
   "source": [
    "METRICS = [\n",
    "      keras.metrics.MeanAbsoluteError(name='mean_absolute_error'),\n",
    "      keras.metrics.MeanSquaredError(name='mean_squared_error')\n",
    "]\n",
    "\n",
    "\n",
    "early_stopping = tf.keras.callbacks.EarlyStopping(\n",
    "    monitor='mse', \n",
    "    verbose=1,\n",
    "    patience=10,\n",
    "    mode='max',\n",
    "    restore_best_weights=True)\n",
    "\n",
    "EPOCHS = 100"
   ]
  },
  {
   "cell_type": "code",
   "execution_count": 48,
   "metadata": {},
   "outputs": [],
   "source": [
    "model.compile(optimizer='adam',\n",
    "              loss='mse',\n",
    "              metrics=METRICS)"
   ]
  },
  {
   "cell_type": "code",
   "execution_count": 49,
   "metadata": {},
   "outputs": [
    {
     "name": "stdout",
     "output_type": "stream",
     "text": [
      "Epoch 1/100\n",
      "4/4 [==============================] - 1s 49ms/step - loss: 81.1438 - mean_absolute_error: 8.9952 - mean_squared_error: 81.1438 - val_loss: 77.4590 - val_mean_absolute_error: 8.7894 - val_mean_squared_error: 77.4590\n",
      "Epoch 2/100\n",
      "4/4 [==============================] - 0s 10ms/step - loss: 74.1595 - mean_absolute_error: 8.5976 - mean_squared_error: 74.1595 - val_loss: 68.3907 - val_mean_absolute_error: 8.2515 - val_mean_squared_error: 68.3907\n",
      "Epoch 3/100\n",
      "4/4 [==============================] - 0s 14ms/step - loss: 62.3654 - mean_absolute_error: 7.8627 - mean_squared_error: 62.3654 - val_loss: 53.5541 - val_mean_absolute_error: 7.2576 - val_mean_squared_error: 53.5541\n",
      "Epoch 4/100\n",
      "4/4 [==============================] - 0s 11ms/step - loss: 44.3718 - mean_absolute_error: 6.5352 - mean_squared_error: 44.3718 - val_loss: 32.3252 - val_mean_absolute_error: 5.4679 - val_mean_squared_error: 32.3252\n",
      "Epoch 5/100\n",
      "4/4 [==============================] - 0s 12ms/step - loss: 22.5524 - mean_absolute_error: 4.4073 - mean_squared_error: 22.5524 - val_loss: 15.5526 - val_mean_absolute_error: 3.4237 - val_mean_squared_error: 15.5526\n",
      "Epoch 6/100\n",
      "4/4 [==============================] - 0s 16ms/step - loss: 15.2039 - mean_absolute_error: 3.1241 - mean_squared_error: 15.2039 - val_loss: 19.3023 - val_mean_absolute_error: 3.4797 - val_mean_squared_error: 19.3023\n",
      "Epoch 7/100\n",
      "4/4 [==============================] - 0s 13ms/step - loss: 12.9078 - mean_absolute_error: 2.8647 - mean_squared_error: 12.9078 - val_loss: 12.0726 - val_mean_absolute_error: 2.9418 - val_mean_squared_error: 12.0726\n",
      "Epoch 8/100\n",
      "4/4 [==============================] - 0s 13ms/step - loss: 7.0151 - mean_absolute_error: 2.2710 - mean_squared_error: 7.0151 - val_loss: 8.3143 - val_mean_absolute_error: 2.5192 - val_mean_squared_error: 8.3143\n",
      "Epoch 9/100\n",
      "4/4 [==============================] - 0s 12ms/step - loss: 6.7678 - mean_absolute_error: 2.2139 - mean_squared_error: 6.7678 - val_loss: 7.6227 - val_mean_absolute_error: 2.3814 - val_mean_squared_error: 7.6227\n",
      "Epoch 10/100\n",
      "4/4 [==============================] - 0s 10ms/step - loss: 6.0842 - mean_absolute_error: 2.1109 - mean_squared_error: 6.0842 - val_loss: 6.2402 - val_mean_absolute_error: 2.2103 - val_mean_squared_error: 6.2402\n",
      "Epoch 11/100\n",
      "4/4 [==============================] - 0s 11ms/step - loss: 4.4617 - mean_absolute_error: 1.8050 - mean_squared_error: 4.4617 - val_loss: 6.2224 - val_mean_absolute_error: 2.1159 - val_mean_squared_error: 6.2224\n",
      "Epoch 12/100\n",
      "4/4 [==============================] - 0s 10ms/step - loss: 4.0243 - mean_absolute_error: 1.7220 - mean_squared_error: 4.0243 - val_loss: 5.6071 - val_mean_absolute_error: 1.9933 - val_mean_squared_error: 5.6071\n",
      "Epoch 13/100\n",
      "4/4 [==============================] - 0s 10ms/step - loss: 3.2545 - mean_absolute_error: 1.5445 - mean_squared_error: 3.2545 - val_loss: 3.5651 - val_mean_absolute_error: 1.6465 - val_mean_squared_error: 3.5651\n",
      "Epoch 14/100\n",
      "4/4 [==============================] - 0s 9ms/step - loss: 2.6012 - mean_absolute_error: 1.3575 - mean_squared_error: 2.6012 - val_loss: 2.8960 - val_mean_absolute_error: 1.4340 - val_mean_squared_error: 2.8960\n",
      "Epoch 15/100\n",
      "4/4 [==============================] - 0s 10ms/step - loss: 2.4596 - mean_absolute_error: 1.3177 - mean_squared_error: 2.4596 - val_loss: 2.4718 - val_mean_absolute_error: 1.3230 - val_mean_squared_error: 2.4718\n",
      "Epoch 16/100\n",
      "4/4 [==============================] - 0s 10ms/step - loss: 2.0851 - mean_absolute_error: 1.2044 - mean_squared_error: 2.0851 - val_loss: 2.1278 - val_mean_absolute_error: 1.3161 - val_mean_squared_error: 2.1278\n",
      "Epoch 17/100\n",
      "4/4 [==============================] - 0s 11ms/step - loss: 1.8104 - mean_absolute_error: 1.1098 - mean_squared_error: 1.8104 - val_loss: 1.9808 - val_mean_absolute_error: 1.2563 - val_mean_squared_error: 1.9808\n",
      "Epoch 18/100\n",
      "4/4 [==============================] - 0s 9ms/step - loss: 1.6071 - mean_absolute_error: 1.0308 - mean_squared_error: 1.6071 - val_loss: 1.7216 - val_mean_absolute_error: 1.1490 - val_mean_squared_error: 1.7216\n",
      "Epoch 19/100\n",
      "4/4 [==============================] - 0s 9ms/step - loss: 1.3890 - mean_absolute_error: 0.9590 - mean_squared_error: 1.3890 - val_loss: 1.5258 - val_mean_absolute_error: 1.0760 - val_mean_squared_error: 1.5258\n",
      "Epoch 20/100\n",
      "4/4 [==============================] - 0s 9ms/step - loss: 1.2328 - mean_absolute_error: 0.9080 - mean_squared_error: 1.2328 - val_loss: 1.3812 - val_mean_absolute_error: 1.0247 - val_mean_squared_error: 1.3812\n",
      "Epoch 21/100\n",
      "4/4 [==============================] - 0s 9ms/step - loss: 1.0734 - mean_absolute_error: 0.8312 - mean_squared_error: 1.0734 - val_loss: 1.2504 - val_mean_absolute_error: 0.9686 - val_mean_squared_error: 1.2504\n",
      "Epoch 22/100\n",
      "4/4 [==============================] - 0s 9ms/step - loss: 0.9606 - mean_absolute_error: 0.7601 - mean_squared_error: 0.9606 - val_loss: 1.1058 - val_mean_absolute_error: 0.8972 - val_mean_squared_error: 1.1058\n",
      "Epoch 23/100\n",
      "4/4 [==============================] - 0s 9ms/step - loss: 0.8231 - mean_absolute_error: 0.7108 - mean_squared_error: 0.8231 - val_loss: 0.9622 - val_mean_absolute_error: 0.8342 - val_mean_squared_error: 0.9622\n",
      "Epoch 24/100\n",
      "4/4 [==============================] - 0s 9ms/step - loss: 0.7171 - mean_absolute_error: 0.6717 - mean_squared_error: 0.7171 - val_loss: 0.8690 - val_mean_absolute_error: 0.7844 - val_mean_squared_error: 0.8690\n",
      "Epoch 25/100\n",
      "4/4 [==============================] - 0s 9ms/step - loss: 0.6343 - mean_absolute_error: 0.6228 - mean_squared_error: 0.6343 - val_loss: 0.7989 - val_mean_absolute_error: 0.7524 - val_mean_squared_error: 0.7989\n",
      "Epoch 26/100\n",
      "4/4 [==============================] - 0s 10ms/step - loss: 0.5443 - mean_absolute_error: 0.5634 - mean_squared_error: 0.5443 - val_loss: 0.7335 - val_mean_absolute_error: 0.7168 - val_mean_squared_error: 0.7335\n",
      "Epoch 27/100\n",
      "4/4 [==============================] - 0s 9ms/step - loss: 0.4795 - mean_absolute_error: 0.5264 - mean_squared_error: 0.4795 - val_loss: 0.6736 - val_mean_absolute_error: 0.6811 - val_mean_squared_error: 0.6736\n",
      "Epoch 28/100\n",
      "4/4 [==============================] - 0s 10ms/step - loss: 0.4120 - mean_absolute_error: 0.4957 - mean_squared_error: 0.4120 - val_loss: 0.6119 - val_mean_absolute_error: 0.6425 - val_mean_squared_error: 0.6119\n",
      "Epoch 29/100\n",
      "4/4 [==============================] - 0s 11ms/step - loss: 0.3664 - mean_absolute_error: 0.4660 - mean_squared_error: 0.3664 - val_loss: 0.5698 - val_mean_absolute_error: 0.6114 - val_mean_squared_error: 0.5698\n",
      "Epoch 30/100\n",
      "4/4 [==============================] - 0s 12ms/step - loss: 0.3102 - mean_absolute_error: 0.4343 - mean_squared_error: 0.3102 - val_loss: 0.5128 - val_mean_absolute_error: 0.5737 - val_mean_squared_error: 0.5128\n",
      "Epoch 31/100\n",
      "4/4 [==============================] - 0s 11ms/step - loss: 0.2708 - mean_absolute_error: 0.4100 - mean_squared_error: 0.2708 - val_loss: 0.4739 - val_mean_absolute_error: 0.5427 - val_mean_squared_error: 0.4739\n",
      "Epoch 32/100\n",
      "4/4 [==============================] - 0s 11ms/step - loss: 0.2339 - mean_absolute_error: 0.3824 - mean_squared_error: 0.2339 - val_loss: 0.4359 - val_mean_absolute_error: 0.5128 - val_mean_squared_error: 0.4359\n",
      "Epoch 33/100\n",
      "4/4 [==============================] - 0s 11ms/step - loss: 0.2039 - mean_absolute_error: 0.3553 - mean_squared_error: 0.2039 - val_loss: 0.4126 - val_mean_absolute_error: 0.4781 - val_mean_squared_error: 0.4126\n",
      "Epoch 34/100\n",
      "4/4 [==============================] - 0s 11ms/step - loss: 0.1768 - mean_absolute_error: 0.3308 - mean_squared_error: 0.1768 - val_loss: 0.3663 - val_mean_absolute_error: 0.4576 - val_mean_squared_error: 0.3663\n",
      "Epoch 35/100\n",
      "4/4 [==============================] - 0s 11ms/step - loss: 0.1526 - mean_absolute_error: 0.3102 - mean_squared_error: 0.1526 - val_loss: 0.3468 - val_mean_absolute_error: 0.4305 - val_mean_squared_error: 0.3468\n",
      "Epoch 36/100\n",
      "4/4 [==============================] - 0s 12ms/step - loss: 0.1298 - mean_absolute_error: 0.2810 - mean_squared_error: 0.1298 - val_loss: 0.3335 - val_mean_absolute_error: 0.4023 - val_mean_squared_error: 0.3335\n",
      "Epoch 37/100\n"
     ]
    },
    {
     "name": "stdout",
     "output_type": "stream",
     "text": [
      "4/4 [==============================] - 0s 12ms/step - loss: 0.1154 - mean_absolute_error: 0.2622 - mean_squared_error: 0.1154 - val_loss: 0.3104 - val_mean_absolute_error: 0.3804 - val_mean_squared_error: 0.3104\n",
      "Epoch 38/100\n",
      "4/4 [==============================] - 0s 11ms/step - loss: 0.1011 - mean_absolute_error: 0.2474 - mean_squared_error: 0.1011 - val_loss: 0.2813 - val_mean_absolute_error: 0.3699 - val_mean_squared_error: 0.2813\n",
      "Epoch 39/100\n",
      "4/4 [==============================] - 0s 11ms/step - loss: 0.0897 - mean_absolute_error: 0.2368 - mean_squared_error: 0.0897 - val_loss: 0.2713 - val_mean_absolute_error: 0.3417 - val_mean_squared_error: 0.2713\n",
      "Epoch 40/100\n",
      "4/4 [==============================] - 0s 13ms/step - loss: 0.0780 - mean_absolute_error: 0.2147 - mean_squared_error: 0.0780 - val_loss: 0.2599 - val_mean_absolute_error: 0.3284 - val_mean_squared_error: 0.2599\n",
      "Epoch 41/100\n",
      "4/4 [==============================] - 0s 12ms/step - loss: 0.0682 - mean_absolute_error: 0.2001 - mean_squared_error: 0.0682 - val_loss: 0.2479 - val_mean_absolute_error: 0.3122 - val_mean_squared_error: 0.2479\n",
      "Epoch 42/100\n",
      "4/4 [==============================] - 0s 12ms/step - loss: 0.0617 - mean_absolute_error: 0.1877 - mean_squared_error: 0.0617 - val_loss: 0.2419 - val_mean_absolute_error: 0.3001 - val_mean_squared_error: 0.2419\n",
      "Epoch 43/100\n",
      "4/4 [==============================] - 0s 12ms/step - loss: 0.0550 - mean_absolute_error: 0.1760 - mean_squared_error: 0.0550 - val_loss: 0.2371 - val_mean_absolute_error: 0.2898 - val_mean_squared_error: 0.2371\n",
      "Epoch 44/100\n",
      "4/4 [==============================] - 0s 11ms/step - loss: 0.0507 - mean_absolute_error: 0.1698 - mean_squared_error: 0.0507 - val_loss: 0.2293 - val_mean_absolute_error: 0.2834 - val_mean_squared_error: 0.2293\n",
      "Epoch 45/100\n",
      "4/4 [==============================] - 0s 13ms/step - loss: 0.0465 - mean_absolute_error: 0.1643 - mean_squared_error: 0.0465 - val_loss: 0.2239 - val_mean_absolute_error: 0.2794 - val_mean_squared_error: 0.2239\n",
      "Epoch 46/100\n",
      "4/4 [==============================] - 0s 13ms/step - loss: 0.0436 - mean_absolute_error: 0.1587 - mean_squared_error: 0.0436 - val_loss: 0.2210 - val_mean_absolute_error: 0.2733 - val_mean_squared_error: 0.2210\n",
      "Epoch 47/100\n",
      "4/4 [==============================] - 0s 12ms/step - loss: 0.0406 - mean_absolute_error: 0.1518 - mean_squared_error: 0.0406 - val_loss: 0.2122 - val_mean_absolute_error: 0.2640 - val_mean_squared_error: 0.2122\n",
      "Epoch 48/100\n",
      "4/4 [==============================] - 0s 9ms/step - loss: 0.0384 - mean_absolute_error: 0.1471 - mean_squared_error: 0.0384 - val_loss: 0.2122 - val_mean_absolute_error: 0.2594 - val_mean_squared_error: 0.2122\n",
      "Epoch 49/100\n",
      "4/4 [==============================] - 0s 9ms/step - loss: 0.0361 - mean_absolute_error: 0.1401 - mean_squared_error: 0.0361 - val_loss: 0.2114 - val_mean_absolute_error: 0.2587 - val_mean_squared_error: 0.2114\n",
      "Epoch 50/100\n",
      "4/4 [==============================] - 0s 9ms/step - loss: 0.0341 - mean_absolute_error: 0.1388 - mean_squared_error: 0.0341 - val_loss: 0.2026 - val_mean_absolute_error: 0.2543 - val_mean_squared_error: 0.2026\n",
      "Epoch 51/100\n",
      "4/4 [==============================] - 0s 9ms/step - loss: 0.0333 - mean_absolute_error: 0.1356 - mean_squared_error: 0.0333 - val_loss: 0.2066 - val_mean_absolute_error: 0.2534 - val_mean_squared_error: 0.2066\n",
      "Epoch 52/100\n",
      "4/4 [==============================] - 0s 9ms/step - loss: 0.0315 - mean_absolute_error: 0.1317 - mean_squared_error: 0.0315 - val_loss: 0.1984 - val_mean_absolute_error: 0.2462 - val_mean_squared_error: 0.1984\n",
      "Epoch 53/100\n",
      "4/4 [==============================] - 0s 9ms/step - loss: 0.0300 - mean_absolute_error: 0.1292 - mean_squared_error: 0.0300 - val_loss: 0.1972 - val_mean_absolute_error: 0.2451 - val_mean_squared_error: 0.1972\n",
      "Epoch 54/100\n",
      "4/4 [==============================] - 0s 9ms/step - loss: 0.0304 - mean_absolute_error: 0.1283 - mean_squared_error: 0.0304 - val_loss: 0.1980 - val_mean_absolute_error: 0.2487 - val_mean_squared_error: 0.1980\n",
      "Epoch 55/100\n",
      "4/4 [==============================] - 0s 9ms/step - loss: 0.0284 - mean_absolute_error: 0.1255 - mean_squared_error: 0.0284 - val_loss: 0.1889 - val_mean_absolute_error: 0.2414 - val_mean_squared_error: 0.1889\n",
      "Epoch 56/100\n",
      "4/4 [==============================] - 0s 9ms/step - loss: 0.0277 - mean_absolute_error: 0.1240 - mean_squared_error: 0.0277 - val_loss: 0.1926 - val_mean_absolute_error: 0.2375 - val_mean_squared_error: 0.1926\n",
      "Epoch 57/100\n",
      "4/4 [==============================] - 0s 9ms/step - loss: 0.0267 - mean_absolute_error: 0.1183 - mean_squared_error: 0.0267 - val_loss: 0.1928 - val_mean_absolute_error: 0.2393 - val_mean_squared_error: 0.1928\n",
      "Epoch 58/100\n",
      "4/4 [==============================] - 0s 9ms/step - loss: 0.0266 - mean_absolute_error: 0.1214 - mean_squared_error: 0.0266 - val_loss: 0.1815 - val_mean_absolute_error: 0.2328 - val_mean_squared_error: 0.1815\n",
      "Epoch 59/100\n",
      "4/4 [==============================] - 0s 9ms/step - loss: 0.0245 - mean_absolute_error: 0.1146 - mean_squared_error: 0.0245 - val_loss: 0.1876 - val_mean_absolute_error: 0.2412 - val_mean_squared_error: 0.1876\n",
      "Epoch 60/100\n",
      "4/4 [==============================] - 0s 10ms/step - loss: 0.0247 - mean_absolute_error: 0.1146 - mean_squared_error: 0.0247 - val_loss: 0.1840 - val_mean_absolute_error: 0.2332 - val_mean_squared_error: 0.1840\n",
      "Epoch 61/100\n",
      "4/4 [==============================] - 0s 9ms/step - loss: 0.0235 - mean_absolute_error: 0.1106 - mean_squared_error: 0.0235 - val_loss: 0.1788 - val_mean_absolute_error: 0.2274 - val_mean_squared_error: 0.1788\n",
      "Epoch 62/100\n",
      "4/4 [==============================] - 0s 9ms/step - loss: 0.0227 - mean_absolute_error: 0.1106 - mean_squared_error: 0.0227 - val_loss: 0.1848 - val_mean_absolute_error: 0.2322 - val_mean_squared_error: 0.1848\n",
      "Epoch 63/100\n",
      "4/4 [==============================] - 0s 9ms/step - loss: 0.0232 - mean_absolute_error: 0.1109 - mean_squared_error: 0.0232 - val_loss: 0.1775 - val_mean_absolute_error: 0.2265 - val_mean_squared_error: 0.1775\n",
      "Epoch 64/100\n",
      "4/4 [==============================] - 0s 9ms/step - loss: 0.0218 - mean_absolute_error: 0.1077 - mean_squared_error: 0.0218 - val_loss: 0.1723 - val_mean_absolute_error: 0.2255 - val_mean_squared_error: 0.1723\n",
      "Epoch 65/100\n",
      "4/4 [==============================] - 0s 9ms/step - loss: 0.0206 - mean_absolute_error: 0.1051 - mean_squared_error: 0.0206 - val_loss: 0.1808 - val_mean_absolute_error: 0.2298 - val_mean_squared_error: 0.1808\n",
      "Epoch 66/100\n",
      "4/4 [==============================] - 0s 9ms/step - loss: 0.0221 - mean_absolute_error: 0.1065 - mean_squared_error: 0.0221 - val_loss: 0.1746 - val_mean_absolute_error: 0.2226 - val_mean_squared_error: 0.1746\n",
      "Epoch 67/100\n",
      "4/4 [==============================] - 0s 9ms/step - loss: 0.0207 - mean_absolute_error: 0.1058 - mean_squared_error: 0.0207 - val_loss: 0.1692 - val_mean_absolute_error: 0.2196 - val_mean_squared_error: 0.1692\n",
      "Epoch 68/100\n",
      "4/4 [==============================] - 0s 9ms/step - loss: 0.0193 - mean_absolute_error: 0.1008 - mean_squared_error: 0.0193 - val_loss: 0.1772 - val_mean_absolute_error: 0.2275 - val_mean_squared_error: 0.1772\n",
      "Epoch 69/100\n",
      "4/4 [==============================] - 0s 9ms/step - loss: 0.0207 - mean_absolute_error: 0.1026 - mean_squared_error: 0.0207 - val_loss: 0.1669 - val_mean_absolute_error: 0.2161 - val_mean_squared_error: 0.1669\n",
      "Epoch 70/100\n",
      "4/4 [==============================] - 0s 9ms/step - loss: 0.0195 - mean_absolute_error: 0.0995 - mean_squared_error: 0.0195 - val_loss: 0.1688 - val_mean_absolute_error: 0.2169 - val_mean_squared_error: 0.1688\n",
      "Epoch 71/100\n",
      "4/4 [==============================] - 0s 9ms/step - loss: 0.0184 - mean_absolute_error: 0.0950 - mean_squared_error: 0.0184 - val_loss: 0.1662 - val_mean_absolute_error: 0.2148 - val_mean_squared_error: 0.1662\n",
      "Epoch 72/100\n",
      "4/4 [==============================] - 0s 9ms/step - loss: 0.0177 - mean_absolute_error: 0.0933 - mean_squared_error: 0.0177 - val_loss: 0.1657 - val_mean_absolute_error: 0.2127 - val_mean_squared_error: 0.1657\n",
      "Epoch 73/100\n"
     ]
    },
    {
     "name": "stdout",
     "output_type": "stream",
     "text": [
      "4/4 [==============================] - 0s 9ms/step - loss: 0.0175 - mean_absolute_error: 0.0935 - mean_squared_error: 0.0175 - val_loss: 0.1645 - val_mean_absolute_error: 0.2142 - val_mean_squared_error: 0.1645\n",
      "Epoch 74/100\n",
      "4/4 [==============================] - 0s 9ms/step - loss: 0.0171 - mean_absolute_error: 0.0932 - mean_squared_error: 0.0171 - val_loss: 0.1634 - val_mean_absolute_error: 0.2133 - val_mean_squared_error: 0.1634\n",
      "Epoch 75/100\n",
      "4/4 [==============================] - 0s 9ms/step - loss: 0.0165 - mean_absolute_error: 0.0908 - mean_squared_error: 0.0165 - val_loss: 0.1602 - val_mean_absolute_error: 0.2105 - val_mean_squared_error: 0.1602\n",
      "Epoch 76/100\n",
      "4/4 [==============================] - 0s 9ms/step - loss: 0.0165 - mean_absolute_error: 0.0897 - mean_squared_error: 0.0165 - val_loss: 0.1604 - val_mean_absolute_error: 0.2085 - val_mean_squared_error: 0.1604\n",
      "Epoch 77/100\n",
      "4/4 [==============================] - 0s 9ms/step - loss: 0.0165 - mean_absolute_error: 0.0901 - mean_squared_error: 0.0165 - val_loss: 0.1599 - val_mean_absolute_error: 0.2102 - val_mean_squared_error: 0.1599\n",
      "Epoch 78/100\n",
      "4/4 [==============================] - 0s 9ms/step - loss: 0.0157 - mean_absolute_error: 0.0888 - mean_squared_error: 0.0157 - val_loss: 0.1550 - val_mean_absolute_error: 0.2061 - val_mean_squared_error: 0.1550\n",
      "Epoch 79/100\n",
      "4/4 [==============================] - 0s 9ms/step - loss: 0.0165 - mean_absolute_error: 0.0888 - mean_squared_error: 0.0165 - val_loss: 0.1573 - val_mean_absolute_error: 0.2074 - val_mean_squared_error: 0.1573\n",
      "Epoch 80/100\n",
      "4/4 [==============================] - 0s 10ms/step - loss: 0.0158 - mean_absolute_error: 0.0889 - mean_squared_error: 0.0158 - val_loss: 0.1543 - val_mean_absolute_error: 0.2074 - val_mean_squared_error: 0.1543\n",
      "Epoch 81/100\n",
      "4/4 [==============================] - 0s 10ms/step - loss: 0.0163 - mean_absolute_error: 0.0918 - mean_squared_error: 0.0163 - val_loss: 0.1486 - val_mean_absolute_error: 0.2038 - val_mean_squared_error: 0.1486\n",
      "Epoch 82/100\n",
      "4/4 [==============================] - 0s 9ms/step - loss: 0.0148 - mean_absolute_error: 0.0849 - mean_squared_error: 0.0148 - val_loss: 0.1547 - val_mean_absolute_error: 0.2096 - val_mean_squared_error: 0.1547\n",
      "Epoch 83/100\n",
      "4/4 [==============================] - 0s 9ms/step - loss: 0.0145 - mean_absolute_error: 0.0828 - mean_squared_error: 0.0145 - val_loss: 0.1456 - val_mean_absolute_error: 0.2007 - val_mean_squared_error: 0.1456\n",
      "Epoch 84/100\n",
      "4/4 [==============================] - 0s 9ms/step - loss: 0.0142 - mean_absolute_error: 0.0823 - mean_squared_error: 0.0142 - val_loss: 0.1491 - val_mean_absolute_error: 0.2016 - val_mean_squared_error: 0.1491\n",
      "Epoch 85/100\n",
      "4/4 [==============================] - 0s 9ms/step - loss: 0.0134 - mean_absolute_error: 0.0805 - mean_squared_error: 0.0134 - val_loss: 0.1486 - val_mean_absolute_error: 0.2034 - val_mean_squared_error: 0.1486\n",
      "Epoch 86/100\n",
      "4/4 [==============================] - 0s 9ms/step - loss: 0.0129 - mean_absolute_error: 0.0777 - mean_squared_error: 0.0129 - val_loss: 0.1487 - val_mean_absolute_error: 0.2015 - val_mean_squared_error: 0.1487\n",
      "Epoch 87/100\n",
      "4/4 [==============================] - 0s 9ms/step - loss: 0.0143 - mean_absolute_error: 0.0794 - mean_squared_error: 0.0143 - val_loss: 0.1463 - val_mean_absolute_error: 0.1966 - val_mean_squared_error: 0.1463\n",
      "Epoch 88/100\n",
      "4/4 [==============================] - 0s 9ms/step - loss: 0.0127 - mean_absolute_error: 0.0737 - mean_squared_error: 0.0127 - val_loss: 0.1440 - val_mean_absolute_error: 0.1918 - val_mean_squared_error: 0.1440\n",
      "Epoch 89/100\n",
      "4/4 [==============================] - 0s 9ms/step - loss: 0.0136 - mean_absolute_error: 0.0774 - mean_squared_error: 0.0136 - val_loss: 0.1482 - val_mean_absolute_error: 0.2037 - val_mean_squared_error: 0.1482\n",
      "Epoch 90/100\n",
      "4/4 [==============================] - 0s 9ms/step - loss: 0.0129 - mean_absolute_error: 0.0764 - mean_squared_error: 0.0129 - val_loss: 0.1406 - val_mean_absolute_error: 0.1905 - val_mean_squared_error: 0.1406\n",
      "Epoch 91/100\n",
      "4/4 [==============================] - 0s 10ms/step - loss: 0.0121 - mean_absolute_error: 0.0729 - mean_squared_error: 0.0121 - val_loss: 0.1453 - val_mean_absolute_error: 0.2032 - val_mean_squared_error: 0.1453\n",
      "Epoch 92/100\n",
      "4/4 [==============================] - 0s 9ms/step - loss: 0.0119 - mean_absolute_error: 0.0720 - mean_squared_error: 0.0119 - val_loss: 0.1398 - val_mean_absolute_error: 0.1897 - val_mean_squared_error: 0.1398\n",
      "Epoch 93/100\n",
      "4/4 [==============================] - 0s 9ms/step - loss: 0.0123 - mean_absolute_error: 0.0722 - mean_squared_error: 0.0123 - val_loss: 0.1394 - val_mean_absolute_error: 0.1909 - val_mean_squared_error: 0.1394\n",
      "Epoch 94/100\n",
      "4/4 [==============================] - 0s 9ms/step - loss: 0.0115 - mean_absolute_error: 0.0715 - mean_squared_error: 0.0115 - val_loss: 0.1389 - val_mean_absolute_error: 0.1891 - val_mean_squared_error: 0.1389\n",
      "Epoch 95/100\n",
      "4/4 [==============================] - 0s 9ms/step - loss: 0.0112 - mean_absolute_error: 0.0695 - mean_squared_error: 0.0112 - val_loss: 0.1402 - val_mean_absolute_error: 0.1942 - val_mean_squared_error: 0.1402\n",
      "Epoch 96/100\n",
      "4/4 [==============================] - 0s 10ms/step - loss: 0.0116 - mean_absolute_error: 0.0710 - mean_squared_error: 0.0116 - val_loss: 0.1370 - val_mean_absolute_error: 0.1900 - val_mean_squared_error: 0.1370\n",
      "Epoch 97/100\n",
      "4/4 [==============================] - 0s 9ms/step - loss: 0.0121 - mean_absolute_error: 0.0715 - mean_squared_error: 0.0121 - val_loss: 0.1367 - val_mean_absolute_error: 0.1891 - val_mean_squared_error: 0.1367\n",
      "Epoch 98/100\n",
      "4/4 [==============================] - 0s 9ms/step - loss: 0.0110 - mean_absolute_error: 0.0707 - mean_squared_error: 0.0110 - val_loss: 0.1388 - val_mean_absolute_error: 0.1979 - val_mean_squared_error: 0.1388\n",
      "Epoch 99/100\n",
      "4/4 [==============================] - 0s 9ms/step - loss: 0.0118 - mean_absolute_error: 0.0707 - mean_squared_error: 0.0118 - val_loss: 0.1323 - val_mean_absolute_error: 0.1846 - val_mean_squared_error: 0.1323\n",
      "Epoch 100/100\n",
      "4/4 [==============================] - 0s 9ms/step - loss: 0.0109 - mean_absolute_error: 0.0691 - mean_squared_error: 0.0109 - val_loss: 0.1375 - val_mean_absolute_error: 0.1969 - val_mean_squared_error: 0.1375\n"
     ]
    }
   ],
   "source": [
    "model_history = model.fit(\n",
    "    X_train_scaled,\n",
    "    y_train,\n",
    "    epochs=EPOCHS,\n",
    "    validation_data=(X_test_scaled, y_test)\n",
    ")"
   ]
  },
  {
   "cell_type": "code",
   "execution_count": 50,
   "metadata": {},
   "outputs": [],
   "source": [
    "predicted = model.predict(X_val_scaled)"
   ]
  },
  {
   "cell_type": "code",
   "execution_count": 51,
   "metadata": {},
   "outputs": [],
   "source": [
    "actual = y_val"
   ]
  },
  {
   "cell_type": "code",
   "execution_count": 53,
   "metadata": {},
   "outputs": [
    {
     "data": {
      "text/plain": [
       "array([[ 8.588854 ],\n",
       "       [ 9.9565935],\n",
       "       [ 9.220319 ],\n",
       "       [ 9.486235 ],\n",
       "       [ 9.915692 ],\n",
       "       [10.059856 ],\n",
       "       [ 8.851427 ]], dtype=float32)"
      ]
     },
     "execution_count": 53,
     "metadata": {},
     "output_type": "execute_result"
    }
   ],
   "source": [
    "predicted"
   ]
  },
  {
   "cell_type": "code",
   "execution_count": null,
   "metadata": {},
   "outputs": [],
   "source": [
    "y_test[0][0]"
   ]
  },
  {
   "cell_type": "code",
   "execution_count": 56,
   "metadata": {},
   "outputs": [
    {
     "data": {
      "text/plain": [
       "(388019754.05928975, 466090651.80000067)"
      ]
     },
     "execution_count": 56,
     "metadata": {},
     "output_type": "execute_result"
    }
   ],
   "source": [
    "10**predicted[0][0], 10**y_val[0][0]"
   ]
  },
  {
   "cell_type": "code",
   "execution_count": 58,
   "metadata": {},
   "outputs": [],
   "source": [
    "TP = tf.math.count_nonzero(predicted * actual)\n",
    "TN = tf.math.count_nonzero((predicted - 1) * (actual - 1))\n",
    "FP = tf.math.count_nonzero(predicted * (actual - 1))\n",
    "FN = tf.math.count_nonzero((predicted - 1) * actual)"
   ]
  },
  {
   "cell_type": "code",
   "execution_count": 64,
   "metadata": {},
   "outputs": [],
   "source": [
    "TP = (predicted * actual)\n",
    "TN =((predicted - 1) * (actual - 1))\n",
    "FP = (predicted * (actual - 1))\n",
    "FN = ((predicted - 1) * actual)"
   ]
  },
  {
   "cell_type": "code",
   "execution_count": 65,
   "metadata": {},
   "outputs": [],
   "source": [
    "precision = TP / (TP + FP)\n",
    "recall = TP / (TP + FN)\n",
    "f1 = 2 * precision * recall / (precision + recall)"
   ]
  },
  {
   "cell_type": "code",
   "execution_count": 71,
   "metadata": {},
   "outputs": [],
   "source": [
    "import matplotlib.pyplot as plt"
   ]
  },
  {
   "cell_type": "code",
   "execution_count": 74,
   "metadata": {},
   "outputs": [
    {
     "data": {
      "text/plain": [
       "<matplotlib.collections.PathCollection at 0x21955556460>"
      ]
     },
     "execution_count": 74,
     "metadata": {},
     "output_type": "execute_result"
    },
    {
     "data": {
      "image/png": "[encoded data removed]",
      "text/plain": [
       "<Figure size 432x288 with 1 Axes>"
      ]
     },
     "metadata": {
      "needs_background": "light"
     },
     "output_type": "display_data"
    }
   ],
   "source": [
    "plt.scatter(predicted,actual)"
   ]
  },
  {
   "cell_type": "code",
   "execution_count": 75,
   "metadata": {},
   "outputs": [],
   "source": [
    "dataset_norm = X_scaler.transform(arr)"
   ]
  },
  {
   "cell_type": "code",
   "execution_count": 77,
   "metadata": {},
   "outputs": [],
   "source": [
    "pred = model.predict(dataset_norm)"
   ]
  },
  {
   "cell_type": "code",
   "execution_count": 78,
   "metadata": {},
   "outputs": [],
   "source": [
    "act = arr2"
   ]
  },
  {
   "cell_type": "code",
   "execution_count": 79,
   "metadata": {},
   "outputs": [
    {
     "data": {
      "text/plain": [
       "<matplotlib.collections.PathCollection at 0x21955818dc0>"
      ]
     },
     "execution_count": 79,
     "metadata": {},
     "output_type": "execute_result"
    },
    {
     "data": {
      "image/png": "[encoded data removed]",
      "text/plain": [
       "<Figure size 432x288 with 1 Axes>"
      ]
     },
     "metadata": {
      "needs_background": "light"
     },
     "output_type": "display_data"
    }
   ],
   "source": [
    "plt.scatter(pred, act)"
   ]
  },
  {
   "cell_type": "code",
   "execution_count": null,
   "metadata": {},
   "outputs": [],
   "source": []
  }
 ],
 "metadata": {
  "kernelspec": {
   "display_name": "Python 3",
   "language": "python",
   "name": "python3"
  },
  "language_info": {
   "codemirror_mode": {
    "name": "ipython",
    "version": 3
   },
   "file_extension": ".py",
   "mimetype": "text/x-python",
   "name": "python",
   "nbconvert_exporter": "python",
   "pygments_lexer": "ipython3",
   "version": "3.8.5"
  }
 },
 "nbformat": 4,
 "nbformat_minor": 5
}
