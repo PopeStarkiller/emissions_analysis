{
 "cells": [
  {
   "cell_type": "code",
   "execution_count": 1,
   "id": "b29a811e",
   "metadata": {},
   "outputs": [],
   "source": [
    "import os\n",
    "spark_version = 'spark-3.1.2'\n",
    "os.environ['SPARK_VERSION']=spark_version\n",
    "os.environ[\"JAVA_HOME\"] = \"C:\\Program Files\\Java\\jdk-11.0.11\"\n",
    "os.environ[\"SPARK_HOME\"] = f\"C:\\spark\\spark-3.1.2-bin-hadoop3.2\"\n",
    "import findspark\n",
    "import pyspark\n",
    "from pyspark.sql import SparkSession\n",
    "findspark.init()\n",
    "spark = SparkSession.builder.appName(\"emissionsdataframe\").getOrCreate()\n",
    "from sqlalchemy import create_engine, insert\n",
    "from sqlalchemy.ext.declarative import declarative_base\n",
    "from sqlalchemy import MetaData, update, Table\n",
    "from sqlalchemy.orm import Session\n",
    "from sqlalchemy.orm import sessionmaker\n",
    "from sqlalchemy.exc import SQLAlchemyError\n",
    "import pandas as pd\n",
    "import config\n",
    "from pyspark.sql.types import IntegerType,BooleanType,DateType\n",
    "from pyspark.sql.functions import col\n",
    "from pyspark.sql import Row\n"
   ]
  },
  {
   "cell_type": "code",
   "execution_count": 2,
   "id": "a9375fb4",
   "metadata": {},
   "outputs": [],
   "source": [
    "rds_string = config.rds_string\n",
    "engine = create_engine(f'postgresql://{rds_string}')\n",
    "conn = engine.connect()\n",
    "metadata = MetaData(engine)"
   ]
  },
  {
   "cell_type": "code",
   "execution_count": 3,
   "id": "0d1ff101",
   "metadata": {},
   "outputs": [],
   "source": [
    "def sql_to_spark(table):\n",
    "    from pyspark.sql import Row\n",
    "    from sqlalchemy.orm import Session, sessionmaker\n",
    "    from sqlalchemy import MetaData, Table\n",
    "    metadata = MetaData(engine)\n",
    "    table_var = Table(table, metadata, autoload=True, autoload_with=engine)\n",
    "    Session = sessionmaker()\n",
    "    Session.configure(bind=engine)\n",
    "    session = Session()\n",
    "    query = session.query(table_var).all()\n",
    "    steve = table_var.metadata.tables[table].columns.keys()\n",
    "    query_list = []\n",
    "    for i in query:\n",
    "        q_len = len(i)\n",
    "        temp_dict = {}\n",
    "        for j in range(q_len):\n",
    "            key = steve[j]\n",
    "            value = i[j]\n",
    "            if value == None:\n",
    "                value = float(0)\n",
    "            temp_dict[key] = value\n",
    "            if j == (q_len - 1):\n",
    "                query_list.append(temp_dict)\n",
    "    df = spark.createDataFrame(Row(**x) for x in query_list)\n",
    "    return df\n",
    "\n",
    "def query_maker(table):\n",
    "    from sqlalchemy.orm import Session, sessionmaker\n",
    "    from sqlalchemy import MetaData, Table\n",
    "    metadata = MetaData(engine)\n",
    "    table_var = Table(table, metadata, autoload=True, autoload_with=engine)\n",
    "    Session = sessionmaker()\n",
    "    Session.configure(bind=engine)\n",
    "    session = Session()\n",
    "    query = session.query(table_var).all()\n",
    "    steve = table_var.metadata.tables[table].columns.keys()\n",
    "    return (query, steve)\n",
    "\n",
    "def spark_maker(query,country):\n",
    "    c_list = []\n",
    "    for i in query:\n",
    "        q_len = len(i)\n",
    "        if i[0] == country:\n",
    "            temp_dict = {}\n",
    "            for j in range(q_len):\n",
    "                key = steve[j]\n",
    "                value = i[j]\n",
    "                if value == None:\n",
    "                    value = float(0)\n",
    "                temp_dict[key] = value\n",
    "                if j == (q_len - 1):\n",
    "                    c_list.append(temp_dict)\n",
    "    df = spark.createDataFrame(Row(**x) for x in c_list) \n",
    "    return df"
   ]
  },
  {
   "cell_type": "code",
   "execution_count": null,
   "id": "87d3cff1",
   "metadata": {},
   "outputs": [],
   "source": [
    "# metadata = MetaData(engine)\n",
    "\n",
    "# global_trade = Table(\"global_trade\", metadata, autoload=True, autoload_with=engine)\n",
    "# Session = sessionmaker()\n",
    "# Session.configure(bind=engine)\n",
    "# session = Session()\n",
    "# query = session.query(global_trade).all()"
   ]
  },
  {
   "cell_type": "code",
   "execution_count": null,
   "id": "1efe338c",
   "metadata": {},
   "outputs": [],
   "source": [
    "sparkDF.filter(sparkDF[\"Country \"] == \"Afghanistan\").select(['Country ']).show()"
   ]
  },
  {
   "cell_type": "code",
   "execution_count": null,
   "id": "bad75152",
   "metadata": {},
   "outputs": [],
   "source": [
    "sparkDF.select(['Country ']).show()"
   ]
  },
  {
   "cell_type": "code",
   "execution_count": 4,
   "id": "04c2b73a",
   "metadata": {},
   "outputs": [],
   "source": [
    "spark_gdp=sql_to_spark('gdp_data')"
   ]
  },
  {
   "cell_type": "code",
   "execution_count": 5,
   "id": "36045d98",
   "metadata": {},
   "outputs": [],
   "source": [
    "spark_india=sql_to_spark(\"india_export_data\")"
   ]
  },
  {
   "cell_type": "code",
   "execution_count": 6,
   "id": "bc065fde",
   "metadata": {},
   "outputs": [],
   "source": [
    "spark_emissions=sql_to_spark('global_emissions')"
   ]
  },
  {
   "cell_type": "code",
   "execution_count": 36,
   "id": "478d3d84",
   "metadata": {},
   "outputs": [],
   "source": [
    "germany_spark = spark_maker(query, \"Germany\")"
   ]
  },
  {
   "cell_type": "code",
   "execution_count": 60,
   "id": "7e0a373d",
   "metadata": {},
   "outputs": [],
   "source": []
  },
  {
   "cell_type": "code",
   "execution_count": 61,
   "id": "7a76a893",
   "metadata": {},
   "outputs": [],
   "source": [
    "new_germany_spark = germany_spark.withColumn(\"year\",germany_spark.year.cast('int'))"
   ]
  },
  {
   "cell_type": "code",
   "execution_count": 63,
   "id": "3db2299a",
   "metadata": {},
   "outputs": [
    {
     "name": "stdout",
     "output_type": "stream",
     "text": [
      "root\n",
      " |-- country_or_area: string (nullable = true)\n",
      " |-- year: integer (nullable = true)\n",
      " |-- comm_code: string (nullable = true)\n",
      " |-- commodity: string (nullable = true)\n",
      " |-- flow: string (nullable = true)\n",
      " |-- trade_usd: long (nullable = true)\n",
      " |-- weight_kg: double (nullable = true)\n",
      " |-- quantity_name: string (nullable = true)\n",
      " |-- quantity: double (nullable = true)\n",
      " |-- category: string (nullable = true)\n",
      "\n"
     ]
    }
   ],
   "source": [
    "new_germany_spark.printSchema()"
   ]
  },
  {
   "cell_type": "code",
   "execution_count": null,
   "id": "640c8d89",
   "metadata": {},
   "outputs": [],
   "source": [
    "df.orderBy(desc(\"age\"), \"name\").collect()"
   ]
  },
  {
   "cell_type": "code",
   "execution_count": 69,
   "id": "3a4b1178",
   "metadata": {},
   "outputs": [
    {
     "name": "stdout",
     "output_type": "stream",
     "text": [
      "+---------------+----+---------+----------+------+---------+-------------+-------------------+-------------+--------------------+\n",
      "|country_or_area|year|comm_code| commodity|  flow|trade_usd|    weight_kg|      quantity_name|     quantity|            category|\n",
      "+---------------+----+---------+----------+------+---------+-------------+-------------------+-------------+--------------------+\n",
      "|        Germany|1991|   120100|Soya beans|Import|695756992|2.878631168E9|Weight in kilograms|2.878631168E9|12_oil_seed_oleag...|\n",
      "+---------------+----+---------+----------+------+---------+-------------+-------------------+-------------+--------------------+\n",
      "only showing top 1 row\n",
      "\n"
     ]
    }
   ],
   "source": [
    "new_germany_spark.orderBy(new_germany_spark.year.asc()).show(1)"
   ]
  },
  {
   "cell_type": "code",
   "execution_count": null,
   "id": "41a1b8e5",
   "metadata": {},
   "outputs": [],
   "source": []
  }
 ],
 "metadata": {
  "kernelspec": {
   "display_name": "Python 3 (ipykernel)",
   "language": "python",
   "name": "python3"
  },
  "language_info": {
   "codemirror_mode": {
    "name": "ipython",
    "version": 3
   },
   "file_extension": ".py",
   "mimetype": "text/x-python",
   "name": "python",
   "nbconvert_exporter": "python",
   "pygments_lexer": "ipython3",
   "version": "3.9.7"
  }
 },
 "nbformat": 4,
 "nbformat_minor": 5
}
