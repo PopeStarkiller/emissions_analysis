{
 "cells": [
  {
   "cell_type": "code",
   "execution_count": 1,
   "metadata": {},
   "outputs": [],
   "source": [
    "import os\n",
    "import config\n",
    "v1, v2, v3 = config.spark_env(\"msi\")\n",
    "os.environ['SPARK_VERSION'] = v1\n",
    "os.environ['JAVA_HOME'] = v2\n",
    "os.environ['SPARK_HOME'] = v3\n",
    "import findspark\n",
    "import pyspark\n",
    "from pyspark.sql import SparkSession\n",
    "findspark.init()\n",
    "spark = SparkSession.builder.appName(\"emissionsdataframe\").getOrCreate()\n",
    "from sqlalchemy import create_engine, insert\n",
    "from sqlalchemy.ext.declarative import declarative_base\n",
    "from sqlalchemy import MetaData, update, Table\n",
    "from sqlalchemy.orm import Session\n",
    "from sqlalchemy.orm import sessionmaker\n",
    "from sqlalchemy.exc import SQLAlchemyError\n",
    "import pandas as pd\n",
    "from pyspark.sql.types import IntegerType,BooleanType,DateType\n",
    "from pyspark.sql.functions import col\n",
    "from pyspark.sql import Row\n",
    "from pyspark.sql.functions import array, col, explode, lit, struct\n",
    "from pyspark.sql import DataFrame\n",
    "from typing import Iterable\n",
    "import numpy as np\n",
    "rds_string = config.rds_string\n",
    "engine = create_engine(f'postgresql://{rds_string}')\n",
    "conn = engine.connect()\n",
    "metadata = MetaData(engine)\n",
    "import spark_functions"
   ]
  },
  {
   "cell_type": "code",
   "execution_count": 2,
   "metadata": {},
   "outputs": [],
   "source": [
    "india_spark = spark_functions.merged_df(\"India\")"
   ]
  },
  {
   "cell_type": "code",
   "execution_count": 3,
   "metadata": {},
   "outputs": [],
   "source": [
    "china_spark = spark_functions.merged_df(\"China\")"
   ]
  },
  {
   "cell_type": "code",
   "execution_count": 4,
   "metadata": {},
   "outputs": [],
   "source": [
    "germany_spark = spark_functions.merged_df(\"Germany\")"
   ]
  },
  {
   "cell_type": "code",
   "execution_count": 5,
   "metadata": {},
   "outputs": [],
   "source": [
    "france_spark = spark_functions.merged_df(\"France\")"
   ]
  },
  {
   "cell_type": "code",
   "execution_count": 6,
   "metadata": {},
   "outputs": [],
   "source": [
    "mexico_spark = spark_functions.merged_df(\"Mexico\")"
   ]
  },
  {
   "cell_type": "code",
   "execution_count": 7,
   "metadata": {},
   "outputs": [],
   "source": [
    "us_gdp = spark_functions.sql_to_spark_gdp(\"United States\")"
   ]
  },
  {
   "cell_type": "code",
   "execution_count": 8,
   "metadata": {},
   "outputs": [],
   "source": [
    "us_emissions = spark_functions.sql_to_spark_emissions(\"United States\")"
   ]
  },
  {
   "cell_type": "code",
   "execution_count": 9,
   "metadata": {},
   "outputs": [],
   "source": [
    "us_export, us_import = spark_functions.sql_to_spark_trade(\"USA\")"
   ]
  },
  {
   "cell_type": "code",
   "execution_count": 10,
   "metadata": {},
   "outputs": [],
   "source": [
    "us_spark = spark_functions.merge_sparks(us_import,us_export,us_gdp,us_emissions)"
   ]
  },
  {
   "cell_type": "code",
   "execution_count": 12,
   "metadata": {},
   "outputs": [
    {
     "data": {
      "text/plain": [
       "['country',\n",
       " 'year',\n",
       " 'gdp',\n",
       " 'annual_co2_emissions_tonnes',\n",
       " 'import_trade_sum_usd',\n",
       " 'import_weight_sum_kg',\n",
       " 'import_quantity_sum',\n",
       " 'export_trade_sum_usd',\n",
       " 'export_weight_sum_kg',\n",
       " 'export_quantity_sum']"
      ]
     },
     "execution_count": 12,
     "metadata": {},
     "output_type": "execute_result"
    }
   ],
   "source": [
    "us_spark.columns"
   ]
  },
  {
   "cell_type": "code",
   "execution_count": 18,
   "metadata": {},
   "outputs": [],
   "source": [
    "arr = np.array(us_spark.select(\n",
    " 'gdp',\n",
    " 'import_trade_sum_usd',\n",
    " 'import_weight_sum_kg',\n",
    " 'import_quantity_sum',\n",
    " 'export_trade_sum_usd',\n",
    " 'export_weight_sum_kg',\n",
    " 'export_quantity_sum') \\\n",
    ".collect())"
   ]
  },
  {
   "cell_type": "code",
   "execution_count": 17,
   "metadata": {},
   "outputs": [],
   "source": [
    "arr2 = np.array(us_spark.select('annual_co2_emissions_tonnes').collect())"
   ]
  },
  {
   "cell_type": "code",
   "execution_count": 19,
   "metadata": {},
   "outputs": [
    {
     "data": {
      "text/plain": [
       "array([[2.43422589e+04, 5.53057798e+11, 4.28189156e+10, 5.05684280e+10,\n",
       "        5.07650351e+11, 1.02364560e+11, 3.90458765e+11],\n",
       "       [2.54189908e+04, 6.01355275e+11, 4.30612905e+10, 5.44852566e+10,\n",
       "        5.38062351e+11, 1.28601941e+11, 3.60206509e+11],\n",
       "       [2.63872937e+04, 6.52373937e+11, 4.81886924e+10, 7.31106729e+10,\n",
       "        5.48398969e+11, 1.24705618e+11, 3.27010898e+11],\n",
       "       [2.76948534e+04, 7.42750614e+11, 5.22685068e+10, 5.81304052e+10,\n",
       "        5.98400239e+11, 1.15502837e+11, 3.55381908e+11],\n",
       "       [2.86908757e+04, 8.30259504e+11, 5.24553446e+10, 5.85399640e+10,\n",
       "        6.73915108e+11, 1.48562056e+11, 3.90540632e+11],\n",
       "       [2.99677127e+04, 8.82586203e+11, 5.46499525e+10, 6.71688652e+10,\n",
       "        7.23150044e+11, 1.33943029e+11, 4.01946693e+11],\n",
       "       [3.14591390e+04, 9.70520718e+11, 5.83567132e+10, 6.83003622e+10,\n",
       "        7.94208859e+11, 1.20356314e+11, 3.59007136e+11],\n",
       "       [3.28536770e+04, 1.02755704e+12, 5.65830103e+10, 6.94122253e+10,\n",
       "        7.97497195e+11, 1.21099902e+11, 3.35415845e+11],\n",
       "       [3.45135615e+04, 1.15434305e+12, 5.27989943e+10, 7.26437618e+10,\n",
       "        8.05406536e+11, 1.32210177e+11, 3.05092425e+11],\n",
       "       [3.63349088e+04, 1.36436766e+12, 1.10432167e+11, 1.11073722e+11,\n",
       "        8.91362625e+11, 1.32439105e+11, 1.31967467e+11],\n",
       "       [3.71332428e+04, 1.28794745e+12, 6.94615522e+11, 6.95027461e+11,\n",
       "        8.47081711e+11, 1.30282627e+11, 1.29358228e+11],\n",
       "       [3.80231611e+04, 1.30738572e+12, 7.17950409e+10, 7.25815575e+10,\n",
       "        8.02884505e+11, 1.27422759e+11, 1.26798825e+11],\n",
       "       [3.94964859e+04, 1.40949818e+12, 5.39819335e+10, 5.50558823e+10,\n",
       "        8.31619209e+11, 1.28457046e+11, 1.27748449e+11],\n",
       "       [4.17128011e+04, 1.63722110e+12, 5.11848276e+10, 5.25300857e+10,\n",
       "        9.36461585e+11, 1.39146814e+11, 1.38672639e+11],\n",
       "       [4.41147478e+04, 1.85277912e+12, 5.60248323e+10, 5.72129108e+10,\n",
       "        1.03662804e+12, 1.39328335e+11, 1.38717849e+11],\n",
       "       [4.62987314e+04, 2.05108352e+12, 5.62800282e+10, 5.72174016e+10,\n",
       "        1.19844600e+12, 1.46599528e+11, 1.45854728e+11],\n",
       "       [4.79759677e+04, 2.16378308e+12, 5.42455068e+10, 5.52845820e+10,\n",
       "        1.35330819e+12, 1.60927840e+11, 1.60620152e+11],\n",
       "       [4.83825584e+04, 2.31513047e+12, 5.73178502e+10, 5.83756060e+10,\n",
       "        1.50092031e+12, 1.63018546e+11, 1.62770729e+11],\n",
       "       [4.70999805e+04, 1.72735986e+12, 4.11282782e+10, 4.22756734e+10,\n",
       "        1.24024457e+12, 1.36152194e+11, 1.36050959e+11],\n",
       "       [4.84668234e+04, 2.10538259e+12, 4.51488735e+10, 4.63855321e+10,\n",
       "        1.48025725e+12, 1.59889351e+11, 1.59598178e+11],\n",
       "       [4.98831140e+04, 2.41630826e+12, 5.01102178e+10, 5.15080021e+10,\n",
       "        1.70716747e+12, 1.60853165e+11, 1.60458581e+11],\n",
       "       [5.16034973e+04, 2.50232348e+12, 5.41428164e+10, 5.52427480e+10,\n",
       "        1.78531044e+12, 1.35274951e+11, 1.35054110e+11],\n",
       "       [5.31069098e+04, 2.50621717e+12, 5.54336984e+10, 5.65449581e+10,\n",
       "        1.83540505e+12, 1.37353589e+11, 1.37179844e+11],\n",
       "       [5.50329580e+04, 2.60128631e+12, 4.31737055e+10, 4.29289147e+10,\n",
       "        1.89695447e+12, 1.44135723e+11, 1.43978099e+11],\n",
       "       [5.68034724e+04, 2.51631287e+12, 5.60493519e+10, 5.70838938e+10,\n",
       "        1.77724305e+12, 1.55779327e+11, 1.55608708e+11],\n",
       "       [5.79042020e+04, 2.44460950e+12, 4.88310290e+10, 5.03214134e+10,\n",
       "        1.72891175e+12, 1.66503962e+11, 1.66228518e+11]])"
      ]
     },
     "execution_count": 19,
     "metadata": {},
     "output_type": "execute_result"
    }
   ],
   "source": [
    "arr"
   ]
  },
  {
   "cell_type": "code",
   "execution_count": 20,
   "metadata": {},
   "outputs": [
    {
     "data": {
      "text/plain": [
       "array([[5.07083940e+09],\n",
       "       [5.17405908e+09],\n",
       "       [5.28468788e+09],\n",
       "       [5.37798714e+09],\n",
       "       [5.43921331e+09],\n",
       "       [5.62618672e+09],\n",
       "       [5.70389071e+09],\n",
       "       [5.75232419e+09],\n",
       "       [5.83225018e+09],\n",
       "       [6.00060607e+09],\n",
       "       [5.90245499e+09],\n",
       "       [5.94365128e+09],\n",
       "       [5.99131957e+09],\n",
       "       [6.10662074e+09],\n",
       "       [6.13200570e+09],\n",
       "       [6.05223629e+09],\n",
       "       [6.13098356e+09],\n",
       "       [5.93277528e+09],\n",
       "       [5.49539496e+09],\n",
       "       [5.70107581e+09],\n",
       "       [5.57070656e+09],\n",
       "       [5.36673028e+09],\n",
       "       [5.51961256e+09],\n",
       "       [5.56875926e+09],\n",
       "       [5.42080413e+09],\n",
       "       [5.31086141e+09]])"
      ]
     },
     "execution_count": 20,
     "metadata": {},
     "output_type": "execute_result"
    }
   ],
   "source": [
    "arr2"
   ]
  },
  {
   "cell_type": "code",
   "execution_count": 21,
   "metadata": {},
   "outputs": [
    {
     "data": {
      "text/plain": [
       "(26, 7)"
      ]
     },
     "execution_count": 21,
     "metadata": {},
     "output_type": "execute_result"
    }
   ],
   "source": [
    "arr.shape"
   ]
  },
  {
   "cell_type": "code",
   "execution_count": 22,
   "metadata": {},
   "outputs": [
    {
     "data": {
      "text/plain": [
       "(26, 1)"
      ]
     },
     "execution_count": 22,
     "metadata": {},
     "output_type": "execute_result"
    }
   ],
   "source": [
    "arr2.shape"
   ]
  },
  {
   "cell_type": "code",
   "execution_count": 23,
   "metadata": {},
   "outputs": [],
   "source": [
    "from sklearn.model_selection import train_test_split\n"
   ]
  },
  {
   "cell_type": "code",
   "execution_count": 24,
   "metadata": {},
   "outputs": [],
   "source": [
    "X_train, X_test, y_train, y_test = train_test_split(arr, arr2)"
   ]
  },
  {
   "cell_type": "code",
   "execution_count": 25,
   "metadata": {},
   "outputs": [],
   "source": [
    "from sklearn.preprocessing import StandardScaler\n",
    "X_scaler = StandardScaler().fit(X_train)"
   ]
  },
  {
   "cell_type": "code",
   "execution_count": 26,
   "metadata": {},
   "outputs": [],
   "source": [
    "X_train_scaled = X_scaler.transform(X_train)\n",
    "X_test_scaled = X_scaler.transform(X_test)"
   ]
  },
  {
   "cell_type": "code",
   "execution_count": 27,
   "metadata": {},
   "outputs": [],
   "source": [
    "from tensorflow.keras.models import Sequential\n",
    "from tensorflow.keras.layers import Dense"
   ]
  },
  {
   "cell_type": "code",
   "execution_count": null,
   "metadata": {},
   "outputs": [],
   "source": [
    "# def build_and_compile_model(norm):\n",
    "#     model = keras.Sequential([\n",
    "#       norm,\n",
    "#       layers.Dense(64, activation='relu'),\n",
    "#       layers.Dense(64, activation='relu'),\n",
    "#       layers.Dense(1)\n",
    "#     ])\n",
    "\n",
    "#     model.compile(loss='mean_absolute_error',\n",
    "#                 optimizer=tf.keras.optimizers.Adam(0.001))\n",
    "#     return model"
   ]
  },
  {
   "cell_type": "code",
   "execution_count": 28,
   "metadata": {},
   "outputs": [],
   "source": [
    "from tensorflow.keras.models import Sequential\n",
    "from tensorflow.keras.layers import Dense\n",
    "\n",
    "model = Sequential()\n",
    "model.add(Dense(units=6, activation='relu', input_dim=7))\n",
    "model.add(Dense(units=6, activation='relu'))\n",
    "model.add(Dense(units=1, activation='linear'))"
   ]
  },
  {
   "cell_type": "code",
   "execution_count": 30,
   "metadata": {},
   "outputs": [
    {
     "name": "stdout",
     "output_type": "stream",
     "text": [
      "Model: \"sequential\"\n",
      "_________________________________________________________________\n",
      "Layer (type)                 Output Shape              Param #   \n",
      "=================================================================\n",
      "dense (Dense)                (None, 6)                 48        \n",
      "_________________________________________________________________\n",
      "dense_1 (Dense)              (None, 6)                 42        \n",
      "_________________________________________________________________\n",
      "dense_2 (Dense)              (None, 1)                 7         \n",
      "=================================================================\n",
      "Total params: 97\n",
      "Trainable params: 97\n",
      "Non-trainable params: 0\n",
      "_________________________________________________________________\n"
     ]
    }
   ],
   "source": [
    "model.summary()"
   ]
  },
  {
   "cell_type": "code",
   "execution_count": 31,
   "metadata": {},
   "outputs": [],
   "source": [
    "model.compile(optimizer='adam',\n",
    "              loss='mse',\n",
    "              metrics=['mse','mae'])"
   ]
  },
  {
   "cell_type": "code",
   "execution_count": 34,
   "metadata": {},
   "outputs": [
    {
     "name": "stdout",
     "output_type": "stream",
     "text": [
      "Epoch 1/100\n",
      "1/1 - 1s - loss: 32310571950244102144.0000 - mse: 32310571950244102144.0000 - mae: 5675838464.0000\n",
      "Epoch 2/100\n",
      "1/1 - 0s - loss: 32310571950244102144.0000 - mse: 32310571950244102144.0000 - mae: 5675838464.0000\n",
      "Epoch 3/100\n",
      "1/1 - 0s - loss: 32310571950244102144.0000 - mse: 32310571950244102144.0000 - mae: 5675837952.0000\n",
      "Epoch 4/100\n",
      "1/1 - 0s - loss: 32310571950244102144.0000 - mse: 32310571950244102144.0000 - mae: 5675838464.0000\n",
      "Epoch 5/100\n",
      "1/1 - 0s - loss: 32310571950244102144.0000 - mse: 32310571950244102144.0000 - mae: 5675838464.0000\n",
      "Epoch 6/100\n",
      "1/1 - 0s - loss: 32310571950244102144.0000 - mse: 32310571950244102144.0000 - mae: 5675838464.0000\n",
      "Epoch 7/100\n",
      "1/1 - 0s - loss: 32310571950244102144.0000 - mse: 32310571950244102144.0000 - mae: 5675837952.0000\n",
      "Epoch 8/100\n",
      "1/1 - 0s - loss: 32310571950244102144.0000 - mse: 32310571950244102144.0000 - mae: 5675838464.0000\n",
      "Epoch 9/100\n",
      "1/1 - 0s - loss: 32310571950244102144.0000 - mse: 32310571950244102144.0000 - mae: 5675838464.0000\n",
      "Epoch 10/100\n",
      "1/1 - 0s - loss: 32310571950244102144.0000 - mse: 32310571950244102144.0000 - mae: 5675837952.0000\n",
      "Epoch 11/100\n",
      "1/1 - 0s - loss: 32310571950244102144.0000 - mse: 32310571950244102144.0000 - mae: 5675838464.0000\n",
      "Epoch 12/100\n",
      "1/1 - 0s - loss: 32310571950244102144.0000 - mse: 32310571950244102144.0000 - mae: 5675838464.0000\n",
      "Epoch 13/100\n",
      "1/1 - 0s - loss: 32310576348290613248.0000 - mse: 32310576348290613248.0000 - mae: 5675837952.0000\n",
      "Epoch 14/100\n",
      "1/1 - 0s - loss: 32310571950244102144.0000 - mse: 32310571950244102144.0000 - mae: 5675838464.0000\n",
      "Epoch 15/100\n",
      "1/1 - 0s - loss: 32310571950244102144.0000 - mse: 32310571950244102144.0000 - mae: 5675838464.0000\n",
      "Epoch 16/100\n",
      "1/1 - 0s - loss: 32310571950244102144.0000 - mse: 32310571950244102144.0000 - mae: 5675838464.0000\n",
      "Epoch 17/100\n",
      "1/1 - 0s - loss: 32310571950244102144.0000 - mse: 32310571950244102144.0000 - mae: 5675838464.0000\n",
      "Epoch 18/100\n",
      "1/1 - 0s - loss: 32310571950244102144.0000 - mse: 32310571950244102144.0000 - mae: 5675837952.0000\n",
      "Epoch 19/100\n",
      "1/1 - 0s - loss: 32310571950244102144.0000 - mse: 32310571950244102144.0000 - mae: 5675838464.0000\n",
      "Epoch 20/100\n",
      "1/1 - 0s - loss: 32310571950244102144.0000 - mse: 32310571950244102144.0000 - mae: 5675838464.0000\n",
      "Epoch 21/100\n",
      "1/1 - 0s - loss: 32310571950244102144.0000 - mse: 32310571950244102144.0000 - mae: 5675838464.0000\n",
      "Epoch 22/100\n",
      "1/1 - 0s - loss: 32310571950244102144.0000 - mse: 32310571950244102144.0000 - mae: 5675838464.0000\n",
      "Epoch 23/100\n",
      "1/1 - 0s - loss: 32310571950244102144.0000 - mse: 32310571950244102144.0000 - mae: 5675838464.0000\n",
      "Epoch 24/100\n",
      "1/1 - 0s - loss: 32310571950244102144.0000 - mse: 32310571950244102144.0000 - mae: 5675837952.0000\n",
      "Epoch 25/100\n",
      "1/1 - 0s - loss: 32310571950244102144.0000 - mse: 32310571950244102144.0000 - mae: 5675838464.0000\n",
      "Epoch 26/100\n",
      "1/1 - 0s - loss: 32310576348290613248.0000 - mse: 32310576348290613248.0000 - mae: 5675838464.0000\n",
      "Epoch 27/100\n",
      "1/1 - 0s - loss: 32310576348290613248.0000 - mse: 32310576348290613248.0000 - mae: 5675838464.0000\n",
      "Epoch 28/100\n",
      "1/1 - 0s - loss: 32310576348290613248.0000 - mse: 32310576348290613248.0000 - mae: 5675837952.0000\n",
      "Epoch 29/100\n",
      "1/1 - 0s - loss: 32310571950244102144.0000 - mse: 32310571950244102144.0000 - mae: 5675838464.0000\n",
      "Epoch 30/100\n",
      "1/1 - 0s - loss: 32310571950244102144.0000 - mse: 32310571950244102144.0000 - mae: 5675838464.0000\n",
      "Epoch 31/100\n",
      "1/1 - 0s - loss: 32310571950244102144.0000 - mse: 32310571950244102144.0000 - mae: 5675838464.0000\n",
      "Epoch 32/100\n",
      "1/1 - 0s - loss: 32310571950244102144.0000 - mse: 32310571950244102144.0000 - mae: 5675838464.0000\n",
      "Epoch 33/100\n",
      "1/1 - 0s - loss: 32310571950244102144.0000 - mse: 32310571950244102144.0000 - mae: 5675838464.0000\n",
      "Epoch 34/100\n",
      "1/1 - 0s - loss: 32310571950244102144.0000 - mse: 32310571950244102144.0000 - mae: 5675838464.0000\n",
      "Epoch 35/100\n",
      "1/1 - 0s - loss: 32310571950244102144.0000 - mse: 32310571950244102144.0000 - mae: 5675838464.0000\n",
      "Epoch 36/100\n",
      "1/1 - 0s - loss: 32310576348290613248.0000 - mse: 32310576348290613248.0000 - mae: 5675838464.0000\n",
      "Epoch 37/100\n",
      "1/1 - 0s - loss: 32310571950244102144.0000 - mse: 32310571950244102144.0000 - mae: 5675838464.0000\n",
      "Epoch 38/100\n",
      "1/1 - 0s - loss: 32310571950244102144.0000 - mse: 32310571950244102144.0000 - mae: 5675837952.0000\n",
      "Epoch 39/100\n",
      "1/1 - 0s - loss: 32310571950244102144.0000 - mse: 32310571950244102144.0000 - mae: 5675838464.0000\n",
      "Epoch 40/100\n",
      "1/1 - 0s - loss: 32310576348290613248.0000 - mse: 32310576348290613248.0000 - mae: 5675838464.0000\n",
      "Epoch 41/100\n",
      "1/1 - 0s - loss: 32310571950244102144.0000 - mse: 32310571950244102144.0000 - mae: 5675838464.0000\n",
      "Epoch 42/100\n",
      "1/1 - 0s - loss: 32310571950244102144.0000 - mse: 32310571950244102144.0000 - mae: 5675837952.0000\n",
      "Epoch 43/100\n",
      "1/1 - 0s - loss: 32310576348290613248.0000 - mse: 32310576348290613248.0000 - mae: 5675838464.0000\n",
      "Epoch 44/100\n",
      "1/1 - 0s - loss: 32310571950244102144.0000 - mse: 32310571950244102144.0000 - mae: 5675837952.0000\n",
      "Epoch 45/100\n",
      "1/1 - 0s - loss: 32310571950244102144.0000 - mse: 32310571950244102144.0000 - mae: 5675838464.0000\n",
      "Epoch 46/100\n",
      "1/1 - 0s - loss: 32310571950244102144.0000 - mse: 32310571950244102144.0000 - mae: 5675838464.0000\n",
      "Epoch 47/100\n",
      "1/1 - 0s - loss: 32310571950244102144.0000 - mse: 32310571950244102144.0000 - mae: 5675838464.0000\n",
      "Epoch 48/100\n",
      "1/1 - 0s - loss: 32310571950244102144.0000 - mse: 32310571950244102144.0000 - mae: 5675838464.0000\n",
      "Epoch 49/100\n",
      "1/1 - 0s - loss: 32310571950244102144.0000 - mse: 32310571950244102144.0000 - mae: 5675838464.0000\n",
      "Epoch 50/100\n",
      "1/1 - 0s - loss: 32310571950244102144.0000 - mse: 32310571950244102144.0000 - mae: 5675837952.0000\n",
      "Epoch 51/100\n",
      "1/1 - 0s - loss: 32310571950244102144.0000 - mse: 32310571950244102144.0000 - mae: 5675838464.0000\n",
      "Epoch 52/100\n",
      "1/1 - 0s - loss: 32310571950244102144.0000 - mse: 32310571950244102144.0000 - mae: 5675837952.0000\n",
      "Epoch 53/100\n",
      "1/1 - 0s - loss: 32310571950244102144.0000 - mse: 32310571950244102144.0000 - mae: 5675838464.0000\n",
      "Epoch 54/100\n",
      "1/1 - 0s - loss: 32310571950244102144.0000 - mse: 32310571950244102144.0000 - mae: 5675837952.0000\n",
      "Epoch 55/100\n",
      "1/1 - 0s - loss: 32310571950244102144.0000 - mse: 32310571950244102144.0000 - mae: 5675838464.0000\n",
      "Epoch 56/100\n",
      "1/1 - 0s - loss: 32310571950244102144.0000 - mse: 32310571950244102144.0000 - mae: 5675837952.0000\n",
      "Epoch 57/100\n",
      "1/1 - 0s - loss: 32310571950244102144.0000 - mse: 32310571950244102144.0000 - mae: 5675838464.0000\n",
      "Epoch 58/100\n",
      "1/1 - 0s - loss: 32310571950244102144.0000 - mse: 32310571950244102144.0000 - mae: 5675837952.0000\n",
      "Epoch 59/100\n",
      "1/1 - 0s - loss: 32310571950244102144.0000 - mse: 32310571950244102144.0000 - mae: 5675838464.0000\n",
      "Epoch 60/100\n",
      "1/1 - 0s - loss: 32310571950244102144.0000 - mse: 32310571950244102144.0000 - mae: 5675837952.0000\n",
      "Epoch 61/100\n",
      "1/1 - 0s - loss: 32310571950244102144.0000 - mse: 32310571950244102144.0000 - mae: 5675837952.0000\n",
      "Epoch 62/100\n",
      "1/1 - 0s - loss: 32310576348290613248.0000 - mse: 32310576348290613248.0000 - mae: 5675837952.0000\n",
      "Epoch 63/100\n",
      "1/1 - 0s - loss: 32310571950244102144.0000 - mse: 32310571950244102144.0000 - mae: 5675837952.0000\n",
      "Epoch 64/100\n",
      "1/1 - 0s - loss: 32310576348290613248.0000 - mse: 32310576348290613248.0000 - mae: 5675838464.0000\n",
      "Epoch 65/100\n",
      "1/1 - 0s - loss: 32310571950244102144.0000 - mse: 32310571950244102144.0000 - mae: 5675838464.0000\n",
      "Epoch 66/100\n",
      "1/1 - 0s - loss: 32310571950244102144.0000 - mse: 32310571950244102144.0000 - mae: 5675838464.0000\n",
      "Epoch 67/100\n",
      "1/1 - 0s - loss: 32310571950244102144.0000 - mse: 32310571950244102144.0000 - mae: 5675838464.0000\n",
      "Epoch 68/100\n",
      "1/1 - 0s - loss: 32310576348290613248.0000 - mse: 32310576348290613248.0000 - mae: 5675838464.0000\n",
      "Epoch 69/100\n",
      "1/1 - 0s - loss: 32310571950244102144.0000 - mse: 32310571950244102144.0000 - mae: 5675837952.0000\n",
      "Epoch 70/100\n",
      "1/1 - 0s - loss: 32310571950244102144.0000 - mse: 32310571950244102144.0000 - mae: 5675838464.0000\n",
      "Epoch 71/100\n",
      "1/1 - 0s - loss: 32310571950244102144.0000 - mse: 32310571950244102144.0000 - mae: 5675838464.0000\n",
      "Epoch 72/100\n",
      "1/1 - 0s - loss: 32310571950244102144.0000 - mse: 32310571950244102144.0000 - mae: 5675838464.0000\n",
      "Epoch 73/100\n",
      "1/1 - 0s - loss: 32310571950244102144.0000 - mse: 32310571950244102144.0000 - mae: 5675838464.0000\n",
      "Epoch 74/100\n",
      "1/1 - 0s - loss: 32310571950244102144.0000 - mse: 32310571950244102144.0000 - mae: 5675838464.0000\n"
     ]
    },
    {
     "name": "stdout",
     "output_type": "stream",
     "text": [
      "Epoch 75/100\n",
      "1/1 - 0s - loss: 32310571950244102144.0000 - mse: 32310571950244102144.0000 - mae: 5675838464.0000\n",
      "Epoch 76/100\n",
      "1/1 - 0s - loss: 32310571950244102144.0000 - mse: 32310571950244102144.0000 - mae: 5675837952.0000\n",
      "Epoch 77/100\n",
      "1/1 - 0s - loss: 32310571950244102144.0000 - mse: 32310571950244102144.0000 - mae: 5675837952.0000\n",
      "Epoch 78/100\n",
      "1/1 - 0s - loss: 32310571950244102144.0000 - mse: 32310571950244102144.0000 - mae: 5675837952.0000\n",
      "Epoch 79/100\n",
      "1/1 - 0s - loss: 32310571950244102144.0000 - mse: 32310571950244102144.0000 - mae: 5675838464.0000\n",
      "Epoch 80/100\n",
      "1/1 - 0s - loss: 32310571950244102144.0000 - mse: 32310571950244102144.0000 - mae: 5675838464.0000\n",
      "Epoch 81/100\n",
      "1/1 - 0s - loss: 32310571950244102144.0000 - mse: 32310571950244102144.0000 - mae: 5675837952.0000\n",
      "Epoch 82/100\n",
      "1/1 - 0s - loss: 32310576348290613248.0000 - mse: 32310576348290613248.0000 - mae: 5675838464.0000\n",
      "Epoch 83/100\n",
      "1/1 - 0s - loss: 32310571950244102144.0000 - mse: 32310571950244102144.0000 - mae: 5675838464.0000\n",
      "Epoch 84/100\n",
      "1/1 - 0s - loss: 32310571950244102144.0000 - mse: 32310571950244102144.0000 - mae: 5675838464.0000\n",
      "Epoch 85/100\n",
      "1/1 - 0s - loss: 32310571950244102144.0000 - mse: 32310571950244102144.0000 - mae: 5675838464.0000\n",
      "Epoch 86/100\n",
      "1/1 - 0s - loss: 32310571950244102144.0000 - mse: 32310571950244102144.0000 - mae: 5675838464.0000\n",
      "Epoch 87/100\n",
      "1/1 - 0s - loss: 32310571950244102144.0000 - mse: 32310571950244102144.0000 - mae: 5675838464.0000\n",
      "Epoch 88/100\n",
      "1/1 - 0s - loss: 32310571950244102144.0000 - mse: 32310571950244102144.0000 - mae: 5675838464.0000\n",
      "Epoch 89/100\n",
      "1/1 - 0s - loss: 32310571950244102144.0000 - mse: 32310571950244102144.0000 - mae: 5675838464.0000\n",
      "Epoch 90/100\n",
      "1/1 - 0s - loss: 32310571950244102144.0000 - mse: 32310571950244102144.0000 - mae: 5675838464.0000\n",
      "Epoch 91/100\n",
      "1/1 - 0s - loss: 32310571950244102144.0000 - mse: 32310571950244102144.0000 - mae: 5675837952.0000\n",
      "Epoch 92/100\n",
      "1/1 - 0s - loss: 32310571950244102144.0000 - mse: 32310571950244102144.0000 - mae: 5675837952.0000\n",
      "Epoch 93/100\n",
      "1/1 - 0s - loss: 32310571950244102144.0000 - mse: 32310571950244102144.0000 - mae: 5675838464.0000\n",
      "Epoch 94/100\n",
      "1/1 - 0s - loss: 32310571950244102144.0000 - mse: 32310571950244102144.0000 - mae: 5675838464.0000\n",
      "Epoch 95/100\n",
      "1/1 - 0s - loss: 32310571950244102144.0000 - mse: 32310571950244102144.0000 - mae: 5675838464.0000\n",
      "Epoch 96/100\n",
      "1/1 - 0s - loss: 32310571950244102144.0000 - mse: 32310571950244102144.0000 - mae: 5675838464.0000\n",
      "Epoch 97/100\n",
      "1/1 - 0s - loss: 32310571950244102144.0000 - mse: 32310571950244102144.0000 - mae: 5675838464.0000\n",
      "Epoch 98/100\n",
      "1/1 - 0s - loss: 32310571950244102144.0000 - mse: 32310571950244102144.0000 - mae: 5675838464.0000\n",
      "Epoch 99/100\n",
      "1/1 - 0s - loss: 32310571950244102144.0000 - mse: 32310571950244102144.0000 - mae: 5675837952.0000\n",
      "Epoch 100/100\n",
      "1/1 - 0s - loss: 32310571950244102144.0000 - mse: 32310571950244102144.0000 - mae: 5675838464.0000\n"
     ]
    },
    {
     "data": {
      "text/plain": [
       "<keras.callbacks.History at 0x27a87608eb0>"
      ]
     },
     "execution_count": 34,
     "metadata": {},
     "output_type": "execute_result"
    }
   ],
   "source": [
    "model.fit(\n",
    "    X_train_scaled,\n",
    "    y_train,\n",
    "    epochs=100,\n",
    "    shuffle=True,\n",
    "    verbose=2)"
   ]
  },
  {
   "cell_type": "code",
   "execution_count": null,
   "metadata": {},
   "outputs": [],
   "source": []
  }
 ],
 "metadata": {
  "kernelspec": {
   "display_name": "Python 3",
   "language": "python",
   "name": "python3"
  },
  "language_info": {
   "codemirror_mode": {
    "name": "ipython",
    "version": 3
   },
   "file_extension": ".py",
   "mimetype": "text/x-python",
   "name": "python",
   "nbconvert_exporter": "python",
   "pygments_lexer": "ipython3",
   "version": "3.8.5"
  }
 },
 "nbformat": 4,
 "nbformat_minor": 5
}
